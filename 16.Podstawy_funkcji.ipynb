{
 "cells": [
  {
   "cell_type": "code",
   "execution_count": 1,
   "metadata": {},
   "outputs": [],
   "source": [
    "# def <nazwa>(arg1, arg2, ... , argN):\n",
    "#    <instrukcje>       - ciało funkcji\n",
    "#    return <wartość>   - opcjonalnie"
   ]
  },
  {
   "cell_type": "code",
   "execution_count": 2,
   "metadata": {},
   "outputs": [],
   "source": [
    "# MOŻNA TEŻ ZAGNIEŻDŻAĆ FUNKCJE W PĘTLACH, NP.:\n",
    "# if test:\n",
    "#     def func():\n",
    "#        ...\n",
    "# else:\n",
    "#     def func():\n",
    "#        ...\n",
    "# ...\n",
    "# func()"
   ]
  },
  {
   "cell_type": "code",
   "execution_count": 3,
   "metadata": {},
   "outputs": [],
   "source": [
    "def times(x, y):    # utworzenie i przypisanie funkcji\n",
    "    return x * y    # ciało funkcji wykonywane po wywołaniu"
   ]
  },
  {
   "cell_type": "code",
   "execution_count": 4,
   "metadata": {},
   "outputs": [
    {
     "data": {
      "text/plain": [
       "6"
      ]
     },
     "execution_count": 4,
     "metadata": {},
     "output_type": "execute_result"
    }
   ],
   "source": [
    "times(2, 3)  # wywołanie funkcji"
   ]
  },
  {
   "cell_type": "code",
   "execution_count": 5,
   "metadata": {},
   "outputs": [],
   "source": [
    "x = times(4, 5)  # mozna przypisac wywołaie funkcji do zmiennej i użyc jej gdy bedzie potrzebna"
   ]
  },
  {
   "cell_type": "code",
   "execution_count": 6,
   "metadata": {},
   "outputs": [
    {
     "data": {
      "text/plain": [
       "20"
      ]
     },
     "execution_count": 6,
     "metadata": {},
     "output_type": "execute_result"
    }
   ],
   "source": [
    "x"
   ]
  },
  {
   "cell_type": "code",
   "execution_count": 7,
   "metadata": {},
   "outputs": [
    {
     "data": {
      "text/plain": [
       "'ni!ni!ni!ni!'"
      ]
     },
     "execution_count": 7,
     "metadata": {},
     "output_type": "execute_result"
    }
   ],
   "source": [
    "times('ni!', 4)  # funkcja nadal działa, można ją wykonywać na różnych typach danych"
   ]
  },
  {
   "cell_type": "code",
   "execution_count": 8,
   "metadata": {},
   "outputs": [],
   "source": [
    "def czwspolna(str1, str2):          # funkcja zwracająca wspólne litery dwóch słów\n",
    "    lista = []                      # lista do ktorej beda zbierane wspolne litery\n",
    "    for x in str1:                  # przeszukanie pierwszego stringa\n",
    "        if x in str2:               # przeszukanie drugiego stringa\n",
    "            lista.append(x)         # umieszczenie w liscie litery ktora znajduje sie w obu stringach\n",
    "    return lista                    # zwrocenie wyniku czyli listy wspolnych liter"
   ]
  },
  {
   "cell_type": "code",
   "execution_count": 9,
   "metadata": {},
   "outputs": [],
   "source": [
    "s1 = 'jajka'\n",
    "s2 = 'jabłka'"
   ]
  },
  {
   "cell_type": "code",
   "execution_count": 10,
   "metadata": {},
   "outputs": [
    {
     "data": {
      "text/plain": [
       "['j', 'a', 'j', 'k', 'a']"
      ]
     },
     "execution_count": 10,
     "metadata": {},
     "output_type": "execute_result"
    }
   ],
   "source": [
    "czwspolna(s1, s2)"
   ]
  },
  {
   "cell_type": "code",
   "execution_count": 11,
   "metadata": {},
   "outputs": [
    {
     "data": {
      "text/plain": [
       "['j', 'a', 'j', 'k', 'a']"
      ]
     },
     "execution_count": 11,
     "metadata": {},
     "output_type": "execute_result"
    }
   ],
   "source": [
    "[x for x in s1 if x in s2]  # to samo za pomocą listy składanej"
   ]
  },
  {
   "cell_type": "code",
   "execution_count": 12,
   "metadata": {},
   "outputs": [
    {
     "data": {
      "text/plain": [
       "[1]"
      ]
     },
     "execution_count": 12,
     "metadata": {},
     "output_type": "execute_result"
    }
   ],
   "source": [
    "czwspolna([1, 2, 3], (1, 4))  # dziala na roznych typach obiektow"
   ]
  },
  {
   "cell_type": "code",
   "execution_count": null,
   "metadata": {},
   "outputs": [],
   "source": []
  }
 ],
 "metadata": {
  "kernelspec": {
   "display_name": "Python 3",
   "language": "python",
   "name": "python3"
  },
  "language_info": {
   "codemirror_mode": {
    "name": "ipython",
    "version": 3
   },
   "file_extension": ".py",
   "mimetype": "text/x-python",
   "name": "python",
   "nbconvert_exporter": "python",
   "pygments_lexer": "ipython3",
   "version": "3.8.1"
  }
 },
 "nbformat": 4,
 "nbformat_minor": 2
}
