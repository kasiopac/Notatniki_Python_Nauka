{
 "cells": [
  {
   "cell_type": "code",
   "execution_count": 1,
   "metadata": {},
   "outputs": [
    {
     "name": "stdout",
     "output_type": "stream",
     "text": [
      "wpisz liczbę:stop\n",
      "koniec\n"
     ]
    }
   ],
   "source": [
    "while True:\n",
    "    reply=input('wpisz liczbę:')\n",
    "    if reply == 'stop': break\n",
    "    print(int(reply)**2)\n",
    "print('koniec')"
   ]
  },
  {
   "cell_type": "code",
   "execution_count": 1,
   "metadata": {},
   "outputs": [
    {
     "name": "stdout",
     "output_type": "stream",
     "text": [
      "wpisz coś maleńka:2\n",
      "8\n",
      "wpisz coś maleńka:3\n",
      "27\n",
      "wpisz coś maleńka:niet\n",
      "hasta la vista bejbe\n"
     ]
    }
   ],
   "source": [
    "while True:\n",
    "    reply = input('wpisz coś maleńka:')\n",
    "    if reply == 'niet': break\n",
    "    print(int(reply)**3)\n",
    "print('hasta la vista bejbe')"
   ]
  },
  {
   "cell_type": "code",
   "execution_count": 2,
   "metadata": {},
   "outputs": [
    {
     "name": "stdout",
     "output_type": "stream",
     "text": [
      "wpisz coś maleńka:\n",
      "r\n",
      "numerek poproszę\n",
      "wpisz coś maleńka:\n",
      "3\n",
      "27\n",
      "wpisz coś maleńka:\n",
      "nie dzisiaj\n",
      "bajo\n"
     ]
    }
   ],
   "source": [
    "while True:\n",
    "    reply = input('wpisz coś maleńka:\\n')\n",
    "    if reply == 'nie dzisiaj': break\n",
    "    elif not reply.isdigit():\n",
    "        print('numerek poproszę')\n",
    "    else:\n",
    "        print(int(reply)**3)\n",
    "print('bajo')"
   ]
  },
  {
   "cell_type": "code",
   "execution_count": null,
   "metadata": {},
   "outputs": [],
   "source": [
    "while True:\n",
    "    wpis = input('wpisz coś gościu:\\n')\n",
    "    if wpis == 'stop': break\n",
    "    try:\n",
    "        num = int(wpis)\n",
    "    except:\n",
    "        print('numerek poproszę!')\n",
    "    else:\n",
    "        print(int(wpis)**2)\n",
    "print('żegnaj na zawsze')"
   ]
  },
  {
   "cell_type": "code",
   "execution_count": null,
   "metadata": {},
   "outputs": [],
   "source": [
    "while True:\n",
    "    wpis = input('wpisz numerek, pobawimy sie w matme:\\n')\n",
    "    if wpis == 'nie chcę': break\n",
    "    try: \n",
    "        num = int(wpis)\n",
    "    except: \n",
    "        print('eto matematyka, tylko numerki przyjmuje!\\n')\n",
    "    if num < 20: \n",
    "        print('co tak mało? nie wierzysz we mnie?\\n')\n",
    "    else:\n",
    "        print(num**2)\n",
    "print('arriwederczi')"
   ]
  },
  {
   "cell_type": "code",
   "execution_count": null,
   "metadata": {},
   "outputs": [],
   "source": []
  }
 ],
 "metadata": {
  "kernelspec": {
   "display_name": "Python 3",
   "language": "python",
   "name": "python3"
  },
  "language_info": {
   "codemirror_mode": {
    "name": "ipython",
    "version": 3
   },
   "file_extension": ".py",
   "mimetype": "text/x-python",
   "name": "python",
   "nbconvert_exporter": "python",
   "pygments_lexer": "ipython3",
   "version": "3.8.1"
  }
 },
 "nbformat": 4,
 "nbformat_minor": 2
}
