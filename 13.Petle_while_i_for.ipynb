{
 "cells": [
  {
   "cell_type": "markdown",
   "metadata": {},
   "source": [
    "### Pętla WHILE jest wykonywana raz za razem dopóki test znajdujący się w nagłówku zwraca prawdę (prawdą jest też obiekt niepusty różny od zera)"
   ]
  },
  {
   "cell_type": "markdown",
   "metadata": {},
   "source": [
    " while <test1>:               # test pętli\n",
    "        <instrukcja1>         # ciało pętli\n",
    "        if <test2>: break     # wyjście z pętli i pominięcie reszty\n",
    "        if <test3>: continue  # przejscie do nagłówka pętli - do testu1\n",
    " else:                        # opcjonalne else\n",
    "        <instrukcja2>         # wykonane, jesli pętli nie zakonczylo break"
   ]
  },
  {
   "cell_type": "code",
   "execution_count": 1,
   "metadata": {},
   "outputs": [],
   "source": [
    "x = 'mielonka'"
   ]
  },
  {
   "cell_type": "code",
   "execution_count": 2,
   "metadata": {},
   "outputs": [
    {
     "name": "stdout",
     "output_type": "stream",
     "text": [
      "mielonka ielonka elonka lonka onka nka ka a "
     ]
    }
   ],
   "source": [
    "while x:\n",
    "    print(x, end=' ')\n",
    "    x = x[1:]           # wyswietla łancuch znakow, za kazdym kolejnym razem odcinajac pierwsza litere aż się skończą te litery"
   ]
  },
  {
   "cell_type": "code",
   "execution_count": 3,
   "metadata": {},
   "outputs": [
    {
     "name": "stdout",
     "output_type": "stream",
     "text": [
      "0 1 2 3 4 5 6 7 8 9 "
     ]
    }
   ],
   "source": [
    "a = 0; b = 10\n",
    "while a < b:\n",
    "    print(a, end=' ')\n",
    "    a += 1"
   ]
  },
  {
   "cell_type": "markdown",
   "metadata": {},
   "source": [
    "### *break* - wychodzi z najblizszej obejmujacej dana instrukcję pętli (omija całą instrukcję pętli)\n",
    "### *continue* - przechodzi na górę obejmująccej daną instrukcję pętli (do jej wiersza nagłówka)\n",
    "### *pass* - nie nie robi, jest pustym pojemnikiem instrukcji (jest jeszcze w ogole uzywany?)\n",
    "### blok pętli *else* - wykonywany jest tylko wtedy gdy pętla zakonczy sie normalnie - bez trafienia na *break*"
   ]
  },
  {
   "cell_type": "code",
   "execution_count": 4,
   "metadata": {},
   "outputs": [
    {
     "name": "stdout",
     "output_type": "stream",
     "text": [
      "8 6 4 2 0 "
     ]
    }
   ],
   "source": [
    "x = 10   # poniżej pętla wypluwająca liczby parzyste mniejsze od 10\n",
    "while x:\n",
    "    x = x-1\n",
    "    if x% 2 != 0: continue  #jeśli reszta z dzielenia x przez dwa jest różna od zera, to nie wykonujemy pętli do końca tylko wracamy do nagłówka\n",
    "    print(x, end = ' ')"
   ]
  },
  {
   "cell_type": "code",
   "execution_count": 5,
   "metadata": {},
   "outputs": [
    {
     "name": "stdout",
     "output_type": "stream",
     "text": [
      "8 6 4 2 0 "
     ]
    }
   ],
   "source": [
    "x = 10\n",
    "while x:\n",
    "    x -= 1\n",
    "    if x % 2 == 0:\n",
    "        print(x, end=' ')"
   ]
  },
  {
   "cell_type": "code",
   "execution_count": 6,
   "metadata": {},
   "outputs": [
    {
     "name": "stdout",
     "output_type": "stream",
     "text": [
      "podaj imię:stop\n"
     ]
    }
   ],
   "source": [
    "while True:\n",
    "    name = input('podaj imię:')\n",
    "    if  name == 'stop': break\n",
    "    age = input('podaj wiek:')\n",
    "    print('witaj,', name, ':)', 80 - int(age), 'lat: tyle życia ci zostało :P')\n",
    "    "
   ]
  },
  {
   "cell_type": "code",
   "execution_count": 7,
   "metadata": {},
   "outputs": [
    {
     "name": "stdout",
     "output_type": "stream",
     "text": [
      "podaj wiek: daj mi spokoj\n",
      "papatki\n"
     ]
    }
   ],
   "source": [
    "while True:\n",
    "    wiek = input('podaj wiek: ')\n",
    "    if wiek == 'daj mi spokoj': break\n",
    "    if not wiek.isdigit():\n",
    "        print('lata podajemy w liczbach naturalnych, kolego')\n",
    "        continue\n",
    "    if int(wiek)<20: print('ty, małolacie')\n",
    "    if 20 <= int(wiek) < 30: print('korzystaj z najlepszych lat')\n",
    "    if 30 <= int(wiek) < 50: print('nie daj sie kryzysowi wieku średniego')\n",
    "    if int(wiek) >= 51: print('masz juz cieple bambosze na starosc?')\n",
    "print('papatki')"
   ]
  },
  {
   "cell_type": "code",
   "execution_count": 8,
   "metadata": {},
   "outputs": [
    {
     "name": "stdout",
     "output_type": "stream",
     "text": [
      "147 ma czynnik 49\n"
     ]
    }
   ],
   "source": [
    "y = 147            # sprawdzamy czy y jest liczba pierwsza\n",
    "x = y // 2         # dzielenie bez reszty\n",
    "while x > 1:\n",
    "    if y % x == 0:   # jeśli reszta z dzielenie x na y wynosi 0 to x jest czynnikiem y\n",
    "        print(y, 'ma czynnik', x)\n",
    "        break\n",
    "    x -= 1   # szukamy kolejnego, mniejszego czynnika\n",
    "else:\n",
    "    print(y, 'jest liczbą pierwszą')"
   ]
  },
  {
   "cell_type": "markdown",
   "metadata": {},
   "source": [
    "###  pętla FOR jest iteratorem po SEKWENCJACH ale tez po slownikach i plikach"
   ]
  },
  {
   "cell_type": "markdown",
   "metadata": {},
   "source": [
    "for <cel> in <obiekt>:     # przypisanie elementów obiektu do celu\n",
    "    <instrukcje1>          # powtarzane ciało pętli: użycie celu\n",
    "    if <test1>: break      # wyjscie z petli, pominiecie else\n",
    "    if <test2>: continue   # przejscie na góre petli\n",
    "else:                      # jesli nie natrafilismy na break\n",
    "    <instrukcje2>"
   ]
  },
  {
   "cell_type": "code",
   "execution_count": 9,
   "metadata": {},
   "outputs": [
    {
     "name": "stdout",
     "output_type": "stream",
     "text": [
      "M . I . E . L . O . N . K . A . "
     ]
    }
   ],
   "source": [
    "X = 'mielonka'    # pętla przechodzi elementy po stringu\n",
    "for x in X: print(x.upper(), end = ' . ')"
   ]
  },
  {
   "cell_type": "code",
   "execution_count": 10,
   "metadata": {},
   "outputs": [],
   "source": [
    "sum = 0\n",
    "for x in [1, 2, 3, 4]:   # pętla przechodzi elementy po liscie\n",
    "    sum = sum + x"
   ]
  },
  {
   "cell_type": "code",
   "execution_count": 11,
   "metadata": {},
   "outputs": [
    {
     "data": {
      "text/plain": [
       "10"
      ]
     },
     "execution_count": 11,
     "metadata": {},
     "output_type": "execute_result"
    }
   ],
   "source": [
    "sum"
   ]
  },
  {
   "cell_type": "code",
   "execution_count": 12,
   "metadata": {},
   "outputs": [],
   "source": [
    "iloczyn = 1\n",
    "for liczba in [1, 2, 3, 4]: iloczyn *= liczba"
   ]
  },
  {
   "cell_type": "code",
   "execution_count": 13,
   "metadata": {},
   "outputs": [
    {
     "data": {
      "text/plain": [
       "24"
      ]
     },
     "execution_count": 13,
     "metadata": {},
     "output_type": "execute_result"
    }
   ],
   "source": [
    "iloczyn"
   ]
  },
  {
   "cell_type": "code",
   "execution_count": 14,
   "metadata": {},
   "outputs": [],
   "source": [
    "T = ('jestem', 'totalnie', 'git') "
   ]
  },
  {
   "cell_type": "code",
   "execution_count": 15,
   "metadata": {},
   "outputs": [
    {
     "name": "stdout",
     "output_type": "stream",
     "text": [
      "jestem totalnie git "
     ]
    }
   ],
   "source": [
    "for x in T: print(x, end=' ')  # pętla przechodzi elementy po krotce"
   ]
  },
  {
   "cell_type": "code",
   "execution_count": 16,
   "metadata": {},
   "outputs": [],
   "source": [
    "T = [(1, 2), (3, 4), (5, 6)]"
   ]
  },
  {
   "cell_type": "code",
   "execution_count": 17,
   "metadata": {},
   "outputs": [
    {
     "name": "stdout",
     "output_type": "stream",
     "text": [
      "1 2. 3 4. 5 6. "
     ]
    }
   ],
   "source": [
    "for (a, b) in T: print(a, b, end='. ')    # przypisalam całe krotki do elementu"
   ]
  },
  {
   "cell_type": "code",
   "execution_count": 18,
   "metadata": {},
   "outputs": [
    {
     "name": "stdout",
     "output_type": "stream",
     "text": [
      "a szczałka 1\n",
      "b szczałka 2\n",
      "c szczałka 3\n"
     ]
    }
   ],
   "source": [
    "D = {'a': 1, 'b': 2, 'c': 3}\n",
    "for key in D:\n",
    "    print(key, 'szczałka', D[key])"
   ]
  },
  {
   "cell_type": "code",
   "execution_count": 19,
   "metadata": {},
   "outputs": [
    {
     "data": {
      "text/plain": [
       "dict_items([('a', 1), ('b', 2), ('c', 3)])"
      ]
     },
     "execution_count": 19,
     "metadata": {},
     "output_type": "execute_result"
    }
   ],
   "source": [
    "D.items()"
   ]
  },
  {
   "cell_type": "code",
   "execution_count": 20,
   "metadata": {},
   "outputs": [
    {
     "name": "stdout",
     "output_type": "stream",
     "text": [
      "a szczalka 1\n",
      "b szczalka 2\n",
      "c szczalka 3\n"
     ]
    }
   ],
   "source": [
    "for (klucz, wartosc) in D.items():    # dlatego ze itemy slownika sa zapisane przez pythona jako ('a', 1) itp\n",
    "    print(klucz, 'szczalka', wartosc)"
   ]
  },
  {
   "cell_type": "code",
   "execution_count": 21,
   "metadata": {},
   "outputs": [],
   "source": [
    "((a, b), c) = ((1, 2), 3)"
   ]
  },
  {
   "cell_type": "code",
   "execution_count": 22,
   "metadata": {},
   "outputs": [
    {
     "data": {
      "text/plain": [
       "(1, 2, 3)"
      ]
     },
     "execution_count": 22,
     "metadata": {},
     "output_type": "execute_result"
    }
   ],
   "source": [
    "a, b, c"
   ]
  },
  {
   "cell_type": "code",
   "execution_count": 23,
   "metadata": {},
   "outputs": [
    {
     "name": "stdout",
     "output_type": "stream",
     "text": [
      "3 2 1\n",
      "6 Y X\n"
     ]
    }
   ],
   "source": [
    "for((a, b), c) in [((1, 2), 3), (('XY'), 6)]: print(c, b, a)  # rozpakowywanie zagnieżdzonych sekwencji"
   ]
  },
  {
   "cell_type": "code",
   "execution_count": 24,
   "metadata": {},
   "outputs": [
    {
     "name": "stdout",
     "output_type": "stream",
     "text": [
      "1 [2, 3, 4] 5\n",
      "6 [7, 8, 9] 10\n"
     ]
    }
   ],
   "source": [
    "for (a, *b, c) in [(1, 2, 3, 4, 5), (6, 7, 8, 9, 10)]: print(a, b, c)"
   ]
  },
  {
   "cell_type": "code",
   "execution_count": 25,
   "metadata": {},
   "outputs": [
    {
     "name": "stdout",
     "output_type": "stream",
     "text": [
      "aaa odnalezione\n",
      "2 nieodnalezione, pewnie są w smietniku :P\n",
      "(3.14, 'pi') nieodnalezione, pewnie są w smietniku :P\n"
     ]
    }
   ],
   "source": [
    "rzeczy = ['aaa', 2, (3.14, 'pi')]  # sprawdzam ktore rzeczy są w worku\n",
    "worek = ['aaa', 3.14, 8]\n",
    "for skladniki in rzeczy:\n",
    "    if skladniki in worek: \n",
    "        print(skladniki, 'odnalezione')\n",
    "    else:\n",
    "        print(skladniki, 'nieodnalezione, pewnie są w smietniku :P')"
   ]
  },
  {
   "cell_type": "markdown",
   "metadata": {},
   "source": [
    "## *range* i *index* - zastosowanie przy tworzeniu pętli"
   ]
  },
  {
   "cell_type": "code",
   "execution_count": 26,
   "metadata": {},
   "outputs": [
    {
     "data": {
      "text/plain": [
       "([0, 1, 2, 3, 4], [3, 4, 5, 6, 7, 8, 9], [5, 7, 9, 11, 13])"
      ]
     },
     "execution_count": 26,
     "metadata": {},
     "output_type": "execute_result"
    }
   ],
   "source": [
    "list(range(5)), list(range(3,10)), list(range(5,15,2))  # range(od, do, skok)"
   ]
  },
  {
   "cell_type": "code",
   "execution_count": 27,
   "metadata": {},
   "outputs": [
    {
     "data": {
      "text/plain": [
       "([-5, -4, -3, -2, -1, 0, 1, 2, 3, 4], [], [5, 4, 3, 2, 1, 0, -1, -2, -3, -4])"
      ]
     },
     "execution_count": 27,
     "metadata": {},
     "output_type": "execute_result"
    }
   ],
   "source": [
    "list(range(-5, 5)), list(range(5, -5)), list(range(5, -5, -1))"
   ]
  },
  {
   "cell_type": "code",
   "execution_count": 28,
   "metadata": {},
   "outputs": [
    {
     "name": "stdout",
     "output_type": "stream",
     "text": [
      "0 python\n",
      "1 python\n",
      "2 python\n"
     ]
    }
   ],
   "source": [
    "for i in range(3):\n",
    "    print(i, 'python')"
   ]
  },
  {
   "cell_type": "code",
   "execution_count": 29,
   "metadata": {},
   "outputs": [],
   "source": [
    "X = 'mielonka'"
   ]
  },
  {
   "cell_type": "code",
   "execution_count": 30,
   "metadata": {},
   "outputs": [
    {
     "data": {
      "text/plain": [
       "8"
      ]
     },
     "execution_count": 30,
     "metadata": {},
     "output_type": "execute_result"
    }
   ],
   "source": [
    "len(X)"
   ]
  },
  {
   "cell_type": "code",
   "execution_count": 31,
   "metadata": {},
   "outputs": [
    {
     "data": {
      "text/plain": [
       "[0, 1, 2, 3, 4, 5, 6, 7]"
      ]
     },
     "execution_count": 31,
     "metadata": {},
     "output_type": "execute_result"
    }
   ],
   "source": [
    "list(range(len(X)))"
   ]
  },
  {
   "cell_type": "code",
   "execution_count": 32,
   "metadata": {},
   "outputs": [
    {
     "name": "stdout",
     "output_type": "stream",
     "text": [
      "m e o k "
     ]
    }
   ],
   "source": [
    "for i in range(0, len(X), 2): print(X[i], end=\" \")  # co druga litera"
   ]
  },
  {
   "cell_type": "code",
   "execution_count": 33,
   "metadata": {},
   "outputs": [
    {
     "name": "stdout",
     "output_type": "stream",
     "text": [
      "m e o k "
     ]
    }
   ],
   "source": [
    "for e in X[::2]: print(e, end=\" \")  # też co druga litera, ale załatwiona wycinkiem a nie funkcją range"
   ]
  },
  {
   "cell_type": "markdown",
   "metadata": {},
   "source": [
    "###  modyfikacja list - range"
   ]
  },
  {
   "cell_type": "code",
   "execution_count": 34,
   "metadata": {},
   "outputs": [],
   "source": [
    "L = [1, 2, 3, 4, 5]  # chce dodac 100 do kazdego elementu listy"
   ]
  },
  {
   "cell_type": "code",
   "execution_count": 35,
   "metadata": {},
   "outputs": [],
   "source": [
    "for x in L:\n",
    "    x+=100"
   ]
  },
  {
   "cell_type": "code",
   "execution_count": 36,
   "metadata": {},
   "outputs": [
    {
     "data": {
      "text/plain": [
       "[1, 2, 3, 4, 5]"
      ]
     },
     "execution_count": 36,
     "metadata": {},
     "output_type": "execute_result"
    }
   ],
   "source": [
    "L  # nie dodało bo nie modyfikowało listy L tylko pojedyncze zmienne pętli x"
   ]
  },
  {
   "cell_type": "code",
   "execution_count": 37,
   "metadata": {},
   "outputs": [],
   "source": [
    "for i in range(len(L)):\n",
    "    L[i] += 100"
   ]
  },
  {
   "cell_type": "code",
   "execution_count": 38,
   "metadata": {},
   "outputs": [
    {
     "data": {
      "text/plain": [
       "[101, 102, 103, 104, 105]"
      ]
     },
     "execution_count": 38,
     "metadata": {},
     "output_type": "execute_result"
    }
   ],
   "source": [
    "L"
   ]
  },
  {
   "cell_type": "code",
   "execution_count": 39,
   "metadata": {},
   "outputs": [],
   "source": [
    "i=0   # to samo wykonane pętlą while, ale to za duzo pisania :P\n",
    "while i < len(L):\n",
    "    L[i] +=100\n",
    "    i+=1"
   ]
  },
  {
   "cell_type": "code",
   "execution_count": 40,
   "metadata": {},
   "outputs": [
    {
     "data": {
      "text/plain": [
       "[201, 202, 203, 204, 205]"
      ]
     },
     "execution_count": 40,
     "metadata": {},
     "output_type": "execute_result"
    }
   ],
   "source": [
    "L"
   ]
  },
  {
   "cell_type": "code",
   "execution_count": 41,
   "metadata": {},
   "outputs": [],
   "source": [
    "L = [x+100 for x in L]  # znowu to samo, ale tym razem od nowa utworzono liste L (nie uaktualnia starych referencji innych obiektow do L)"
   ]
  },
  {
   "cell_type": "code",
   "execution_count": 42,
   "metadata": {},
   "outputs": [
    {
     "data": {
      "text/plain": [
       "[301, 302, 303, 304, 305]"
      ]
     },
     "execution_count": 42,
     "metadata": {},
     "output_type": "execute_result"
    }
   ],
   "source": [
    "L"
   ]
  },
  {
   "cell_type": "markdown",
   "metadata": {},
   "source": [
    "###  funkcja *zip* przyjmuje za argument jedną lub więcej sekwencji i zwraca serię krotek łączących w pary równoległe elementy"
   ]
  },
  {
   "cell_type": "code",
   "execution_count": 43,
   "metadata": {},
   "outputs": [],
   "source": [
    "L1 = [1, 2, 3, 4]"
   ]
  },
  {
   "cell_type": "code",
   "execution_count": 44,
   "metadata": {},
   "outputs": [],
   "source": [
    "L2 = [11, 22, 33, 44, 55]"
   ]
  },
  {
   "cell_type": "code",
   "execution_count": 45,
   "metadata": {},
   "outputs": [
    {
     "data": {
      "text/plain": [
       "<zip at 0x4fde100>"
      ]
     },
     "execution_count": 45,
     "metadata": {},
     "output_type": "execute_result"
    }
   ],
   "source": [
    "zip(L1,L2)   # zeby wyswietlic trzeba zrobic z tego wyniku np liste"
   ]
  },
  {
   "cell_type": "code",
   "execution_count": 46,
   "metadata": {},
   "outputs": [
    {
     "data": {
      "text/plain": [
       "[(1, 11), (2, 22), (3, 33), (4, 44)]"
      ]
     },
     "execution_count": 46,
     "metadata": {},
     "output_type": "execute_result"
    }
   ],
   "source": [
    "list(zip(L1,L2))  # poniewaz element 55 nie mial pary, zostal pominiety"
   ]
  },
  {
   "cell_type": "code",
   "execution_count": 47,
   "metadata": {},
   "outputs": [
    {
     "name": "stdout",
     "output_type": "stream",
     "text": [
      "1  +  11  =  12\n",
      "2  +  22  =  24\n",
      "3  +  33  =  36\n",
      "4  +  44  =  48\n"
     ]
    }
   ],
   "source": [
    "for (x, y) in zip (L1, L2):\n",
    "    print(x,' + ', y, ' = ', x+y)"
   ]
  },
  {
   "cell_type": "code",
   "execution_count": 48,
   "metadata": {},
   "outputs": [],
   "source": [
    "L3 = [111, 222, 333, 444, 555, 666]"
   ]
  },
  {
   "cell_type": "code",
   "execution_count": 49,
   "metadata": {},
   "outputs": [
    {
     "data": {
      "text/plain": [
       "[(1, 11, 111), (2, 22, 222), (3, 33, 333), (4, 44, 444)]"
      ]
     },
     "execution_count": 49,
     "metadata": {},
     "output_type": "execute_result"
    }
   ],
   "source": [
    "list(zip(L1, L2, L3))"
   ]
  },
  {
   "cell_type": "markdown",
   "metadata": {},
   "source": [
    "#####  tworzenie slownikow przy pomocy funkcji *zip* - gdy np mamy juz dostepne elementy w formie listy"
   ]
  },
  {
   "cell_type": "code",
   "execution_count": 50,
   "metadata": {},
   "outputs": [],
   "source": [
    "klucze=['a', 'b', 'c', 'd']\n",
    "wartosci=[11, 22, 33, 44]"
   ]
  },
  {
   "cell_type": "code",
   "execution_count": 51,
   "metadata": {},
   "outputs": [
    {
     "data": {
      "text/plain": [
       "{'a': 11, 'b': 22, 'c': 33, 'd': 44}"
      ]
     },
     "execution_count": 51,
     "metadata": {},
     "output_type": "execute_result"
    }
   ],
   "source": [
    "dict(zip(klucze,wartosci))"
   ]
  },
  {
   "cell_type": "markdown",
   "metadata": {},
   "source": [
    "### funkcja *enumerate* podaje numer pozycji elementu w obiekcie"
   ]
  },
  {
   "cell_type": "code",
   "execution_count": 52,
   "metadata": {},
   "outputs": [
    {
     "name": "stdout",
     "output_type": "stream",
     "text": [
      "o wystepuje na pozycji przesuniecia 0\n",
      "j wystepuje na pozycji przesuniecia 1\n",
      "e wystepuje na pozycji przesuniecia 2\n",
      "j wystepuje na pozycji przesuniecia 3\n",
      "a wystepuje na pozycji przesuniecia 4\n"
     ]
    }
   ],
   "source": [
    "S = 'ojeja'\n",
    "for (pozycja, element) in enumerate(S):\n",
    "    print(element, 'wystepuje na pozycji przesuniecia', pozycja)"
   ]
  },
  {
   "cell_type": "code",
   "execution_count": 53,
   "metadata": {},
   "outputs": [
    {
     "data": {
      "text/plain": [
       "[(0, 'o'), (1, 'j'), (2, 'e'), (3, 'j'), (4, 'a')]"
      ]
     },
     "execution_count": 53,
     "metadata": {},
     "output_type": "execute_result"
    }
   ],
   "source": [
    "list(enumerate(S))  # tak wyglada funkcja enumera"
   ]
  },
  {
   "cell_type": "code",
   "execution_count": null,
   "metadata": {},
   "outputs": [],
   "source": []
  }
 ],
 "metadata": {
  "kernelspec": {
   "display_name": "Python 3",
   "language": "python",
   "name": "python3"
  },
  "language_info": {
   "codemirror_mode": {
    "name": "ipython",
    "version": 3
   },
   "file_extension": ".py",
   "mimetype": "text/x-python",
   "name": "python",
   "nbconvert_exporter": "python",
   "pygments_lexer": "ipython3",
   "version": "3.8.1"
  }
 },
 "nbformat": 4,
 "nbformat_minor": 2
}
