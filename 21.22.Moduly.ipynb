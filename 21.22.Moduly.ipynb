{
 "cells": [
  {
   "cell_type": "markdown",
   "metadata": {},
   "source": [
    "### Ścieżki wyszukiwania modułów:\n",
    "1. Katalog główny programu.\n",
    "2. Katalogi PYTHONPATH (jeśli są ustawione).\n",
    "3. Katalogi biblioteki standardowej.\n",
    "4. Zawartość wszystkich plików .pth (jeśli są one obecne)."
   ]
  },
  {
   "cell_type": "markdown",
   "metadata": {},
   "source": [
    "### Składnia:\n",
    "import moduł  - importuje cały moduł (który w ten sposób staje się zmienną w skypcie do którego importujemy), wszystkie globalne zmienne modułu stają się jego atrybutami. Żeby potem użyć jakiegoś atrybutu należy wywołać go: moduł.atrybut\n",
    "\n",
    "from moduł import atrybut -  kopiuje zmienną z modułu do skryptu, dlatego pozwala na bezpośrednie używanie nazw zmiennych w skrypcie, bez dodawania do nich nazwy modułu\n",
    "\n",
    "from moduł import * - kopiuje wszystkie zmienne globalne modułu - uwaga na powielanie nazw atrybutów w innych modułach\n",
    "\n",
    "\n",
    "### Instrukcja *import* przypisuje cały obiekt modułu do nazwy zmiennej\n",
    "### Instrukcja *from ... import ...* przypisuje jedną lub więcej zmiennych do obiektów o tych samych nazwach skrypcie lub innym zaimportowanym module,\n",
    "\n",
    "### Dlatego:\n",
    "\n",
    "from modul import zmienna1, zmienna2\n",
    "\n",
    "jest tożsame z:\n",
    "\n",
    "import modul\n",
    "\n",
    "zmienna1 = modul.zmienna1\n",
    "\n",
    "zmienna2 = modul.zmienna2\n",
    "\n",
    "### W związku z tym, żeby zmienić zmienną modułu w skypcie należy wykonać import modułu i nadpisać: \n",
    "modul.zmienna = ...\n",
    "### wtedy zmienna zostanie też zmieniona w kodzie zaimportowanego modułu\n",
    "\n",
    "### Wykonanie *from moduł import zmienna* tworzy nową zmienną w skrypcie, po nadpisaniu *zmienna=...*zostaje ona zmieniona w skrypcie, a kod modułu pozostaje bez zmian."
   ]
  },
  {
   "cell_type": "code",
   "execution_count": 1,
   "metadata": {},
   "outputs": [],
   "source": [
    "import mod1"
   ]
  },
  {
   "cell_type": "code",
   "execution_count": 2,
   "metadata": {},
   "outputs": [
    {
     "name": "stdout",
     "output_type": "stream",
     "text": [
      "mod1: \n",
      "o tak\n"
     ]
    }
   ],
   "source": [
    "mod1.printer('o tak')"
   ]
  },
  {
   "cell_type": "code",
   "execution_count": 3,
   "metadata": {},
   "outputs": [],
   "source": [
    "from mod2 import printer2, y"
   ]
  },
  {
   "cell_type": "code",
   "execution_count": 4,
   "metadata": {},
   "outputs": [
    {
     "name": "stdout",
     "output_type": "stream",
     "text": [
      "mod2:\n",
      "masło\n"
     ]
    }
   ],
   "source": [
    "printer2('masło')"
   ]
  },
  {
   "cell_type": "code",
   "execution_count": 5,
   "metadata": {},
   "outputs": [
    {
     "data": {
      "text/plain": [
       "5"
      ]
     },
     "execution_count": 5,
     "metadata": {},
     "output_type": "execute_result"
    }
   ],
   "source": [
    "mod1.x  # w mod1.py x = 5"
   ]
  },
  {
   "cell_type": "code",
   "execution_count": 6,
   "metadata": {},
   "outputs": [],
   "source": [
    "mod1.x = 4 \n",
    "# zmienia się zmienna mod1.x tutaj, ale w pliku mod1, wszystko zostaje po staremu"
   ]
  },
  {
   "cell_type": "code",
   "execution_count": 7,
   "metadata": {},
   "outputs": [
    {
     "data": {
      "text/plain": [
       "4"
      ]
     },
     "execution_count": 7,
     "metadata": {},
     "output_type": "execute_result"
    }
   ],
   "source": [
    "mod1.x"
   ]
  },
  {
   "cell_type": "code",
   "execution_count": 8,
   "metadata": {},
   "outputs": [
    {
     "name": "stdout",
     "output_type": "stream",
     "text": [
      "po edycji\n"
     ]
    }
   ],
   "source": [
    "from ddd import a, b"
   ]
  },
  {
   "cell_type": "code",
   "execution_count": 9,
   "metadata": {},
   "outputs": [
    {
     "data": {
      "text/plain": [
       "1"
      ]
     },
     "execution_count": 9,
     "metadata": {},
     "output_type": "execute_result"
    }
   ],
   "source": [
    "a"
   ]
  },
  {
   "cell_type": "code",
   "execution_count": 10,
   "metadata": {},
   "outputs": [
    {
     "data": {
      "text/plain": [
       "[2, 3]"
      ]
     },
     "execution_count": 10,
     "metadata": {},
     "output_type": "execute_result"
    }
   ],
   "source": [
    "b"
   ]
  },
  {
   "cell_type": "code",
   "execution_count": 11,
   "metadata": {},
   "outputs": [],
   "source": [
    "a = 42  # zmiana 'a' tylko w tutaj pliku"
   ]
  },
  {
   "cell_type": "code",
   "execution_count": 12,
   "metadata": {},
   "outputs": [],
   "source": [
    "b[0]=42 # modyfikacja obiektu (ktory jest listą wiec jest zmienny) o wspoldzielonych referencjach"
   ]
  },
  {
   "cell_type": "code",
   "execution_count": 13,
   "metadata": {},
   "outputs": [],
   "source": [
    "import ddd"
   ]
  },
  {
   "cell_type": "code",
   "execution_count": 14,
   "metadata": {},
   "outputs": [
    {
     "data": {
      "text/plain": [
       "1"
      ]
     },
     "execution_count": 14,
     "metadata": {},
     "output_type": "execute_result"
    }
   ],
   "source": [
    "ddd.a   # a zostało bez zmian"
   ]
  },
  {
   "cell_type": "code",
   "execution_count": 15,
   "metadata": {},
   "outputs": [
    {
     "data": {
      "text/plain": [
       "[42, 3]"
      ]
     },
     "execution_count": 15,
     "metadata": {},
     "output_type": "execute_result"
    }
   ],
   "source": [
    "ddd.b   # lista b została zmodyfikowana, ale tylko tutaj, w module ddd, wszystko jest po staremu"
   ]
  },
  {
   "cell_type": "code",
   "execution_count": 20,
   "metadata": {},
   "outputs": [],
   "source": [
    "import mydir"
   ]
  },
  {
   "cell_type": "code",
   "execution_count": 21,
   "metadata": {
    "scrolled": true
   },
   "outputs": [
    {
     "data": {
      "text/plain": [
       "['__name__',\n",
       " '__doc__',\n",
       " '__package__',\n",
       " '__loader__',\n",
       " '__spec__',\n",
       " '__file__',\n",
       " '__cached__',\n",
       " '__builtins__',\n",
       " 'seplen',\n",
       " 'sepchr',\n",
       " 'listing']"
      ]
     },
     "execution_count": 21,
     "metadata": {},
     "output_type": "execute_result"
    }
   ],
   "source": [
    "list(mydir.__dict__)  # sprawdzanie atrybutow pliku mydir.py"
   ]
  },
  {
   "cell_type": "code",
   "execution_count": 22,
   "metadata": {},
   "outputs": [
    {
     "data": {
      "text/plain": [
       "['__builtins__',\n",
       " '__cached__',\n",
       " '__doc__',\n",
       " '__file__',\n",
       " '__loader__',\n",
       " '__name__',\n",
       " '__package__',\n",
       " '__spec__',\n",
       " 'listing',\n",
       " 'sepchr',\n",
       " 'seplen']"
      ]
     },
     "execution_count": 22,
     "metadata": {},
     "output_type": "execute_result"
    }
   ],
   "source": [
    "dir(mydir)  # to samo co wyzej"
   ]
  },
  {
   "cell_type": "markdown",
   "metadata": {},
   "source": [
    "### FUNKCJA RELOAD:\n",
    "from imp import reload\n",
    "\n",
    "reload(moduł)  - zostaje przeładowany cały zaimportowany moduł "
   ]
  },
  {
   "cell_type": "code",
   "execution_count": 23,
   "metadata": {},
   "outputs": [],
   "source": [
    "from imp import reload"
   ]
  },
  {
   "cell_type": "code",
   "execution_count": 24,
   "metadata": {},
   "outputs": [
    {
     "name": "stdout",
     "output_type": "stream",
     "text": [
      "po edycji\n"
     ]
    },
    {
     "data": {
      "text/plain": [
       "<module 'ddd' from 'F:\\\\python_nauka\\\\j\\\\podstawy - backup\\\\ddd.py'>"
      ]
     },
     "execution_count": 24,
     "metadata": {},
     "output_type": "execute_result"
    }
   ],
   "source": [
    "reload(ddd)"
   ]
  },
  {
   "cell_type": "code",
   "execution_count": null,
   "metadata": {},
   "outputs": [],
   "source": []
  }
 ],
 "metadata": {
  "kernelspec": {
   "display_name": "Python 3",
   "language": "python",
   "name": "python3"
  },
  "language_info": {
   "codemirror_mode": {
    "name": "ipython",
    "version": 3
   },
   "file_extension": ".py",
   "mimetype": "text/x-python",
   "name": "python",
   "nbconvert_exporter": "python",
   "pygments_lexer": "ipython3",
   "version": "3.8.1"
  }
 },
 "nbformat": 4,
 "nbformat_minor": 2
}
