{
 "cells": [
  {
   "cell_type": "markdown",
   "metadata": {},
   "source": [
    "### Zagnieżdżanie:\n",
    "###  Python układa instrukcje `try` na stosie. Po zgłoszeniu wyjątku Python poszukuje instrukcji `expect` pasującej do tego wyjątku. Sprawdza najpierw ostatnią instrukcję `try`. Jeśli tam jej nie znajdzie, to sprawdza wcześniejsze `try` aż dojdzie do najwyzszego poziomu programu. Po odnalezieniu odpowiedniego `expect` poszukiwanie zostaje zakonczone - życie wyjątku dobiega końca.\n",
    "###  Jeśli zagnieżdżane są instrukcje `try` zawierające jedynie części `finally`, w momencie wystąpienia wyjątku wykonywany jest każdy blok `finally` po kolei aż trafi na `except` albo do najwyższego poziomu programu (i wyswietli błąd)."
   ]
  },
  {
   "cell_type": "markdown",
   "metadata": {},
   "source": [
    "#### Zagnieżdżanie przebiegu sterowania:"
   ]
  },
  {
   "cell_type": "code",
   "execution_count": 2,
   "metadata": {},
   "outputs": [],
   "source": [
    "def action2():\n",
    "    print(1 + [])  # wywola wyjatek TypeError przez probe dodania liczby do listy"
   ]
  },
  {
   "cell_type": "code",
   "execution_count": 3,
   "metadata": {},
   "outputs": [],
   "source": [
    "def action1():\n",
    "    try:\n",
    "        action2()\n",
    "    except TypeError:   # przechwytuje TypeError z action2\n",
    "        print('wewnetrzne try')"
   ]
  },
  {
   "cell_type": "code",
   "execution_count": 4,
   "metadata": {},
   "outputs": [
    {
     "name": "stdout",
     "output_type": "stream",
     "text": [
      "wewnetrzne try\n"
     ]
    }
   ],
   "source": [
    "try:\n",
    "    action1()\n",
    "except TypeError:   # przechwytuje TypeError z action1 - jednak tutaj program nie dojdzie, bo wyjatek zostal obsluzony wewnatrz acion1\n",
    "    print('zewnetrzne try')"
   ]
  },
  {
   "cell_type": "markdown",
   "metadata": {},
   "source": [
    "#### Zagnieżdżanie składniowe:"
   ]
  },
  {
   "cell_type": "code",
   "execution_count": 5,
   "metadata": {},
   "outputs": [
    {
     "name": "stdout",
     "output_type": "stream",
     "text": [
      "wewnetrzne try\n"
     ]
    }
   ],
   "source": [
    "try:\n",
    "    try:\n",
    "        action2()\n",
    "    except TypeError:\n",
    "        print('wewnetrzne try')\n",
    "except TypeError:\n",
    "    print('zewnetrzne try')"
   ]
  },
  {
   "cell_type": "code",
   "execution_count": 7,
   "metadata": {},
   "outputs": [
    {
     "name": "stdout",
     "output_type": "stream",
     "text": [
      "wewnetrzne try\n",
      "zewnetrzne try\n"
     ]
    },
    {
     "ename": "TypeError",
     "evalue": "unsupported operand type(s) for +: 'int' and 'list'",
     "output_type": "error",
     "traceback": [
      "\u001b[1;31m---------------------------------------------------------------------------\u001b[0m",
      "\u001b[1;31mTypeError\u001b[0m                                 Traceback (most recent call last)",
      "\u001b[1;32m<ipython-input-7-f4c579d9c581>\u001b[0m in \u001b[0;36m<module>\u001b[1;34m\u001b[0m\n\u001b[0;32m      1\u001b[0m \u001b[1;32mtry\u001b[0m\u001b[1;33m:\u001b[0m\u001b[1;33m\u001b[0m\u001b[1;33m\u001b[0m\u001b[0m\n\u001b[0;32m      2\u001b[0m     \u001b[1;32mtry\u001b[0m\u001b[1;33m:\u001b[0m\u001b[1;33m\u001b[0m\u001b[1;33m\u001b[0m\u001b[0m\n\u001b[1;32m----> 3\u001b[1;33m         \u001b[0maction2\u001b[0m\u001b[1;33m(\u001b[0m\u001b[1;33m)\u001b[0m\u001b[1;33m\u001b[0m\u001b[1;33m\u001b[0m\u001b[0m\n\u001b[0m\u001b[0;32m      4\u001b[0m     \u001b[1;32mfinally\u001b[0m\u001b[1;33m:\u001b[0m\u001b[1;33m\u001b[0m\u001b[1;33m\u001b[0m\u001b[0m\n\u001b[0;32m      5\u001b[0m         \u001b[0mprint\u001b[0m\u001b[1;33m(\u001b[0m\u001b[1;34m'wewnetrzne try'\u001b[0m\u001b[1;33m)\u001b[0m\u001b[1;33m\u001b[0m\u001b[1;33m\u001b[0m\u001b[0m\n",
      "\u001b[1;32m<ipython-input-2-bf0eb5f1eb82>\u001b[0m in \u001b[0;36maction2\u001b[1;34m()\u001b[0m\n\u001b[0;32m      1\u001b[0m \u001b[1;32mdef\u001b[0m \u001b[0maction2\u001b[0m\u001b[1;33m(\u001b[0m\u001b[1;33m)\u001b[0m\u001b[1;33m:\u001b[0m\u001b[1;33m\u001b[0m\u001b[1;33m\u001b[0m\u001b[0m\n\u001b[1;32m----> 2\u001b[1;33m     \u001b[0mprint\u001b[0m\u001b[1;33m(\u001b[0m\u001b[1;36m1\u001b[0m \u001b[1;33m+\u001b[0m \u001b[1;33m[\u001b[0m\u001b[1;33m]\u001b[0m\u001b[1;33m)\u001b[0m  \u001b[1;31m# wywola wyjatek TypeError przez probe dodania liczby do listy\u001b[0m\u001b[1;33m\u001b[0m\u001b[1;33m\u001b[0m\u001b[0m\n\u001b[0m",
      "\u001b[1;31mTypeError\u001b[0m: unsupported operand type(s) for +: 'int' and 'list'"
     ]
    }
   ],
   "source": [
    "try:\n",
    "    try:\n",
    "        action2()\n",
    "    finally:\n",
    "        print('wewnetrzne try')\n",
    "finally:\n",
    "    print('zewnetrzne try')   # wykona wszystkie finally bo nie trafilo na expect\n"
   ]
  },
  {
   "cell_type": "code",
   "execution_count": 8,
   "metadata": {},
   "outputs": [
    {
     "name": "stdout",
     "output_type": "stream",
     "text": [
      "\n",
      "<function raise1 at 0x0000000005395AF0>\n",
      "przechwycono IndexError\n",
      "wykonano finally\n",
      "\n",
      "<function noraise at 0x0000000005395D30>\n",
      "wykonano finally\n",
      "\n",
      "<function raise2 at 0x0000000005395940>\n",
      "wykonano finally\n"
     ]
    },
    {
     "ename": "SyntaxError",
     "evalue": "None (<string>)",
     "output_type": "error",
     "traceback": [
      "Traceback \u001b[1;36m(most recent call last)\u001b[0m:\n",
      "  File \u001b[0;32m\"C:\\ProgramData\\Anaconda3\\envs\\nauka\\lib\\site-packages\\IPython\\core\\interactiveshell.py\"\u001b[0m, line \u001b[0;32m3331\u001b[0m, in \u001b[0;35mrun_code\u001b[0m\n    exec(code_obj, self.user_global_ns, self.user_ns)\n",
      "  File \u001b[0;32m\"<ipython-input-8-d4a629d09c80>\"\u001b[0m, line \u001b[0;32m8\u001b[0m, in \u001b[0;35m<module>\u001b[0m\n    func()\n",
      "\u001b[1;36m  File \u001b[1;32m\"<ipython-input-8-d4a629d09c80>\"\u001b[1;36m, line \u001b[1;32m3\u001b[1;36m, in \u001b[1;35mraise2\u001b[1;36m\u001b[0m\n\u001b[1;33m    def raise2(): raise SyntaxError\u001b[0m\n",
      "\u001b[1;36m  File \u001b[1;32m\"<string>\"\u001b[1;36m, line \u001b[1;32munknown\u001b[0m\n\u001b[1;31mSyntaxError\u001b[0m\n"
     ]
    }
   ],
   "source": [
    "def raise1(): raise IndexError\n",
    "def noraise(): return\n",
    "def raise2(): raise SyntaxError\n",
    "    \n",
    "for func in (raise1, noraise, raise2):\n",
    "    print('\\n', func, sep='')\n",
    "    try:\n",
    "        try:\n",
    "            func()\n",
    "        except IndexError:\n",
    "            print('przechwycono IndexError')\n",
    "    finally:\n",
    "        print('wykonano finally')      "
   ]
  },
  {
   "cell_type": "markdown",
   "metadata": {},
   "source": [
    "### Zastosowanie wyjątków:\n",
    "### 1. Funkcje mogą sygnalizować warunki za pomocą raise:\n",
    "przykład: procedura wyszukiwania zgłasza wyjątek, kiedy dopasowanie zostanie odnalezione, zamiast zwracać opcję statusu, którą wywołujący musi zinterpretować:\n",
    "\n",
    "\n",
    "    class Found(Exception): pass\n",
    "    def searcher():\n",
    "       if ...sukces...:\n",
    "          raise Found()\n",
    "       else:\n",
    "          return\n",
    "          \n",
    "    try:\n",
    "       searcher()\n",
    "    except Found:                                # Wyjątek, jeśli element został odnaleziony\n",
    "       ...sukces...\n",
    "    else:                                        # else zwracane, kiedy element nie został odnaleziony\n",
    "       ...porażka...\n",
    "       \n",
    "sygnalizowanie wyników bez zwracania wartości:\n",
    "\n",
    "    class Failure(Exception): pass\n",
    "    def searcher():\n",
    "       if ...sukces...:\n",
    "          return ...znaleziony element...\n",
    "       else:\n",
    "          raise Failure()\n",
    "          \n",
    "    try:\n",
    "       item = searcher()\n",
    "    except Failure:\n",
    "       ...zgłoszenie...\n",
    "    else:\n",
    "       ...tutaj wykorzystanie elementu...\n",
    "       \n",
    "### 2. Zamykanie plików oraz połączeń z serwerem, np:\n",
    "    myfile = open(r'C:\\misc\\script', 'w')\n",
    "    try:\n",
    "       ...przetworzenie myfile...\n",
    "    finally:\n",
    "       myfile.close()\n",
    "       \n",
    "albo\n",
    "    \n",
    "    with open(r'C:\\misc\\script', 'w') as myfile:\n",
    "       ...przetworzenie myfile...\n",
    "\n",
    "### 3. Debugowanie z wykorzystaniem zewnętrznych instrukcji try, np:\n",
    "\n",
    "    try:\n",
    "       ...wykonanie programu...\n",
    "    except:                                      # Wszystkie nieprzechwycone wyjątki trafiają tutaj\n",
    "       import sys\n",
    "       print('nie przechwycono!', sys.exc_info()[0], sys.exc_info()[1])\n",
    "       \n",
    "### 4. Testowanie kodu wewnątrz tego samego procesu, np:\n",
    "\n",
    "    import sys\n",
    "    log = open('testlog', 'a')\n",
    "    from testapi import moreTests, runNextTest, testName\n",
    "    def testdriver():\n",
    "       while moreTests():\n",
    "          try:\n",
    "             runNextTest()\n",
    "          except:\n",
    "             print('PORAŻKA', testName(), sys.exc_info()[:2], file=log)\n",
    "          else:\n",
    "             print('SUKCES', testName(), file=log)\n",
    "    testdriver()"
   ]
  },
  {
   "cell_type": "code",
   "execution_count": 9,
   "metadata": {},
   "outputs": [],
   "source": []
  },
  {
   "cell_type": "code",
   "execution_count": 10,
   "metadata": {},
   "outputs": [
    {
     "ename": "NameError",
     "evalue": "name 'oops' is not defined",
     "output_type": "error",
     "traceback": [
      "\u001b[1;31m---------------------------------------------------------------------------\u001b[0m",
      "\u001b[1;31mNameError\u001b[0m                                 Traceback (most recent call last)",
      "\u001b[1;32m<ipython-input-10-a3131b848e7f>\u001b[0m in \u001b[0;36m<module>\u001b[1;34m\u001b[0m\n\u001b[1;32m----> 1\u001b[1;33m \u001b[0msafe\u001b[0m\u001b[1;33m(\u001b[0m\u001b[0moops\u001b[0m\u001b[1;33m)\u001b[0m\u001b[1;33m\u001b[0m\u001b[1;33m\u001b[0m\u001b[0m\n\u001b[0m",
      "\u001b[1;31mNameError\u001b[0m: name 'oops' is not defined"
     ]
    }
   ],
   "source": []
  },
  {
   "cell_type": "code",
   "execution_count": null,
   "metadata": {},
   "outputs": [],
   "source": []
  }
 ],
 "metadata": {
  "kernelspec": {
   "display_name": "Python 3",
   "language": "python",
   "name": "python3"
  },
  "language_info": {
   "codemirror_mode": {
    "name": "ipython",
    "version": 3
   },
   "file_extension": ".py",
   "mimetype": "text/x-python",
   "name": "python",
   "nbconvert_exporter": "python",
   "pygments_lexer": "ipython3",
   "version": "3.8.1"
  }
 },
 "nbformat": 4,
 "nbformat_minor": 4
}
