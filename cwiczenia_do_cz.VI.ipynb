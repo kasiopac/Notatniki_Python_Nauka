{
 "cells": [
  {
   "cell_type": "code",
   "execution_count": 1,
   "metadata": {},
   "outputs": [],
   "source": [
    "class Adder:\n",
    "    def __init__(self, data=[]):\n",
    "        self.data = data\n",
    "    def __add__(self,other):\n",
    "        return self.add(self, other)\n",
    "    def add(self, x, y):\n",
    "        print(\"nie zaimplementowano\")   "
   ]
  },
  {
   "cell_type": "code",
   "execution_count": 2,
   "metadata": {},
   "outputs": [],
   "source": [
    "a = Adder()"
   ]
  },
  {
   "cell_type": "code",
   "execution_count": 3,
   "metadata": {},
   "outputs": [
    {
     "name": "stdout",
     "output_type": "stream",
     "text": [
      "nie zaimplementowano\n"
     ]
    }
   ],
   "source": [
    "a.add(5,5)"
   ]
  },
  {
   "cell_type": "code",
   "execution_count": 4,
   "metadata": {},
   "outputs": [
    {
     "name": "stdout",
     "output_type": "stream",
     "text": [
      "nie zaimplementowano\n"
     ]
    }
   ],
   "source": [
    "a+3"
   ]
  },
  {
   "cell_type": "code",
   "execution_count": 5,
   "metadata": {},
   "outputs": [],
   "source": [
    "class ListAdder(Adder):\n",
    "    def add(self, x, y):\n",
    "        return x + y"
   ]
  },
  {
   "cell_type": "code",
   "execution_count": 6,
   "metadata": {},
   "outputs": [],
   "source": [
    "l = ListAdder()"
   ]
  },
  {
   "cell_type": "code",
   "execution_count": 7,
   "metadata": {},
   "outputs": [
    {
     "data": {
      "text/plain": [
       "[4, 5, 2]"
      ]
     },
     "execution_count": 7,
     "metadata": {},
     "output_type": "execute_result"
    }
   ],
   "source": [
    "l.add([4,5], [2])"
   ]
  },
  {
   "cell_type": "code",
   "execution_count": 8,
   "metadata": {},
   "outputs": [],
   "source": [
    "class DictAdder(Adder):\n",
    "    def add(self, x, y):\n",
    "        new = {}\n",
    "        for key in x.keys(): new[key] = x[key]\n",
    "        for key in y.keys(): new[key] = y[key]\n",
    "        return new"
   ]
  },
  {
   "cell_type": "code",
   "execution_count": 9,
   "metadata": {},
   "outputs": [],
   "source": [
    "s = DictAdder()"
   ]
  },
  {
   "cell_type": "code",
   "execution_count": 10,
   "metadata": {},
   "outputs": [
    {
     "data": {
      "text/plain": [
       "{3: 1, 5: 2}"
      ]
     },
     "execution_count": 10,
     "metadata": {},
     "output_type": "execute_result"
    }
   ],
   "source": [
    "s.add({3:1}, {5:2})"
   ]
  },
  {
   "cell_type": "code",
   "execution_count": 11,
   "metadata": {},
   "outputs": [],
   "source": [
    "class Mylist:\n",
    "    def __init__(self, data):\n",
    "        self.data = []\n",
    "        for x in data: self.data.append(x)\n",
    "    def __add__(self, x):\n",
    "        print('metoda add')\n",
    "        return self.data + x\n",
    "    def __getitem__(self, index):\n",
    "        print('metoda getitem')\n",
    "        return self.data[index]\n",
    "    def __mul__(self, value):\n",
    "        print('metoda mul')\n",
    "        return self.data * value\n",
    "    def __len__(self):\n",
    "        print('metoda len')\n",
    "        return len(self.data)\n",
    "    def __iter__(self):\n",
    "        return self.data\n",
    "    def __getslice__(self, x, y):\n",
    "        print('metoda getslice')\n",
    "        return self(self.data[x:y])"
   ]
  },
  {
   "cell_type": "code",
   "execution_count": 12,
   "metadata": {},
   "outputs": [],
   "source": [
    "a = Mylist('kupa')"
   ]
  },
  {
   "cell_type": "code",
   "execution_count": 13,
   "metadata": {},
   "outputs": [
    {
     "name": "stdout",
     "output_type": "stream",
     "text": [
      "metoda getitem\n"
     ]
    },
    {
     "data": {
      "text/plain": [
       "'p'"
      ]
     },
     "execution_count": 13,
     "metadata": {},
     "output_type": "execute_result"
    }
   ],
   "source": [
    "a[2]"
   ]
  },
  {
   "cell_type": "code",
   "execution_count": null,
   "metadata": {},
   "outputs": [],
   "source": []
  },
  {
   "cell_type": "code",
   "execution_count": 14,
   "metadata": {},
   "outputs": [
    {
     "data": {
      "text/plain": [
       "['k', 'u', 'p', 'a']"
      ]
     },
     "execution_count": 14,
     "metadata": {},
     "output_type": "execute_result"
    }
   ],
   "source": [
    "a.data"
   ]
  },
  {
   "cell_type": "code",
   "execution_count": 15,
   "metadata": {},
   "outputs": [
    {
     "name": "stdout",
     "output_type": "stream",
     "text": [
      "metoda getitem\n"
     ]
    },
    {
     "data": {
      "text/plain": [
       "['p', 'a']"
      ]
     },
     "execution_count": 15,
     "metadata": {},
     "output_type": "execute_result"
    }
   ],
   "source": [
    "a[slice(2,4)]"
   ]
  },
  {
   "cell_type": "code",
   "execution_count": 16,
   "metadata": {},
   "outputs": [],
   "source": [
    "class MylistSub(Mylist):\n",
    "    classCount = 0\n",
    "    def __init__(self, data):\n",
    "        self.instCount = 0\n",
    "        Mylist.__init__(self, data)\n",
    "    def __add__(self, value):\n",
    "        MylistSub.classCount += 1\n",
    "        self.instCount += 1\n",
    "        return Mylist.__add__(self, value)\n",
    "    def stats(self):\n",
    "        print(MylistSub.classCount, self.instCount)\n",
    "        "
   ]
  },
  {
   "cell_type": "code",
   "execution_count": 17,
   "metadata": {},
   "outputs": [],
   "source": [
    "x = MylistSub('blablabla')"
   ]
  },
  {
   "cell_type": "code",
   "execution_count": 18,
   "metadata": {},
   "outputs": [
    {
     "name": "stdout",
     "output_type": "stream",
     "text": [
      "0 0\n"
     ]
    }
   ],
   "source": [
    "x.stats()"
   ]
  },
  {
   "cell_type": "code",
   "execution_count": 19,
   "metadata": {},
   "outputs": [
    {
     "name": "stdout",
     "output_type": "stream",
     "text": [
      "metoda add\n"
     ]
    },
    {
     "data": {
      "text/plain": [
       "['b', 'l', 'a', 'b', 'l', 'a', 'b', 'l', 'a', 'buu']"
      ]
     },
     "execution_count": 19,
     "metadata": {},
     "output_type": "execute_result"
    }
   ],
   "source": [
    "x + ['buu']"
   ]
  },
  {
   "cell_type": "code",
   "execution_count": 20,
   "metadata": {},
   "outputs": [
    {
     "name": "stdout",
     "output_type": "stream",
     "text": [
      "1 1\n"
     ]
    }
   ],
   "source": [
    "x.stats()"
   ]
  },
  {
   "cell_type": "code",
   "execution_count": 43,
   "metadata": {},
   "outputs": [],
   "source": [
    "class Meta:\n",
    "    def __getattr__(self, atr):\n",
    "        if atr == 'name':\n",
    "            print(\"name: Ziuta\")\n",
    "        else:\n",
    "            raise AttributeError(f'{atr}')\n",
    "    def __setattr__(self, atr, value):\n",
    "        print(atr, ':', value)\n",
    "        self.__dict__[atr] = value"
   ]
  },
  {
   "cell_type": "code",
   "execution_count": 44,
   "metadata": {},
   "outputs": [],
   "source": [
    "m = Meta()"
   ]
  },
  {
   "cell_type": "code",
   "execution_count": 45,
   "metadata": {},
   "outputs": [
    {
     "name": "stdout",
     "output_type": "stream",
     "text": [
      "age : 3\n"
     ]
    }
   ],
   "source": [
    "m.age = 3"
   ]
  },
  {
   "cell_type": "code",
   "execution_count": 46,
   "metadata": {},
   "outputs": [
    {
     "data": {
      "text/plain": [
       "3"
      ]
     },
     "execution_count": 46,
     "metadata": {},
     "output_type": "execute_result"
    }
   ],
   "source": [
    "m.age"
   ]
  },
  {
   "cell_type": "code",
   "execution_count": 47,
   "metadata": {},
   "outputs": [
    {
     "name": "stdout",
     "output_type": "stream",
     "text": [
      "name: Ziuta\n"
     ]
    }
   ],
   "source": [
    "m.name"
   ]
  },
  {
   "cell_type": "code",
   "execution_count": 48,
   "metadata": {},
   "outputs": [
    {
     "ename": "AttributeError",
     "evalue": "job",
     "output_type": "error",
     "traceback": [
      "\u001b[1;31m---------------------------------------------------------------------------\u001b[0m",
      "\u001b[1;31mAttributeError\u001b[0m                            Traceback (most recent call last)",
      "\u001b[1;32m<ipython-input-48-3f477023a076>\u001b[0m in \u001b[0;36m<module>\u001b[1;34m\u001b[0m\n\u001b[1;32m----> 1\u001b[1;33m \u001b[0mm\u001b[0m\u001b[1;33m.\u001b[0m\u001b[0mjob\u001b[0m\u001b[1;33m\u001b[0m\u001b[1;33m\u001b[0m\u001b[0m\n\u001b[0m",
      "\u001b[1;32m<ipython-input-43-10941923f1ad>\u001b[0m in \u001b[0;36m__getattr__\u001b[1;34m(self, atr)\u001b[0m\n\u001b[0;32m      4\u001b[0m             \u001b[0mprint\u001b[0m\u001b[1;33m(\u001b[0m\u001b[1;34m\"name: Ziuta\"\u001b[0m\u001b[1;33m)\u001b[0m\u001b[1;33m\u001b[0m\u001b[1;33m\u001b[0m\u001b[0m\n\u001b[0;32m      5\u001b[0m         \u001b[1;32melse\u001b[0m\u001b[1;33m:\u001b[0m\u001b[1;33m\u001b[0m\u001b[1;33m\u001b[0m\u001b[0m\n\u001b[1;32m----> 6\u001b[1;33m             \u001b[1;32mraise\u001b[0m \u001b[0mAttributeError\u001b[0m\u001b[1;33m(\u001b[0m\u001b[1;34mf'{atr}'\u001b[0m\u001b[1;33m)\u001b[0m\u001b[1;33m\u001b[0m\u001b[1;33m\u001b[0m\u001b[0m\n\u001b[0m\u001b[0;32m      7\u001b[0m     \u001b[1;32mdef\u001b[0m \u001b[0m__setattr__\u001b[0m\u001b[1;33m(\u001b[0m\u001b[0mself\u001b[0m\u001b[1;33m,\u001b[0m \u001b[0matr\u001b[0m\u001b[1;33m,\u001b[0m \u001b[0mvalue\u001b[0m\u001b[1;33m)\u001b[0m\u001b[1;33m:\u001b[0m\u001b[1;33m\u001b[0m\u001b[1;33m\u001b[0m\u001b[0m\n\u001b[0;32m      8\u001b[0m         \u001b[0mprint\u001b[0m\u001b[1;33m(\u001b[0m\u001b[0matr\u001b[0m\u001b[1;33m,\u001b[0m \u001b[1;34m':'\u001b[0m\u001b[1;33m,\u001b[0m \u001b[0mvalue\u001b[0m\u001b[1;33m)\u001b[0m\u001b[1;33m\u001b[0m\u001b[1;33m\u001b[0m\u001b[0m\n",
      "\u001b[1;31mAttributeError\u001b[0m: job"
     ]
    }
   ],
   "source": [
    "m.job"
   ]
  },
  {
   "cell_type": "code",
   "execution_count": 59,
   "metadata": {},
   "outputs": [],
   "source": [
    "class Set:\n",
    "    def __init__(self, value = []):         # Konstruktor\n",
    "        self.data = []                      # Zarządza listą\n",
    "        self.concat(value)\n",
    "    def intersect(self, other):             # other to dowolna sekwencja\n",
    "        res = []                            # self to podmiot\n",
    "        for x in self.data:\n",
    "            if x in other:                      # Wybór wspólnych elementów\n",
    "                res.append(x)\n",
    "        return Set(res)                 # Zwrócenie nowej instancji Set\n",
    "    def union(self, other):                 # other to dowolna sekwencja\n",
    "        res = self.data[:]                  # Kopia mojej listy\n",
    "        for x in other:                     # Dodanie elementów w other\n",
    "            if not x in res:\n",
    "                res.append(x)\n",
    "        return Set(res)\n",
    "    def concat(self, value):                # value: lista, Set…\n",
    "        for x in value:                     # Usuwa duplikaty\n",
    "            if not x in self.data:\n",
    "                self.data.append(x)\n",
    "    def __len__(self):\n",
    "        return len(self.data)               # len(self)\n",
    "    def __getitem__(self, key):\n",
    "        return self.data[key]               # self[i]\n",
    "    def __and__(self, other):\n",
    "        return self.intersect(other)        # self & other\n",
    "    def __or__(self, other):\n",
    "        return self.union(other)            # self | other\n",
    "    def __repr__(self):\n",
    "        return 'Zbiór:' + repr(self.data)   # Wyświetlenie za pomocą print"
   ]
  },
  {
   "cell_type": "code",
   "execution_count": 60,
   "metadata": {},
   "outputs": [],
   "source": [
    "s = Set([2,3,5,6])"
   ]
  },
  {
   "cell_type": "code",
   "execution_count": 61,
   "metadata": {},
   "outputs": [],
   "source": [
    "z = Set([9,8,2,4])"
   ]
  },
  {
   "cell_type": "code",
   "execution_count": 62,
   "metadata": {},
   "outputs": [
    {
     "data": {
      "text/plain": [
       "Zbiór:[2]"
      ]
     },
     "execution_count": 62,
     "metadata": {},
     "output_type": "execute_result"
    }
   ],
   "source": [
    "s & z"
   ]
  },
  {
   "cell_type": "code",
   "execution_count": 63,
   "metadata": {},
   "outputs": [
    {
     "data": {
      "text/plain": [
       "Zbiór:[2, 3, 5, 6, 9, 8, 4]"
      ]
     },
     "execution_count": 63,
     "metadata": {},
     "output_type": "execute_result"
    }
   ],
   "source": [
    "s | z"
   ]
  },
  {
   "cell_type": "code",
   "execution_count": 72,
   "metadata": {},
   "outputs": [],
   "source": [
    "x = set('kosckosckosc')"
   ]
  },
  {
   "cell_type": "code",
   "execution_count": 76,
   "metadata": {},
   "outputs": [
    {
     "data": {
      "text/plain": [
       "'k'"
      ]
     },
     "execution_count": 76,
     "metadata": {},
     "output_type": "execute_result"
    }
   ],
   "source": [
    "list(x)[0]"
   ]
  },
  {
   "cell_type": "code",
   "execution_count": 125,
   "metadata": {},
   "outputs": [],
   "source": [
    "class SubSet(Set):\n",
    "    def intersect(self, *args):\n",
    "        new = []\n",
    "        for x in self:\n",
    "            for arg in args:\n",
    "                if x not in arg: break\n",
    "                else: new.append(x)\n",
    "        return Set(new)\n",
    "    def union(self, *args):\n",
    "        new =[]\n",
    "        for x in self:\n",
    "            for arg in args:\n",
    "                if x not in arg: new.append(x)\n",
    "                else: break\n",
    "                for y in arg:\n",
    "                    new.append(y)\n",
    "        return Set(new)\n",
    "                    "
   ]
  },
  {
   "cell_type": "code",
   "execution_count": 126,
   "metadata": {},
   "outputs": [],
   "source": [
    "c = SubSet([2,3,6,8])"
   ]
  },
  {
   "cell_type": "code",
   "execution_count": 127,
   "metadata": {},
   "outputs": [
    {
     "data": {
      "text/plain": [
       "Zbiór:[8]"
      ]
     },
     "execution_count": 127,
     "metadata": {},
     "output_type": "execute_result"
    }
   ],
   "source": [
    "c.intersect([1,5,8])"
   ]
  },
  {
   "cell_type": "code",
   "execution_count": 128,
   "metadata": {},
   "outputs": [
    {
     "data": {
      "text/plain": [
       "Zbiór:[2, 1, 5, 8, 3, 6]"
      ]
     },
     "execution_count": 128,
     "metadata": {},
     "output_type": "execute_result"
    }
   ],
   "source": [
    "c.union([1,5,8])"
   ]
  },
  {
   "cell_type": "code",
   "execution_count": 204,
   "metadata": {},
   "outputs": [],
   "source": [
    "# <Instancja klasy Sub(Super, Lister), adres 7841200>:"
   ]
  },
  {
   "cell_type": "code",
   "execution_count": 279,
   "metadata": {},
   "outputs": [],
   "source": [
    "class ListInstance:\n",
    "\n",
    "    def __str__(self):\n",
    "        return f'<Instancja klasy {self.__class__.__name__}({self.names}), adres:{id(self)}>' \n",
    "    def __attrnames(self):\n",
    "        result = ''\n",
    "        for attr in sorted(self.__dict__):                 # słownik atrybutów instancji\n",
    "            result += '\\tnazwa %s=%s\\n' % (attr, self.__dict__ [attr])\n",
    "        return result\n",
    "    \n",
    "    def __init__(self):\n",
    "        self.names = []\n",
    "        for super in self.__class__.__bases__:\n",
    "            self.names.append(super.__name__)\n",
    "    \n",
    "class ListInherited:\n",
    "    def __str__(self):\n",
    "        return '<Instancja klasy %s, adres %s:\\n%s>' % (\n",
    "                              self.__class__.__name__,     # nazwa klasy\n",
    "                              id(self),                    # adres\n",
    "                              self.__attrnames())          # lista nazwa=wartość\n",
    "    def __attrnames(self):\n",
    "        result = ''\n",
    "        for attr in dir(self):                             # Lista nazw atrybutów\n",
    "            if attr[:2] == '__' and attr[-2:] == '__':     # Pomijamy nazwy wewnętrzne\n",
    "                result += '\\tname %s=<>\\n' % attr\n",
    "            else:\n",
    "                result += '\\tname %s=%s\\n' % (attr, getattr(self, attr))\n",
    "        return result\n",
    "    \n",
    "class ListTree:\n",
    "    def __str__(self):\n",
    "        self.__visited = {}\n",
    "        return '<Instancja klasy {0}, adres {1}:\\n{2}{3}>'.format(\n",
    "                                            self.__class__.__name__,\n",
    "                                            id(self),\n",
    "                                            self.__attrnames(self, 0),\n",
    "                                            self.__listclass(self.__class__, 4))\n",
    "    def __listclass(self, aClass, indent):\n",
    "        dots = '.' * indent\n",
    "        if aClass in self.__visited:\n",
    "            return '\\n{0}<Klasa {1}:, adres {2}: (patrz wyżej)>\\n'.format(\n",
    "                           dots,\n",
    "                           aClass.__name__,\n",
    "                           id(aClass))\n",
    "        else:\n",
    "            self.__visited[aClass] = True\n",
    "            genabove = (self.__listclass(c, indent+4) for c in aClass.__bases__)\n",
    "            return '\\n{0}<Klas {1}, adres {2}:\\n{3}{4}{5}>\\n'.format(\n",
    "                           dots,\n",
    "                           aClass.__name__,\n",
    "                           id(aClass),\n",
    "                           self.__attrnames(aClass, indent),\n",
    "                           ''.join(genabove),\n",
    "                           dots)\n",
    "    def __attrnames(self, obj, indent):\n",
    "        spaces = ' ' * (indent + 4)\n",
    "        result = ''\n",
    "        for attr in sorted(obj.__dict__):\n",
    "            if attr.startswith('__') and attr.endswith('__'):\n",
    "                result += spaces + '{0}=<>\\n'.format(attr)\n",
    "            else:\n",
    "                result += spaces + '{0}={1}\\n'.format(attr, getattr(obj, attr))\n",
    "        return result"
   ]
  },
  {
   "cell_type": "code",
   "execution_count": 280,
   "metadata": {},
   "outputs": [],
   "source": [
    "class Sub(ListInstance): pass"
   ]
  },
  {
   "cell_type": "code",
   "execution_count": 281,
   "metadata": {},
   "outputs": [],
   "source": [
    "s = Sub()"
   ]
  },
  {
   "cell_type": "code",
   "execution_count": 282,
   "metadata": {},
   "outputs": [
    {
     "name": "stdout",
     "output_type": "stream",
     "text": [
      "<Instancja klasy Sub(['ListInstance']), adres:85532384>\n"
     ]
    }
   ],
   "source": [
    "print(s)"
   ]
  },
  {
   "cell_type": "code",
   "execution_count": 31,
   "metadata": {},
   "outputs": [],
   "source": [
    "class Lunch:\n",
    "    def __init__(self):                      # Tworzy/osadza klasy Customer oraz Employee\n",
    "        self.Cust = Customer()\n",
    "        self.Empl = Employee()\n",
    "    def order(self, foodName):               # Rozpoczęcie symulacji zamówienia klienta Customer\n",
    "        self.Cust.placeOrder(foodName, self.Empl)\n",
    "    def result(self):                        # Zapytanie klienta Customer, jakie ma jedzenie Food\n",
    "        self.Cust.printFood()\n",
    "    \n",
    "class Customer:\n",
    "    def __init__(self):                        # Inicjalizacja mojego jedzenia na None\n",
    "        self.food = None\n",
    "    def placeOrder(self, foodName, employee):  # Złożenie zamówienia pracownikowi Employee\n",
    "        self.food = employee.takeOrder(foodName)\n",
    "    def printFood(self):                       # Wyświetlenie nazwy mojego jedzenia\n",
    "        print(self.food.name)\n",
    "    \n",
    "class Employee:\n",
    "    def takeOrder(self, foodName):             # Zwraca jedzenie Food z żądaną nazwą\n",
    "        return Food(foodName)\n",
    "    \n",
    "class Food:\n",
    "    def __init__(self, name):                  # Przechowanie nazwy jedzenia    \n",
    "        self.name = name"
   ]
  },
  {
   "cell_type": "code",
   "execution_count": 32,
   "metadata": {},
   "outputs": [],
   "source": [
    "x = Lunch()"
   ]
  },
  {
   "cell_type": "code",
   "execution_count": 33,
   "metadata": {},
   "outputs": [
    {
     "name": "stdout",
     "output_type": "stream",
     "text": [
      "burrito\n"
     ]
    }
   ],
   "source": [
    "x.order('burrito')\n",
    "x.result()"
   ]
  },
  {
   "cell_type": "code",
   "execution_count": 29,
   "metadata": {},
   "outputs": [],
   "source": [
    "\n",
    "class Lunch:\n",
    "    def __init__(self):                       # Utworzenie/osadzenie klas Customer oraz Employee\n",
    "        self.cust = Customer( )\n",
    "        self.empl = Employee( )\n",
    "    def order(self, foodName):                # Rozpoczęcie symulacji zamówienia klienta Customer\n",
    "        self.cust.placeOrder(foodName, self.empl)\n",
    "    def result(self):                         # Zapytanie klienta Customer o jego jedzenie Food\n",
    "        self.cust.printFood( )\n",
    "class Customer:\n",
    "    def __init__(self):                       # Inicjalizacja mojego jedzenia na None\n",
    "        self.food = None\n",
    "    def placeOrder(self, foodName, employee): # Złożenie zamówienia pracownikowi Employee\n",
    "        self.food = employee.takeOrder(foodName)   \n",
    "    def printFood(self):                      # Wyświetlenie nazwy mojego jedzenia\n",
    "        print(self.food.name)\n",
    "class Employee:\n",
    "    def takeOrder(self, foodName):            # Zwrócenie jedzenia Food o żądanej nazwie\n",
    "         return Food(foodName)\n",
    "class Food:\n",
    "    def __init__(self, name):                 # Przechowanie nazwy jedzenia\n",
    "        self.name = name"
   ]
  },
  {
   "cell_type": "code",
   "execution_count": 30,
   "metadata": {},
   "outputs": [
    {
     "name": "stdout",
     "output_type": "stream",
     "text": [
      "burrito\n"
     ]
    }
   ],
   "source": [
    "x = Lunch()\n",
    "x.order('burrito')\n",
    "x.result()"
   ]
  },
  {
   "cell_type": "code",
   "execution_count": 35,
   "metadata": {},
   "outputs": [],
   "source": [
    "class Animal:\n",
    "    def speak(self):\n",
    "        print(\"tutaj Animal\")\n",
    "    def reply(self):\n",
    "        self.speak()\n",
    "\n",
    "class Mammal(Animal):\n",
    "    def speak(self):\n",
    "        print(\"tutaj Mammal\")\n",
    "\n",
    "class Cat(Mammal):\n",
    "    def speak(self):\n",
    "        print(\"tutaj Cat\")\n",
    "\n",
    "class Dog(Mammal):\n",
    "    def speak(self):\n",
    "        print(\"tutaj Dog\")\n",
    "\n",
    "class Primate(Mammal):\n",
    "    def speak(self):\n",
    "        print(\"tutaj Primate\")\n",
    "\n",
    "class Hacker(Primate): pass"
   ]
  },
  {
   "cell_type": "code",
   "execution_count": 37,
   "metadata": {},
   "outputs": [],
   "source": [
    "z = Dog()"
   ]
  },
  {
   "cell_type": "code",
   "execution_count": 38,
   "metadata": {},
   "outputs": [
    {
     "name": "stdout",
     "output_type": "stream",
     "text": [
      "tutaj Dog\n"
     ]
    }
   ],
   "source": [
    "z.speak()"
   ]
  },
  {
   "cell_type": "code",
   "execution_count": 39,
   "metadata": {},
   "outputs": [
    {
     "name": "stdout",
     "output_type": "stream",
     "text": [
      "tutaj Dog\n"
     ]
    }
   ],
   "source": [
    "z.reply()"
   ]
  },
  {
   "cell_type": "code",
   "execution_count": 53,
   "metadata": {},
   "outputs": [],
   "source": [
    "class Scene:\n",
    "    def __init__(self):\n",
    "        self.Cust = Customer()\n",
    "        self.Cl = Clerk()\n",
    "        self.Parr = Parrot()        \n",
    "    def action(self):\n",
    "        self.Cust.line()\n",
    "        self.Cl.line()\n",
    "        self.Parr.line()\n",
    "\n",
    "class Customer:\n",
    "    def line(self):\n",
    "        print(\"customer\")\n",
    "        \n",
    "class Clerk:\n",
    "    def line(self):\n",
    "        print(\"clerk\")\n",
    "        \n",
    "class Parrot:\n",
    "    def line(self):\n",
    "        print(\"parrot\")"
   ]
  },
  {
   "cell_type": "code",
   "execution_count": 54,
   "metadata": {},
   "outputs": [
    {
     "name": "stdout",
     "output_type": "stream",
     "text": [
      "customer\n",
      "clerk\n",
      "parrot\n"
     ]
    }
   ],
   "source": [
    "Scene().action()"
   ]
  },
  {
   "cell_type": "code",
   "execution_count": null,
   "metadata": {},
   "outputs": [],
   "source": []
  }
 ],
 "metadata": {
  "kernelspec": {
   "display_name": "Python 3",
   "language": "python",
   "name": "python3"
  },
  "language_info": {
   "codemirror_mode": {
    "name": "ipython",
    "version": 3
   },
   "file_extension": ".py",
   "mimetype": "text/x-python",
   "name": "python",
   "nbconvert_exporter": "python",
   "pygments_lexer": "ipython3",
   "version": "3.8.1"
  }
 },
 "nbformat": 4,
 "nbformat_minor": 4
}
