{
 "cells": [
  {
   "cell_type": "markdown",
   "metadata": {},
   "source": [
    "    #### if  < test1 >:            # test if\n",
    "        ####     < instrukcje1 >       # powiązany blok\n",
    "    #### elif < test2 >:           # opcjonalne testy elif\n",
    "        ####    < instrukcje2 >\n",
    "    #### else:                     # opcjonalne else\n",
    "        ####     < instrukcje3 >"
   ]
  },
  {
   "cell_type": "code",
   "execution_count": 1,
   "metadata": {},
   "outputs": [
    {
     "name": "stdout",
     "output_type": "stream",
     "text": [
      "prawda\n"
     ]
    }
   ],
   "source": [
    "if 1:\n",
    "    print('prawda')"
   ]
  },
  {
   "cell_type": "code",
   "execution_count": 2,
   "metadata": {},
   "outputs": [
    {
     "name": "stdout",
     "output_type": "stream",
     "text": [
      "fałsz\n"
     ]
    }
   ],
   "source": [
    "if not 1: \n",
    "    print('prawda')\n",
    "else:\n",
    "    print('fałsz')"
   ]
  },
  {
   "cell_type": "code",
   "execution_count": 3,
   "metadata": {},
   "outputs": [],
   "source": [
    "x = 'nic'"
   ]
  },
  {
   "cell_type": "code",
   "execution_count": 4,
   "metadata": {},
   "outputs": [
    {
     "name": "stdout",
     "output_type": "stream",
     "text": [
      "run, Forest, run!\n"
     ]
    }
   ],
   "source": [
    "if x == 'coś':\n",
    "    print('tak, to coś')\n",
    "elif x == 'inne coś':\n",
    "    print('co slychać, doktorku?')\n",
    "else:\n",
    "    print('run, Forest, run!')"
   ]
  },
  {
   "cell_type": "code",
   "execution_count": 5,
   "metadata": {},
   "outputs": [
    {
     "name": "stdout",
     "output_type": "stream",
     "text": [
      "0.88\n"
     ]
    }
   ],
   "source": [
    "choice = 'mleko'    # słownikiem mozna szybciej wyciągnąc dane niz ifem w takich sytuacjach jak ta\n",
    "print({'mielonka': 1.25,\n",
    "      'szynka': 1.99,\n",
    "      'mleko': 0.88,\n",
    "      'jabłko': 1.10}[choice])"
   ]
  },
  {
   "cell_type": "code",
   "execution_count": 6,
   "metadata": {},
   "outputs": [
    {
     "name": "stdout",
     "output_type": "stream",
     "text": [
      "0.88\n"
     ]
    }
   ],
   "source": [
    "if choice == 'mleko':    # to samo co wyżej, ale zapis else uwzglednia przypadek braku wyboru produktu\n",
    "    print(0.88)\n",
    "elif choice == 'mielonka':\n",
    "    print(1.25)\n",
    "elif choice == 'szynka':\n",
    "    print(1.99)\n",
    "elif choice == 'jabłko':\n",
    "    print(1.10)\n",
    "else:\n",
    "    print('taki niezdecydowany klient spożywczaka')"
   ]
  },
  {
   "cell_type": "code",
   "execution_count": 7,
   "metadata": {},
   "outputs": [],
   "source": [
    "brancz = {'mielonka': 1.25,\n",
    "      'szynka': 1.99,\n",
    "      'mleko': 0.88}"
   ]
  },
  {
   "cell_type": "code",
   "execution_count": 8,
   "metadata": {},
   "outputs": [
    {
     "name": "stdout",
     "output_type": "stream",
     "text": [
      "1.25\n"
     ]
    }
   ],
   "source": [
    "print(brancz.get('mielonka', 'taki niezdecydowany klient spożywaczaka'))"
   ]
  },
  {
   "cell_type": "code",
   "execution_count": 9,
   "metadata": {},
   "outputs": [
    {
     "name": "stdout",
     "output_type": "stream",
     "text": [
      "taki niezdecydowany klient spożywaczaka\n"
     ]
    }
   ],
   "source": [
    "print(brancz.get('cukiereczki', 'taki niezdecydowany klient spożywaczaka'))"
   ]
  },
  {
   "cell_type": "code",
   "execution_count": 10,
   "metadata": {},
   "outputs": [
    {
     "name": "stdout",
     "output_type": "stream",
     "text": [
      "taki niezdecydowany klient spożywczaka\n"
     ]
    }
   ],
   "source": [
    "choice = 'boczek'  # sprawdzanie czy boczek jest w branczu\n",
    "if choice in brancz:\n",
    "    print (brancz[choice])\n",
    "else:\n",
    "    print('taki niezdecydowany klient spożywczaka')"
   ]
  },
  {
   "cell_type": "code",
   "execution_count": 11,
   "metadata": {},
   "outputs": [
    {
     "name": "stdout",
     "output_type": "stream",
     "text": [
      "jukajukajukajukajukajukajukajuka\n",
      "jukaNI!jukaNI!\n"
     ]
    }
   ],
   "source": [
    "x = 'juka'\n",
    "if 'płot' in 'żywopłot':\n",
    "    print(x * 8)\n",
    "    x+= 'NI!'\n",
    "    if x.endswith('NI!'):\n",
    "        x *= 2\n",
    "        print(x)"
   ]
  },
  {
   "cell_type": "markdown",
   "metadata": {},
   "source": [
    "### wyrażenie trojelementowe if/else  (jeśli X to Y, w przeciwnym razie Z)"
   ]
  },
  {
   "cell_type": "markdown",
   "metadata": {},
   "source": [
    "    if X:\n",
    "        A = Y\n",
    "    else:\n",
    "        A = Z"
   ]
  },
  {
   "cell_type": "markdown",
   "metadata": {},
   "source": [
    "### zapis równoznaczny:\n",
    "\n",
    "      A = Y if X else Z \n",
    "\n",
    "### kolejny zapis równoznaczny:\n",
    "      A = ((X and Y) or Z"
   ]
  },
  {
   "cell_type": "code",
   "execution_count": 12,
   "metadata": {},
   "outputs": [],
   "source": [
    "A = 'string' if 'mielonka' else 'pusty'"
   ]
  },
  {
   "cell_type": "code",
   "execution_count": 13,
   "metadata": {},
   "outputs": [
    {
     "data": {
      "text/plain": [
       "'string'"
      ]
     },
     "execution_count": 13,
     "metadata": {},
     "output_type": "execute_result"
    }
   ],
   "source": [
    "A"
   ]
  },
  {
   "cell_type": "code",
   "execution_count": 14,
   "metadata": {},
   "outputs": [],
   "source": [
    "A = 'string' if '' else 'pusty'"
   ]
  },
  {
   "cell_type": "code",
   "execution_count": 15,
   "metadata": {},
   "outputs": [
    {
     "data": {
      "text/plain": [
       "'pusty'"
      ]
     },
     "execution_count": 15,
     "metadata": {},
     "output_type": "execute_result"
    }
   ],
   "source": [
    "A"
   ]
  },
  {
   "cell_type": "markdown",
   "metadata": {},
   "source": [
    "###  testy prawdziwosci (zawsze od lewej do prawej):\n",
    "###    - or - pierwszy element po lewej stronie ktory jest prawda\n",
    "###    - and - pierwszy element po lewej stronie ktory jest falszem"
   ]
  },
  {
   "cell_type": "code",
   "execution_count": 16,
   "metadata": {},
   "outputs": [
    {
     "data": {
      "text/plain": [
       "(True, False)"
      ]
     },
     "execution_count": 16,
     "metadata": {},
     "output_type": "execute_result"
    }
   ],
   "source": [
    "2 < 3, 3 < 2"
   ]
  },
  {
   "cell_type": "code",
   "execution_count": 17,
   "metadata": {},
   "outputs": [
    {
     "data": {
      "text/plain": [
       "(2, 3)"
      ]
     },
     "execution_count": 17,
     "metadata": {},
     "output_type": "execute_result"
    }
   ],
   "source": [
    "2 or 3, 3 or 2  # zwrócenie lewego argumentu jesli jest prawdą (bo python szuka prawdy od lewej strony i jak ja znajdzie to wypluwa)"
   ]
  },
  {
   "cell_type": "code",
   "execution_count": 18,
   "metadata": {},
   "outputs": [
    {
     "data": {
      "text/plain": [
       "3"
      ]
     },
     "execution_count": 18,
     "metadata": {},
     "output_type": "execute_result"
    }
   ],
   "source": [
    "[] or 3  # zbiór pusty jest traktowany jak 0 albo False"
   ]
  },
  {
   "cell_type": "code",
   "execution_count": 19,
   "metadata": {},
   "outputs": [
    {
     "data": {
      "text/plain": [
       "{}"
      ]
     },
     "execution_count": 19,
     "metadata": {},
     "output_type": "execute_result"
    }
   ],
   "source": [
    "[] or {} # zwrócenie prawego argumentu - python zatrzymal sie na ostatnim szukajac niepustego obiektu"
   ]
  },
  {
   "cell_type": "code",
   "execution_count": 20,
   "metadata": {},
   "outputs": [
    {
     "data": {
      "text/plain": [
       "(3, 2)"
      ]
     },
     "execution_count": 20,
     "metadata": {},
     "output_type": "execute_result"
    }
   ],
   "source": [
    "2 and 3, 3 and 2  # zwraca ostatni element mimo ze nie jest fałszem"
   ]
  },
  {
   "cell_type": "code",
   "execution_count": 21,
   "metadata": {},
   "outputs": [
    {
     "data": {
      "text/plain": [
       "{}"
      ]
     },
     "execution_count": 21,
     "metadata": {},
     "output_type": "execute_result"
    }
   ],
   "source": [
    "{} and 3"
   ]
  },
  {
   "cell_type": "code",
   "execution_count": 22,
   "metadata": {},
   "outputs": [
    {
     "data": {
      "text/plain": [
       "[]"
      ]
     },
     "execution_count": 22,
     "metadata": {},
     "output_type": "execute_result"
    }
   ],
   "source": [
    "2 and []"
   ]
  },
  {
   "cell_type": "markdown",
   "metadata": {},
   "source": [
    "###  rozciąganie kodu na kilka wierszy - użycie nawiasów albo \\"
   ]
  },
  {
   "cell_type": "code",
   "execution_count": 23,
   "metadata": {},
   "outputs": [
    {
     "name": "stdout",
     "output_type": "stream",
     "text": [
      "nowy\n"
     ]
    }
   ],
   "source": [
    "a = 1\n",
    "b = 1\n",
    "c = 1\n",
    "d = 1\n",
    "e = 1\n",
    "f = 1\n",
    "if (a == b and c == d and\n",
    "   d == e and e == f):\n",
    "    print('nowy')"
   ]
  },
  {
   "cell_type": "code",
   "execution_count": 24,
   "metadata": {},
   "outputs": [],
   "source": [
    "x = 1 + 2 + \\\n",
    "+ 4                         # tutaj widac ze uzycie \\ moze byc mylace bo latwo przegapic 4"
   ]
  },
  {
   "cell_type": "code",
   "execution_count": 25,
   "metadata": {},
   "outputs": [],
   "source": [
    "x = 1; y = 2 # pisanie w jednym wierszu kilki polecen oddzielone ;"
   ]
  },
  {
   "cell_type": "code",
   "execution_count": 26,
   "metadata": {},
   "outputs": [],
   "source": [
    "S = '''   # wstawienie przez pythona \\n w miejscu załamania (z powodu uzycia trzech apostrofow)\n",
    "aaaa\n",
    "bbbb\n",
    "cccc'''"
   ]
  },
  {
   "cell_type": "code",
   "execution_count": 27,
   "metadata": {},
   "outputs": [
    {
     "data": {
      "text/plain": [
       "'   # wstawienie przez pythona \\n w miejscu załamania (z powodu uzycia trzech apostrofow)\\naaaa\\nbbbb\\ncccc'"
      ]
     },
     "execution_count": 27,
     "metadata": {},
     "output_type": "execute_result"
    }
   ],
   "source": [
    "S"
   ]
  },
  {
   "cell_type": "code",
   "execution_count": 28,
   "metadata": {},
   "outputs": [],
   "source": [
    "R = ('aaaa'    # zachodzi automatyczna konkatenacja miedzy wierszami\n",
    "    'bbbb'\n",
    "    'cccc')"
   ]
  },
  {
   "cell_type": "code",
   "execution_count": 29,
   "metadata": {},
   "outputs": [
    {
     "data": {
      "text/plain": [
       "'aaaabbbbcccc'"
      ]
     },
     "execution_count": 29,
     "metadata": {},
     "output_type": "execute_result"
    }
   ],
   "source": [
    "R"
   ]
  },
  {
   "cell_type": "code",
   "execution_count": null,
   "metadata": {},
   "outputs": [],
   "source": []
  }
 ],
 "metadata": {
  "kernelspec": {
   "display_name": "Python 3",
   "language": "python",
   "name": "python3"
  },
  "language_info": {
   "codemirror_mode": {
    "name": "ipython",
    "version": 3
   },
   "file_extension": ".py",
   "mimetype": "text/x-python",
   "name": "python",
   "nbconvert_exporter": "python",
   "pygments_lexer": "ipython3",
   "version": "3.8.1"
  }
 },
 "nbformat": 4,
 "nbformat_minor": 2
}
