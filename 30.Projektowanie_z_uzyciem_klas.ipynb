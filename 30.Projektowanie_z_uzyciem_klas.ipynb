{
 "cells": [
  {
   "cell_type": "markdown",
   "metadata": {},
   "source": [
    "### Programowanie zorientowane obiektowo i dziedziczenie — związek „jest” - dziedziczenie"
   ]
  },
  {
   "cell_type": "code",
   "execution_count": 1,
   "metadata": {},
   "outputs": [
    {
     "name": "stdout",
     "output_type": "stream",
     "text": [
      "<Pracownik: robert, wynagrodzenie=50000>\n",
      "robert przygotowuje pizzę\n",
      "<Pracownik: robert, wynagrodzenie=60000.0>\n",
      "Employee robi różne rzeczy\n",
      "Chef przygotowuje jedzenie\n",
      "Server obsługuje klienta\n",
      "PizzaRobot przygotowuje pizzę\n"
     ]
    }
   ],
   "source": [
    "class Employee:\n",
    "    def __init__(self, name, salary=0):\n",
    "        self.name = name\n",
    "        self.salary = salary\n",
    "    def giveRaise(self, percent):\n",
    "        self.salary = self.salary + (self.salary * percent)\n",
    "    def work(self):\n",
    "        print(self.name, \"robi różne rzeczy\")\n",
    "    def __repr__(self):\n",
    "        return f\"<Pracownik: {self.name}, wynagrodzenie={self.salary}>\"\n",
    "\n",
    "class Chef(Employee):\n",
    "    def __init__(self, name):\n",
    "        Employee.__init__(self, name, 50000)\n",
    "    def work(self):\n",
    "        print(self.name, \"przygotowuje jedzenie\")\n",
    "        \n",
    "class Server(Employee):\n",
    "    def __init__(self, name):\n",
    "        Employee.__init__(self, name, 40000)\n",
    "    def work(self):\n",
    "        print(self.name, \"obsługuje klienta\")\n",
    "\n",
    "class PizzaRobot(Chef):\n",
    "    def __init__(self, name):\n",
    "        Chef.__init__(self, name)\n",
    "    def work(self):\n",
    "        print(self.name, \"przygotowuje pizzę\")\n",
    "        \n",
    "if __name__ == \"__main__\":\n",
    "    bob = PizzaRobot('robert')                # Tworzy robota o imieniu Robert\n",
    "    print(bob)                                 # Wykonuje odziedziczoną metodę __repr__\n",
    "    bob.work()                                # Wykonuje działanie specyficzne dla typu\n",
    "    bob.giveRaise(0.20)                       # Daje robotowi 20-procentową podwyżkę\n",
    "    print(bob)\n",
    "    for klass in Employee, Chef, Server, PizzaRobot:\n",
    "        obj = klass(klass.__name__)\n",
    "        obj.work()"
   ]
  },
  {
   "cell_type": "markdown",
   "metadata": {},
   "source": [
    "### Programowanie zorientowane obiektowo i kompozycja — związki typu „ma”"
   ]
  },
  {
   "cell_type": "code",
   "execution_count": 2,
   "metadata": {},
   "outputs": [
    {
     "name": "stdout",
     "output_type": "stream",
     "text": [
      "Amadeusz zamawia od <Pracownik: Ernest, wynagrodzenie=40000>\n",
      "Robert przygotowuje pizzę\n",
      "piec piecze\n",
      "Amadeusz placi za zamowienie <Pracownik: Ernest, wynagrodzenie=40000>\n",
      "...\n",
      "Aleksander zamawia od <Pracownik: Ernest, wynagrodzenie=40000>\n",
      "Robert przygotowuje pizzę\n",
      "piec piecze\n",
      "Aleksander placi za zamowienie <Pracownik: Ernest, wynagrodzenie=40000>\n"
     ]
    }
   ],
   "source": [
    "import pickle \n",
    "\n",
    "class Customer:\n",
    "    def __init__(self, name):\n",
    "        self.name = name\n",
    "    def order(self, server):\n",
    "        print(self.name, \"zamawia od\", server)\n",
    "    def pay(self, server):\n",
    "        print(self.name, \"placi za zamowienie\", server)\n",
    "class Oven:\n",
    "    def bake(self):\n",
    "        print(\"piec piecze\")\n",
    "class PizzaShop:\n",
    "    def __init__(self):\n",
    "        self.server = Server('Ernest')         # Osadzenie innych obiektów \n",
    "        self.chef = PizzaRobot('Robert')       # Robot o imieniu Robert\n",
    "        self.oven = Oven()\n",
    "    def order(self, name):\n",
    "        customer = Customer(name)              # Aktywacja innych obiektów - PizzaShop MA w klientow, pracownikow, piec itp\n",
    "        customer.order(self.server)            # Klient zamawia od kelnera\n",
    "        self.chef.work()\n",
    "        self.oven.bake()\n",
    "        customer.pay(self.server)\n",
    "if __name__ == \"__main__\":\n",
    "    scene = PizzaShop()                       # Utworzenie kompozytu\n",
    "    scene.order('Amadeusz')                   # Symulacja zamówienia Amadeusza\n",
    "    print('...')\n",
    "    scene.order('Aleksander')                 # Symulacja zamówienia Aleksandra\n",
    "    pickle.dump(scene, open('scenefile.dat', 'wb'))  # utworzenie pliku pickle i zapisanie danych w formie binarnej"
   ]
  },
  {
   "cell_type": "code",
   "execution_count": 3,
   "metadata": {},
   "outputs": [],
   "source": [
    "o = pickle.load(open('scenefile.dat', 'rb'))  # pobranie pliku pickle"
   ]
  },
  {
   "cell_type": "code",
   "execution_count": 4,
   "metadata": {},
   "outputs": [
    {
     "data": {
      "text/plain": [
       "<Pracownik: Ernest, wynagrodzenie=40000>"
      ]
     },
     "execution_count": 4,
     "metadata": {},
     "output_type": "execute_result"
    }
   ],
   "source": [
    "o.server"
   ]
  },
  {
   "cell_type": "code",
   "execution_count": 5,
   "metadata": {},
   "outputs": [
    {
     "data": {
      "text/plain": [
       "<Pracownik: Robert, wynagrodzenie=50000>"
      ]
     },
     "execution_count": 5,
     "metadata": {},
     "output_type": "execute_result"
    }
   ],
   "source": [
    "o.chef"
   ]
  },
  {
   "cell_type": "code",
   "execution_count": 6,
   "metadata": {},
   "outputs": [
    {
     "name": "stdout",
     "output_type": "stream",
     "text": [
      "Zuzanna zamawia od <Pracownik: Ernest, wynagrodzenie=40000>\n",
      "Robert przygotowuje pizzę\n",
      "piec piecze\n",
      "Zuzanna placi za zamowienie <Pracownik: Ernest, wynagrodzenie=40000>\n"
     ]
    }
   ],
   "source": [
    "o.order('Zuzanna')"
   ]
  },
  {
   "cell_type": "code",
   "execution_count": 7,
   "metadata": {},
   "outputs": [],
   "source": [
    "class Processor:\n",
    "    def __init__(self, reader, writer):\n",
    "        self.reader = reader\n",
    "        self.writer = writer\n",
    "    def process(self):\n",
    "        while 1:\n",
    "            data = self.reader.readline()\n",
    "            if not data: break\n",
    "            data = self.converter(data)\n",
    "            self.writer.write(data)\n",
    "    def converter(self, data):\n",
    "        assert 0, 'konwerter musi być zdefiniowany' # lub wywołać wyjątek"
   ]
  },
  {
   "cell_type": "code",
   "execution_count": 8,
   "metadata": {},
   "outputs": [
    {
     "name": "stdout",
     "output_type": "stream",
     "text": [
      "MIELONKA"
     ]
    }
   ],
   "source": [
    "class Uppercase(Processor):\n",
    "    def converter(self, data):\n",
    "        return data.upper()\n",
    "    \n",
    "if __name__ == '__main__':\n",
    "    import sys\n",
    "    obj = Uppercase(open('spam.txt'), sys.stdout)\n",
    "    obj.process()"
   ]
  },
  {
   "cell_type": "code",
   "execution_count": 9,
   "metadata": {},
   "outputs": [],
   "source": [
    "class HTMLize:\n",
    "    def write(self, line):\n",
    "        print(f'</PRE>{line}</PRE>')"
   ]
  },
  {
   "cell_type": "code",
   "execution_count": 10,
   "metadata": {},
   "outputs": [
    {
     "name": "stdout",
     "output_type": "stream",
     "text": [
      "</PRE>MIELONKA</PRE>\n"
     ]
    }
   ],
   "source": [
    "Uppercase(open('spam.txt'), HTMLize()).process()"
   ]
  },
  {
   "cell_type": "markdown",
   "metadata": {},
   "source": [
    "### Programowanie zorientowane obiektowo a delegacja — obiekty „opakowujące”"
   ]
  },
  {
   "cell_type": "code",
   "execution_count": 11,
   "metadata": {},
   "outputs": [],
   "source": [
    "class Wrapper:\n",
    "    def __init__(self, object):\n",
    "        self.wrapped = object\n",
    "    def __getattr__(self, attrname):   #  __getattr__ pobiera nazwę atrybutu w postaci łańcucha znaków\n",
    "        print('Śledzenie: ', attrname)\n",
    "        return getattr(self.wrapped, attrname)"
   ]
  },
  {
   "cell_type": "code",
   "execution_count": 12,
   "metadata": {},
   "outputs": [],
   "source": [
    "X = Wrapper([1,2,3])"
   ]
  },
  {
   "cell_type": "code",
   "execution_count": 13,
   "metadata": {},
   "outputs": [
    {
     "name": "stdout",
     "output_type": "stream",
     "text": [
      "Śledzenie:  append\n"
     ]
    }
   ],
   "source": [
    "X.append(4)"
   ]
  },
  {
   "cell_type": "code",
   "execution_count": 14,
   "metadata": {},
   "outputs": [
    {
     "data": {
      "text/plain": [
       "[1, 2, 3, 4]"
      ]
     },
     "execution_count": 14,
     "metadata": {},
     "output_type": "execute_result"
    }
   ],
   "source": [
    "X.wrapped"
   ]
  },
  {
   "cell_type": "code",
   "execution_count": 15,
   "metadata": {},
   "outputs": [],
   "source": [
    "Y = Wrapper({'a':1, 'b':2})"
   ]
  },
  {
   "cell_type": "code",
   "execution_count": 16,
   "metadata": {},
   "outputs": [
    {
     "name": "stdout",
     "output_type": "stream",
     "text": [
      "Śledzenie:  keys\n"
     ]
    },
    {
     "data": {
      "text/plain": [
       "dict_keys(['a', 'b'])"
      ]
     },
     "execution_count": 16,
     "metadata": {},
     "output_type": "execute_result"
    }
   ],
   "source": [
    "Y.keys()"
   ]
  },
  {
   "cell_type": "markdown",
   "metadata": {},
   "source": [
    "### Pseudoprywatne atrybuty klas:\n",
    "### zapisuje się je jako *__X* - dwie podlogi przed nazwą atrybutu\n",
    "### Python automatycznie zniekształca jego nazwę na *_NazwaKlasy__X*\n",
    "#### np. zmienna *self._X* w klasie *Klasa* otrzyma nazwę *self._Klasa__X*\n",
    "### ponieważ zmienna zawiera teraz w swojej nazwie również nazwę klasy, jest unikalna, nie będzie wchodziła w konflikt z podobnymi nazwami utworzonymi przez inne klasy hierarchii\n",
    "###  Nazwy pseudoprywatne zabezpieczają przed przypadkowym przesłonięciem nazwy\n"
   ]
  },
  {
   "cell_type": "markdown",
   "metadata": {},
   "source": [
    "### używa się ich np gdy kilku programistow pracuje na tym samym kodzie:\n",
    "    class C1:\n",
    "        def m1(self): self.x = 88\n",
    "        def m2(self): print(self.x)\n",
    "### a inny programista dopisze swoja klase:\n",
    "    class C2:\n",
    "        def m1(self): self.x = 99\n",
    "        def m2(self): print(self.x)\n",
    "### i utworzy np klase C3(C1,C2) - w tym wypadku atrybut x wystepuje 2 razy w klasie C3 :/"
   ]
  },
  {
   "cell_type": "code",
   "execution_count": 17,
   "metadata": {},
   "outputs": [],
   "source": [
    "# ponizej zabezpiecznenie przed taka sytuacja:\n",
    "class C1:\n",
    "    def m11(self): self.__x = 88\n",
    "    def m12(self): print(self.__x)\n",
    "        \n",
    "class C2:\n",
    "    def m21(self): self.__x = 99\n",
    "    def m22(self): print(self.__x)"
   ]
  },
  {
   "cell_type": "code",
   "execution_count": 18,
   "metadata": {},
   "outputs": [],
   "source": [
    "class C3(C1, C2): pass"
   ]
  },
  {
   "cell_type": "code",
   "execution_count": 19,
   "metadata": {},
   "outputs": [],
   "source": [
    "I = C3()"
   ]
  },
  {
   "cell_type": "code",
   "execution_count": 20,
   "metadata": {},
   "outputs": [],
   "source": [
    "I.m11()"
   ]
  },
  {
   "cell_type": "code",
   "execution_count": 21,
   "metadata": {},
   "outputs": [],
   "source": [
    "I.m21()"
   ]
  },
  {
   "cell_type": "code",
   "execution_count": 22,
   "metadata": {},
   "outputs": [
    {
     "name": "stdout",
     "output_type": "stream",
     "text": [
      "{'_C1__x': 88, '_C2__x': 99}\n"
     ]
    }
   ],
   "source": [
    "print(I.__dict__)  # dwa niezalezne atrybuty x, ktore nie wchodza ze soba w konflikt"
   ]
  },
  {
   "cell_type": "code",
   "execution_count": 23,
   "metadata": {
    "scrolled": true
   },
   "outputs": [
    {
     "data": {
      "text/plain": [
       "['_C1__x',\n",
       " '_C2__x',\n",
       " '__class__',\n",
       " '__delattr__',\n",
       " '__dict__',\n",
       " '__dir__',\n",
       " '__doc__',\n",
       " '__eq__',\n",
       " '__format__',\n",
       " '__ge__',\n",
       " '__getattribute__',\n",
       " '__gt__',\n",
       " '__hash__',\n",
       " '__init__',\n",
       " '__init_subclass__',\n",
       " '__le__',\n",
       " '__lt__',\n",
       " '__module__',\n",
       " '__ne__',\n",
       " '__new__',\n",
       " '__reduce__',\n",
       " '__reduce_ex__',\n",
       " '__repr__',\n",
       " '__setattr__',\n",
       " '__sizeof__',\n",
       " '__str__',\n",
       " '__subclasshook__',\n",
       " '__weakref__',\n",
       " 'm11',\n",
       " 'm12',\n",
       " 'm21',\n",
       " 'm22']"
      ]
     },
     "execution_count": 23,
     "metadata": {},
     "output_type": "execute_result"
    }
   ],
   "source": [
    "dir(I)"
   ]
  },
  {
   "cell_type": "code",
   "execution_count": 24,
   "metadata": {},
   "outputs": [
    {
     "data": {
      "text/plain": [
       "88"
      ]
     },
     "execution_count": 24,
     "metadata": {},
     "output_type": "execute_result"
    }
   ],
   "source": [
    "I._C1__x"
   ]
  },
  {
   "cell_type": "code",
   "execution_count": 25,
   "metadata": {},
   "outputs": [],
   "source": [
    "I._C1__x = 77 # w ten sposob mozna nadpisac ten nibyprywatny atrybut"
   ]
  },
  {
   "cell_type": "markdown",
   "metadata": {},
   "source": [
    "### Obiekty metod klas bez wiązania (ang. unbound) — bez *self*\n",
    "Dostęp do atrybutu funkcji klasy za pomocą składni kwalifikującej z klasą zwraca obiekt\n",
    "metody bez wiązania. By wywołać metodę, musimy w sposób jawny dostarczyć jej w pierwszym argumencie obiekt instancji. Metoda niezwiązana jest traktowana tak samo jak zwykła funkcja i może być wywołana z poziomu klasy.\n",
    "### Obiekty metod instancji z wiązaniem (ang. bound) — pary *self + funkcja*\n",
    "Dostęp do atrybutu funkcji klasy za pomocą składni kwalifikującej z instancją zwraca obiekt\n",
    "metody z wiązaniem. Python automatycznie pakuje instancję z funkcją w obiekt metody\n",
    "z wiązaniem, dzięki czemu nie musimy do wywołania tej metody przekazywać instancji."
   ]
  },
  {
   "cell_type": "code",
   "execution_count": 26,
   "metadata": {},
   "outputs": [],
   "source": [
    "# przykład, bo nie rozumiem tej definicji z ksiazki:\n",
    "class Klasa:\n",
    "    def doit(self, message):\n",
    "        print(message)"
   ]
  },
  {
   "cell_type": "code",
   "execution_count": 27,
   "metadata": {},
   "outputs": [],
   "source": [
    "o1 = Klasa()"
   ]
  },
  {
   "cell_type": "code",
   "execution_count": 28,
   "metadata": {},
   "outputs": [
    {
     "name": "stdout",
     "output_type": "stream",
     "text": [
      "joł\n"
     ]
    }
   ],
   "source": [
    "o1.doit('joł') # zwrócony zostanie obiekt metody z wiązaniem, pakujący instancje o1 z metoda funkcji Klasa.doit"
   ]
  },
  {
   "cell_type": "code",
   "execution_count": 29,
   "metadata": {},
   "outputs": [],
   "source": [
    "x = o1.doit    # przypisanie obiektu metody z wiązaniem: instancja + funkcja"
   ]
  },
  {
   "cell_type": "code",
   "execution_count": 30,
   "metadata": {},
   "outputs": [
    {
     "name": "stdout",
     "output_type": "stream",
     "text": [
      "siema\n"
     ]
    }
   ],
   "source": [
    "x('siema')"
   ]
  },
  {
   "cell_type": "code",
   "execution_count": 31,
   "metadata": {},
   "outputs": [],
   "source": [
    "o2 = Klasa()"
   ]
  },
  {
   "cell_type": "code",
   "execution_count": 32,
   "metadata": {},
   "outputs": [],
   "source": [
    "t = Klasa.doit      # obiekt metody bez zwiazania - odwolanie do klasy a nie instancji - od tej pory traktowany po prostu jak funkcja"
   ]
  },
  {
   "cell_type": "code",
   "execution_count": 33,
   "metadata": {},
   "outputs": [
    {
     "name": "stdout",
     "output_type": "stream",
     "text": [
      "siemka\n"
     ]
    }
   ],
   "source": [
    "t(o2, 'siemka')     # przekazanie instancji"
   ]
  },
  {
   "cell_type": "code",
   "execution_count": 34,
   "metadata": {},
   "outputs": [],
   "source": [
    "class Selfless:\n",
    "    def __init__(self, data):\n",
    "        self.data = data\n",
    "    def selfless(a1, a2):      # jest zwykla funkcja (nie ma self)\n",
    "        return a1 + a2\n",
    "    def normal(self, a1, a2):  # jest metoda, oczekuje instancji\n",
    "        return self.data + a1 + a2"
   ]
  },
  {
   "cell_type": "code",
   "execution_count": 35,
   "metadata": {},
   "outputs": [],
   "source": [
    "Z = Selfless(2)"
   ]
  },
  {
   "cell_type": "code",
   "execution_count": 36,
   "metadata": {},
   "outputs": [
    {
     "data": {
      "text/plain": [
       "8"
      ]
     },
     "execution_count": 36,
     "metadata": {},
     "output_type": "execute_result"
    }
   ],
   "source": [
    "Z.normal(2, 4)     # instancja jest przekazana automatycznie"
   ]
  },
  {
   "cell_type": "code",
   "execution_count": 37,
   "metadata": {},
   "outputs": [
    {
     "data": {
      "text/plain": [
       "8"
      ]
     },
     "execution_count": 37,
     "metadata": {},
     "output_type": "execute_result"
    }
   ],
   "source": [
    "Selfless.normal(Z, 2, 4)   # parametr self=Z oczekiwany przez metode przekazany recznie"
   ]
  },
  {
   "cell_type": "code",
   "execution_count": 38,
   "metadata": {},
   "outputs": [
    {
     "data": {
      "text/plain": [
       "7"
      ]
     },
     "execution_count": 38,
     "metadata": {},
     "output_type": "execute_result"
    }
   ],
   "source": [
    "Selfless.selfless(3, 4)   # brak instancji (dziala w pythonie 3.0 ale w 2.6 juz nie)"
   ]
  },
  {
   "cell_type": "code",
   "execution_count": 39,
   "metadata": {},
   "outputs": [],
   "source": [
    "# Z.selfless(3, 4) # nie dziala bo powoduje przekazanie instancji do metody, ktora go nie oczekuje (nie ma agrumentu self)"
   ]
  },
  {
   "cell_type": "code",
   "execution_count": 40,
   "metadata": {},
   "outputs": [],
   "source": [
    "# Selfless.normal(3,4)  # nie dziala bo nie przekazuje instancji (self) do metody, ktora jej oczekuje"
   ]
  },
  {
   "cell_type": "code",
   "execution_count": 41,
   "metadata": {},
   "outputs": [],
   "source": [
    "class Number:\n",
    "    def __init__(self, base):\n",
    "        self.base = base\n",
    "    def double(self):\n",
    "        return self.base * 2\n",
    "    def triple(self):\n",
    "        return self.base * 3"
   ]
  },
  {
   "cell_type": "code",
   "execution_count": 42,
   "metadata": {},
   "outputs": [],
   "source": [
    "x = Number(2)\n",
    "y = Number(3)\n",
    "z = Number(4)"
   ]
  },
  {
   "cell_type": "code",
   "execution_count": 43,
   "metadata": {},
   "outputs": [
    {
     "data": {
      "text/plain": [
       "4"
      ]
     },
     "execution_count": 43,
     "metadata": {},
     "output_type": "execute_result"
    }
   ],
   "source": [
    "x.double()      # zwykle wywolanie bezposrednie"
   ]
  },
  {
   "cell_type": "code",
   "execution_count": 44,
   "metadata": {},
   "outputs": [
    {
     "data": {
      "text/plain": [
       "{'base': 2}"
      ]
     },
     "execution_count": 44,
     "metadata": {},
     "output_type": "execute_result"
    }
   ],
   "source": [
    "x.__dict__"
   ]
  },
  {
   "cell_type": "code",
   "execution_count": 45,
   "metadata": {},
   "outputs": [],
   "source": [
    "xyz = [x.double, y.double, y.triple, z.double]  # lista metod zwiazanych"
   ]
  },
  {
   "cell_type": "code",
   "execution_count": 46,
   "metadata": {},
   "outputs": [
    {
     "name": "stdout",
     "output_type": "stream",
     "text": [
      "4\n",
      "6\n",
      "9\n",
      "8\n"
     ]
    }
   ],
   "source": [
    "for a in xyz:    # wywolanie w trybie zwyklych funkcji\n",
    "    print(a())"
   ]
  },
  {
   "cell_type": "code",
   "execution_count": 47,
   "metadata": {},
   "outputs": [],
   "source": [
    "b = x.double"
   ]
  },
  {
   "cell_type": "code",
   "execution_count": 48,
   "metadata": {},
   "outputs": [
    {
     "data": {
      "text/plain": [
       "(<__main__.Number at 0x50e58e0>, <function __main__.Number.double(self)>)"
      ]
     },
     "execution_count": 48,
     "metadata": {},
     "output_type": "execute_result"
    }
   ],
   "source": [
    "b.__self__, b.__func__"
   ]
  },
  {
   "cell_type": "code",
   "execution_count": 49,
   "metadata": {},
   "outputs": [
    {
     "data": {
      "text/plain": [
       "2"
      ]
     },
     "execution_count": 49,
     "metadata": {},
     "output_type": "execute_result"
    }
   ],
   "source": [
    "b.__self__.base"
   ]
  },
  {
   "cell_type": "code",
   "execution_count": 50,
   "metadata": {},
   "outputs": [],
   "source": [
    "def kwadrat(arg):\n",
    "    return arg ** 2"
   ]
  },
  {
   "cell_type": "code",
   "execution_count": 51,
   "metadata": {},
   "outputs": [],
   "source": [
    "class Sum:\n",
    "    def __init__(self, val):\n",
    "        self.val = val\n",
    "    def __call__(self, arg):\n",
    "        return self.val + arg"
   ]
  },
  {
   "cell_type": "code",
   "execution_count": 52,
   "metadata": {},
   "outputs": [],
   "source": [
    "class Iloczyn:\n",
    "    def __init__(self, val):\n",
    "        self.val = val\n",
    "    def metoda(self, arg):\n",
    "        return self.val * arg"
   ]
  },
  {
   "cell_type": "code",
   "execution_count": 53,
   "metadata": {},
   "outputs": [],
   "source": [
    "sobject = Sum(2)"
   ]
  },
  {
   "cell_type": "code",
   "execution_count": 54,
   "metadata": {},
   "outputs": [],
   "source": [
    "pobject = Iloczyn(3)"
   ]
  },
  {
   "cell_type": "code",
   "execution_count": 55,
   "metadata": {},
   "outputs": [],
   "source": [
    "akcje = [kwadrat, sobject, pobject.metoda]"
   ]
  },
  {
   "cell_type": "code",
   "execution_count": 56,
   "metadata": {},
   "outputs": [
    {
     "name": "stdout",
     "output_type": "stream",
     "text": [
      "25\n",
      "7\n",
      "15\n"
     ]
    }
   ],
   "source": [
    "for a in akcje:\n",
    "    print(a(5))"
   ]
  },
  {
   "cell_type": "code",
   "execution_count": 57,
   "metadata": {},
   "outputs": [
    {
     "data": {
      "text/plain": [
       "[25, 7, 15]"
      ]
     },
     "execution_count": 57,
     "metadata": {},
     "output_type": "execute_result"
    }
   ],
   "source": [
    "[a(5) for a in akcje]"
   ]
  },
  {
   "cell_type": "code",
   "execution_count": 58,
   "metadata": {},
   "outputs": [
    {
     "data": {
      "text/plain": [
       "[25, 7, 15]"
      ]
     },
     "execution_count": 58,
     "metadata": {},
     "output_type": "execute_result"
    }
   ],
   "source": [
    "list(map(lambda a: a(5), akcje))"
   ]
  },
  {
   "cell_type": "code",
   "execution_count": 59,
   "metadata": {},
   "outputs": [],
   "source": [
    "class Negate:\n",
    "    def __init__(self,val):\n",
    "        self.val = -val\n",
    "    def __repr__(self):\n",
    "        return str(self.val)"
   ]
  },
  {
   "cell_type": "code",
   "execution_count": 60,
   "metadata": {},
   "outputs": [],
   "source": [
    "akcje2 = [kwadrat, sobject, pobject.metoda, Negate]"
   ]
  },
  {
   "cell_type": "code",
   "execution_count": 61,
   "metadata": {},
   "outputs": [
    {
     "name": "stdout",
     "output_type": "stream",
     "text": [
      "25\n",
      "7\n",
      "15\n",
      "-5\n"
     ]
    }
   ],
   "source": [
    "for a in akcje2:\n",
    "    print(a(5))"
   ]
  },
  {
   "cell_type": "code",
   "execution_count": 62,
   "metadata": {},
   "outputs": [
    {
     "data": {
      "text/plain": [
       "[25, 7, 15, -5]"
      ]
     },
     "execution_count": 62,
     "metadata": {},
     "output_type": "execute_result"
    }
   ],
   "source": [
    "[a(5) for a in akcje2]"
   ]
  },
  {
   "cell_type": "code",
   "execution_count": 63,
   "metadata": {},
   "outputs": [],
   "source": [
    "table = {a(5): a for a in akcje2}"
   ]
  },
  {
   "cell_type": "code",
   "execution_count": 64,
   "metadata": {},
   "outputs": [
    {
     "name": "stdout",
     "output_type": "stream",
     "text": [
      "25 => <function kwadrat at 0x00000000050E7D30>\n",
      "7 => <__main__.Sum object at 0x0000000005380190>\n",
      "15 => <bound method Iloczyn.metoda of <__main__.Iloczyn object at 0x00000000053806A0>>\n",
      "-5 => <class '__main__.Negate'>\n"
     ]
    }
   ],
   "source": [
    "for (key, value) in table.items():\n",
    "    print(f'{key} => {value}')"
   ]
  },
  {
   "cell_type": "markdown",
   "metadata": {},
   "source": [
    "### DZIEDZICZENIE WIELOKROTNE - KLASY MIESZANE:\n",
    "### Wyszukiwanie nazw odbywa się od lewej do prawej, czyli w przypadku klasy C3(C1, C2), python szuka nazwy najpierw w klasie C3, potem gdy jej tam nie znajdzie w C1, potem w C2"
   ]
  },
  {
   "cell_type": "markdown",
   "metadata": {},
   "source": [
    "### Odczyt listy atrybutów obiektu — *__ dict __()*"
   ]
  },
  {
   "cell_type": "code",
   "execution_count": 65,
   "metadata": {},
   "outputs": [],
   "source": [
    "class ListInstance:\n",
    "    \"\"\"\n",
    "    Używa __str__() wypisując nazwy i wartości atrybutów jako klasa nadrzędna.\n",
    "    Używa pseudoprywatnych atrybutów __X w celu uniknięcia konfliktów nazw.\n",
    "    \"\"\"\n",
    "    def __str__(self):\n",
    "        return f'<Instancja klasy: {self.__class__.__name__}, adres: {id(self)}, \\n{self.__attrnames()}>'\n",
    "    def __attrnames(self):\n",
    "        result = ''\n",
    "        for attr in sorted(self.__dict__):\n",
    "            result += f'\\tnazwa: {attr}-{self.__dict__[attr]}\\n'\n",
    "        return result"
   ]
  },
  {
   "cell_type": "code",
   "execution_count": 66,
   "metadata": {},
   "outputs": [],
   "source": [
    "class Szynka(ListInstance):\n",
    "    def __init__(self):\n",
    "        self.data1 = 'mięsko'"
   ]
  },
  {
   "cell_type": "code",
   "execution_count": 67,
   "metadata": {},
   "outputs": [],
   "source": [
    "S = Szynka()"
   ]
  },
  {
   "cell_type": "code",
   "execution_count": 68,
   "metadata": {},
   "outputs": [
    {
     "name": "stdout",
     "output_type": "stream",
     "text": [
      "<Instancja klasy: Szynka, adres: 87636192, \n",
      "\tnazwa: data1-mięsko\n",
      ">\n"
     ]
    }
   ],
   "source": [
    "print(S)"
   ]
  },
  {
   "cell_type": "code",
   "execution_count": 69,
   "metadata": {},
   "outputs": [
    {
     "data": {
      "text/plain": [
       "'<Instancja klasy: Szynka, adres: 87636192, \\n\\tnazwa: data1-mięsko\\n>'"
      ]
     },
     "execution_count": 69,
     "metadata": {},
     "output_type": "execute_result"
    }
   ],
   "source": [
    "str(S)"
   ]
  },
  {
   "cell_type": "code",
   "execution_count": 70,
   "metadata": {},
   "outputs": [
    {
     "data": {
      "text/plain": [
       "<__main__.Szynka at 0x53938e0>"
      ]
     },
     "execution_count": 70,
     "metadata": {},
     "output_type": "execute_result"
    }
   ],
   "source": [
    "S   # nadal domyslna jest metoda repr"
   ]
  },
  {
   "cell_type": "code",
   "execution_count": 71,
   "metadata": {},
   "outputs": [],
   "source": [
    "class KlasaN:\n",
    "    def __init__(self):\n",
    "        self.atrybutklasyN = 'dziedziczony'\n",
    "    def ham(self):\n",
    "        pass"
   ]
  },
  {
   "cell_type": "code",
   "execution_count": 72,
   "metadata": {},
   "outputs": [
    {
     "name": "stdout",
     "output_type": "stream",
     "text": [
      "<Instancja klasy: KlasaP, adres: 84859008, \n",
      "\tnazwa: atrybutklasyN-dziedziczony\n",
      "\tnazwa: data2-jaja\n",
      "\tnazwa: data3-42\n",
      ">\n"
     ]
    }
   ],
   "source": [
    "class KlasaP(KlasaN, ListInstance):\n",
    "    def __init__(self):\n",
    "        KlasaN.__init__(self)\n",
    "        self.data2 = 'jaja'\n",
    "        self.data3 = 42\n",
    "    def spam(self):\n",
    "        pass\n",
    "\n",
    "if __name__ == '__main__':\n",
    "    X = KlasaP()\n",
    "    print(X)"
   ]
  },
  {
   "cell_type": "code",
   "execution_count": 73,
   "metadata": {},
   "outputs": [],
   "source": [
    "class C(ListInstance): pass"
   ]
  },
  {
   "cell_type": "code",
   "execution_count": 74,
   "metadata": {},
   "outputs": [],
   "source": [
    "x=C()"
   ]
  },
  {
   "cell_type": "code",
   "execution_count": 75,
   "metadata": {},
   "outputs": [],
   "source": [
    "x.a = 1; x.b = 2; x.c=3"
   ]
  },
  {
   "cell_type": "code",
   "execution_count": 76,
   "metadata": {},
   "outputs": [
    {
     "name": "stdout",
     "output_type": "stream",
     "text": [
      "<Instancja klasy: C, adres: 84859344, \n",
      "\tnazwa: a-1\n",
      "\tnazwa: b-2\n",
      "\tnazwa: c-3\n",
      ">\n"
     ]
    }
   ],
   "source": [
    "print(x)"
   ]
  },
  {
   "cell_type": "markdown",
   "metadata": {},
   "source": [
    "### Wydobywanie atrybutów odziedziczonych z użyciem dir():\n",
    "Słownik __ dict__ zawiera jedynie atrybuty instancji, natomiast funkcja dir() dodatkowo zwraca atrybuty odziedziczone."
   ]
  },
  {
   "cell_type": "code",
   "execution_count": 77,
   "metadata": {},
   "outputs": [],
   "source": [
    "class ListIn2():\n",
    "    \"\"\"\n",
    "    wykorzystuje dir() do uzyskania atrybutow dziedziczonych i wyprintowania jej dzieki metodzie specjalnej __str__()\n",
    "    \"\"\"\n",
    "    def __str__(self):\n",
    "        return f'<instancja klasy {self.__class__.__name__}, adres {id(self)}:\\n{self.__attrnames()}'\n",
    "    def __attrnames(self):\n",
    "        result = ''\n",
    "        for attr in dir(self):\n",
    "            if attr[:2] == '__' and attr[-2:] == '__':\n",
    "                result += f'/tname {attr}=<>\\n'   # pomijamy niejawne atrybuty ktore maja __ na poczatku i koncu\n",
    "            else:\n",
    "                result += f'/tname {attr}={getattr(self, attr)}\\n'\n",
    "        return result"
   ]
  },
  {
   "cell_type": "code",
   "execution_count": 78,
   "metadata": {},
   "outputs": [
    {
     "name": "stdout",
     "output_type": "stream",
     "text": [
      "<instancja klasy SS, adres 84824176:\n",
      "/tname _ListIn2__attrnames=<bound method ListIn2.__attrnames of <__main__.SS object at 0x00000000050E5070>>\n",
      "/tname __class__=<>\n",
      "/tname __delattr__=<>\n",
      "/tname __dict__=<>\n",
      "/tname __dir__=<>\n",
      "/tname __doc__=<>\n",
      "/tname __eq__=<>\n",
      "/tname __format__=<>\n",
      "/tname __ge__=<>\n",
      "/tname __getattribute__=<>\n",
      "/tname __gt__=<>\n",
      "/tname __hash__=<>\n",
      "/tname __init__=<>\n",
      "/tname __init_subclass__=<>\n",
      "/tname __le__=<>\n",
      "/tname __lt__=<>\n",
      "/tname __module__=<>\n",
      "/tname __ne__=<>\n",
      "/tname __new__=<>\n",
      "/tname __reduce__=<>\n",
      "/tname __reduce_ex__=<>\n",
      "/tname __repr__=<>\n",
      "/tname __setattr__=<>\n",
      "/tname __sizeof__=<>\n",
      "/tname __str__=<>\n",
      "/tname __subclasshook__=<>\n",
      "/tname __weakref__=<>\n",
      "/tname atrybutklasyN=dziedziczony\n",
      "/tname data2=jaja\n",
      "/tname data3=42\n",
      "/tname ham=<bound method KlasaN.ham of <__main__.SS object at 0x00000000050E5070>>\n",
      "/tname spam=<bound method SS.spam of <__main__.SS object at 0x00000000050E5070>>\n",
      "\n"
     ]
    }
   ],
   "source": [
    "class SS(KlasaN, ListIn2):\n",
    "    def __init__(self):\n",
    "        KlasaN.__init__(self)\n",
    "        self.data2 = 'jaja'\n",
    "        self.data3 = 42\n",
    "    def spam(self):\n",
    "        pass\n",
    "\n",
    "if __name__ == '__main__':\n",
    "    Y = SS()\n",
    "    print(Y)"
   ]
  },
  {
   "cell_type": "markdown",
   "metadata": {},
   "source": [
    "Ponieważ wypisujemy odziedziczone atrybuty, zamiast przeciążać metodę __repr__(), musimy przeciążać __str__(). W przeciwnym razie ten kod spowodowałby zapętlenie: wypisywanie wartości metody wywołuje metodę __repr__() klasy metody."
   ]
  },
  {
   "cell_type": "code",
   "execution_count": 79,
   "metadata": {},
   "outputs": [],
   "source": [
    "class Tree:\n",
    "    def __str__(self):\n",
    "        self.__visited = {}\n",
    "        return '<Instancja klasy {0}, adres {1}:\\n{2}{3}>'.format(\n",
    "                                            self.__class__.__name__,\n",
    "                                            id(self),\n",
    "                                            self.__attrnames(self, 0),\n",
    "                                            self.__listclass(self.__class__, 4))\n",
    "    def __listclass(self, aClass, indent):\n",
    "        dots = '.' * indent\n",
    "        if aClass in self.__visited:\n",
    "            return '\\n{0}<Klasa {1}:, adres {2}: (patrz wyżej)>\\n'.format(\n",
    "                           dots,\n",
    "                           aClass.__name__,\n",
    "                           id(aClass))\n",
    "        else:\n",
    "            self.__visited[aClass] = True\n",
    "            genabove = (self.__listclass(c, indent+4) for c in aClass.__bases__)\n",
    "            return '\\n{0}<Klas {1}, adres {2}:\\n{3}{4}{5}>\\n'.format(\n",
    "                           dots,\n",
    "                           aClass.__name__,\n",
    "                           id(aClass),\n",
    "                           self.__attrnames(aClass, indent),\n",
    "                           ''.join(genabove),\n",
    "                           dots)\n",
    "    def __attrnames(self, obj, indent):\n",
    "        spaces = ' ' * (indent + 4)\n",
    "        result = ''\n",
    "        for attr in sorted(obj.__dict__):\n",
    "            if attr.startswith('__') and attr.endswith('__'):\n",
    "                result += spaces + '{0}=<>\\n'.format(attr)\n",
    "            else:\n",
    "                result += spaces + '{0}={1}\\n'.format(attr, getattr(obj, attr))\n",
    "        return result"
   ]
  },
  {
   "cell_type": "code",
   "execution_count": 80,
   "metadata": {},
   "outputs": [
    {
     "name": "stdout",
     "output_type": "stream",
     "text": [
      "<Instancja klasy T, adres 87559760:\n",
      "    _Tree__visited={}\n",
      "    atrybutklasyN=dziedziczony\n",
      "    data2=jaja\n",
      "    data3=42\n",
      "\n",
      "....<Klas T, adres 76105792:\n",
      "        __doc__=<>\n",
      "        __init__=<>\n",
      "        __module__=<>\n",
      "        spam=<function T.spam at 0x0000000005386D30>\n",
      "\n",
      "........<Klas KlasaN, adres 76100128:\n",
      "            __dict__=<>\n",
      "            __doc__=<>\n",
      "            __init__=<>\n",
      "            __module__=<>\n",
      "            __weakref__=<>\n",
      "            ham=<function KlasaN.ham at 0x00000000050B9430>\n",
      "\n",
      "............<Klas object, adres 8790742969168:\n",
      "                __class__=<>\n",
      "                __delattr__=<>\n",
      "                __dir__=<>\n",
      "                __doc__=<>\n",
      "                __eq__=<>\n",
      "                __format__=<>\n",
      "                __ge__=<>\n",
      "                __getattribute__=<>\n",
      "                __gt__=<>\n",
      "                __hash__=<>\n",
      "                __init__=<>\n",
      "                __init_subclass__=<>\n",
      "                __le__=<>\n",
      "                __lt__=<>\n",
      "                __ne__=<>\n",
      "                __new__=<>\n",
      "                __reduce__=<>\n",
      "                __reduce_ex__=<>\n",
      "                __repr__=<>\n",
      "                __setattr__=<>\n",
      "                __sizeof__=<>\n",
      "                __str__=<>\n",
      "                __subclasshook__=<>\n",
      "............>\n",
      "........>\n",
      "\n",
      "........<Klas Tree, adres 76104848:\n",
      "            _Tree__attrnames=<function Tree.__attrnames at 0x0000000005386E50>\n",
      "            _Tree__listclass=<function Tree.__listclass at 0x0000000005386B80>\n",
      "            __dict__=<>\n",
      "            __doc__=<>\n",
      "            __module__=<>\n",
      "            __str__=<>\n",
      "            __weakref__=<>\n",
      "\n",
      "............<Klasa object:, adres 8790742969168: (patrz wyżej)>\n",
      "........>\n",
      "....>\n",
      ">\n"
     ]
    }
   ],
   "source": [
    "class T(KlasaN, Tree):\n",
    "    def __init__(self):\n",
    "        KlasaN.__init__(self)\n",
    "        self.data2 = 'jaja'\n",
    "        self.data3 = 42\n",
    "    def spam(self):\n",
    "        pass\n",
    "\n",
    "if __name__ == '__main__':\n",
    "    Z = T()\n",
    "    print(Z)"
   ]
  },
  {
   "cell_type": "code",
   "execution_count": 81,
   "metadata": {},
   "outputs": [],
   "source": [
    "class ListTree:\n",
    "    \"\"\"\n",
    "    Wykorzystuje __str__() do zwracania drzewa dziedziczenia i atrybutow z kazdego poziomu drzewa\n",
    "    \"\"\"\n",
    "    def __str__(self):\n",
    "        self.__visited = {}\n",
    "        return f'<instancja klasy{self.__class__.__name__}, adres {id(self)}: \\n{self.__attrnames(self, 0)}{self.__listclass(self.__class__, 4)}'\n",
    "    def __listclass(self, aClass, ilosc):\n",
    "        kropki = '.' * ilosc\n",
    "        if aClass in self.__visited:\n",
    "            return f'\\n{kropki}<klasa {aClass.__name__}, adres {id(aClass)}: (patrz wyżej)'\n",
    "        else:\n",
    "            self.__visited[aClass] = True\n",
    "            genabove = (self.__listclass(c, ilosc + 4) for c in aClass.__bases__)\n",
    "            return f\"\\n{kropki}<klasa {aClass.__name__}, adres {id(aClass)}:\\n{self.__attrnames(aClass, ilosc)}{''.join(genabove)}{kropki}\"\n",
    "    def __attrnames(self, obj, ilosc):\n",
    "        spacje = ' ' * (ilosc + 4)\n",
    "        result = ''\n",
    "        for attr in sorted(obj.__dict__):\n",
    "            if attr.startswith('__') and attr.endswith('__'):\n",
    "                result += spacje + f'{attr} = <>\\n'\n",
    "            else:\n",
    "                result += spacje + f'{attr}={getattr(obj, attr)}\\n'\n",
    "        return result"
   ]
  },
  {
   "cell_type": "code",
   "execution_count": 82,
   "metadata": {},
   "outputs": [
    {
     "name": "stdout",
     "output_type": "stream",
     "text": [
      "<instancja klasyTT, adres 84450224: \n",
      "    _ListTree__visited={}\n",
      "    atrybutklasyN=dziedziczony\n",
      "    data2=jaja\n",
      "    data3=42\n",
      "\n",
      "....<klasa TT, adres 76107680:\n",
      "        __doc__ = <>\n",
      "        __init__ = <>\n",
      "        __module__ = <>\n",
      "        spam=<function TT.spam at 0x00000000053860D0>\n",
      "\n",
      "........<klasa KlasaN, adres 76100128:\n",
      "            __dict__ = <>\n",
      "            __doc__ = <>\n",
      "            __init__ = <>\n",
      "            __module__ = <>\n",
      "            __weakref__ = <>\n",
      "            ham=<function KlasaN.ham at 0x00000000050B9430>\n",
      "\n",
      "............<klasa object, adres 8790742969168:\n",
      "                __class__ = <>\n",
      "                __delattr__ = <>\n",
      "                __dir__ = <>\n",
      "                __doc__ = <>\n",
      "                __eq__ = <>\n",
      "                __format__ = <>\n",
      "                __ge__ = <>\n",
      "                __getattribute__ = <>\n",
      "                __gt__ = <>\n",
      "                __hash__ = <>\n",
      "                __init__ = <>\n",
      "                __init_subclass__ = <>\n",
      "                __le__ = <>\n",
      "                __lt__ = <>\n",
      "                __ne__ = <>\n",
      "                __new__ = <>\n",
      "                __reduce__ = <>\n",
      "                __reduce_ex__ = <>\n",
      "                __repr__ = <>\n",
      "                __setattr__ = <>\n",
      "                __sizeof__ = <>\n",
      "                __str__ = <>\n",
      "                __subclasshook__ = <>\n",
      "....................\n",
      "........<klasa ListTree, adres 76106736:\n",
      "            _ListTree__attrnames=<function ListTree.__attrnames at 0x0000000005386430>\n",
      "            _ListTree__listclass=<function ListTree.__listclass at 0x00000000053863A0>\n",
      "            __dict__ = <>\n",
      "            __doc__ = <>\n",
      "            __module__ = <>\n",
      "            __str__ = <>\n",
      "            __weakref__ = <>\n",
      "\n",
      "............<klasa object, adres 8790742969168: (patrz wyżej)............\n"
     ]
    }
   ],
   "source": [
    "class TT(KlasaN, ListTree):\n",
    "    def __init__(self):\n",
    "        KlasaN.__init__(self)\n",
    "        self.data2 = 'jaja'\n",
    "        self.data3 = 42\n",
    "    def spam(self):\n",
    "        pass\n",
    "\n",
    "if __name__ == '__main__':\n",
    "    A = TT()\n",
    "    print(A)"
   ]
  },
  {
   "cell_type": "markdown",
   "metadata": {},
   "source": [
    "### FABRYKI KLAS (I INNYCH OBIEKTÓW):"
   ]
  },
  {
   "cell_type": "code",
   "execution_count": 83,
   "metadata": {},
   "outputs": [],
   "source": [
    "def factory(klasa, *args):   # utworzenie prostej fabryki obiektow\n",
    "    return klasa(*args)"
   ]
  },
  {
   "cell_type": "code",
   "execution_count": 84,
   "metadata": {},
   "outputs": [],
   "source": [
    "class Spam:\n",
    "    def doit(self, message):\n",
    "        print(message)"
   ]
  },
  {
   "cell_type": "code",
   "execution_count": 85,
   "metadata": {},
   "outputs": [],
   "source": [
    "class Person:\n",
    "    def __init__(self, name, job):\n",
    "        self.name = name\n",
    "        self.job = job"
   ]
  },
  {
   "cell_type": "code",
   "execution_count": 86,
   "metadata": {},
   "outputs": [],
   "source": [
    "object1 = factory(Spam)  #  uzycie funkcji-fabryki w celu stworzenia instancji klasy"
   ]
  },
  {
   "cell_type": "code",
   "execution_count": 87,
   "metadata": {},
   "outputs": [],
   "source": [
    "object2 = factory(Person, \"Zimowit\", \"szaman\")"
   ]
  },
  {
   "cell_type": "code",
   "execution_count": 88,
   "metadata": {},
   "outputs": [],
   "source": [
    "# druga opcja:\n",
    "def factory2(objekt, *args, **kwargs):   # dodatkowo przekazuje argumenty ze slowami kluczowymi, typu a=1\n",
    "    return aply(objekt, args, kwargs)  # funkcja apply przekazuje trzeci argument czyli **kwargs"
   ]
  }
 ],
 "metadata": {
  "kernelspec": {
   "display_name": "Python 3",
   "language": "python",
   "name": "python3"
  },
  "language_info": {
   "codemirror_mode": {
    "name": "ipython",
    "version": 3
   },
   "file_extension": ".py",
   "mimetype": "text/x-python",
   "name": "python",
   "nbconvert_exporter": "python",
   "pygments_lexer": "ipython3",
   "version": "3.8.1"
  }
 },
 "nbformat": 4,
 "nbformat_minor": 2
}
