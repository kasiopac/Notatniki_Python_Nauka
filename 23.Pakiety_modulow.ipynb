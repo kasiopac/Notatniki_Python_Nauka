{
 "cells": [
  {
   "cell_type": "markdown",
   "metadata": {},
   "source": [
    "### Składnia importu bezwzględnego (ścieżki ustalane względem położenia pliku main.py i ścieżki do folderu głównego, w którym on leży):\n",
    "import folder1.folder2.folder3.modul\n",
    "\n",
    "from folder1.folder2.folder3.modul import X \n",
    "\n",
    "co oznacza:\n",
    "\n",
    "katalog_glowny\\folder1\\folder2\\folder2\\modul.py\n",
    "\n",
    "przy czym folder1 musi znajdowac sie w katalogu głównym programu albo byc podpiety scieżką pytonpath\n",
    "\n",
    "wszystkie pakiety a więc w tym wypadku folder1, folder2 i folder3 musza zawierac plik _ _ init _ _.py - bedzie on wykonany za kazdym razem gdy importowany jest moduł z tego pakietu (ale moze byc to tez pusty plik, dzieki temu ze znajduje sie w katalogu, python wie ze to pakiet modulow)"
   ]
  },
  {
   "cell_type": "markdown",
   "metadata": {},
   "source": [
    "### instrukcja from *nazwa pakietu=katalogu* import * importuje zmienne wymienione w liście _ _ all _ _ w pliku _ _ init _ _.py:\n",
    "_ _ all _ _ = [lista instrukcji w modułach pakietu (zapisanych jako stringi a więc w '' lub\"\"), które mają być importowane i wykonane po użyciu funkcji importu całego pakietu czyli komendy *from pakiet import* *]"
   ]
  },
  {
   "cell_type": "code",
   "execution_count": 1,
   "metadata": {},
   "outputs": [
    {
     "name": "stdout",
     "output_type": "stream",
     "text": [
      "jestem init w folder1\n",
      "poczatek plik1\n",
      "jestem init w folder2\n",
      "zaimportowano plik2 do plik1\n",
      "koniec plik1\n",
      "jestem init w folder3\n",
      "to jest modul, zmodyfikowano\n"
     ]
    }
   ],
   "source": [
    "import folder1.folder2.folder3.modul"
   ]
  },
  {
   "cell_type": "code",
   "execution_count": 5,
   "metadata": {},
   "outputs": [],
   "source": [
    "from imp import reload   # przeładowanie pliku w celu ponownego importu po modyfikacji"
   ]
  },
  {
   "cell_type": "code",
   "execution_count": 6,
   "metadata": {},
   "outputs": [
    {
     "name": "stdout",
     "output_type": "stream",
     "text": [
      "to jest modul, zmodyfikowano\n"
     ]
    },
    {
     "data": {
      "text/plain": [
       "<module 'folder1.folder2.folder3.modul' from 'F:\\\\python_nauka\\\\j\\\\podstawy - backup\\\\folder1\\\\folder2\\\\folder3\\\\modul.py'>"
      ]
     },
     "execution_count": 6,
     "metadata": {},
     "output_type": "execute_result"
    }
   ],
   "source": [
    "reload(folder1.folder2.folder3.modul)"
   ]
  },
  {
   "cell_type": "code",
   "execution_count": 7,
   "metadata": {},
   "outputs": [
    {
     "data": {
      "text/plain": [
       "1"
      ]
     },
     "execution_count": 7,
     "metadata": {},
     "output_type": "execute_result"
    }
   ],
   "source": [
    "folder1.x"
   ]
  },
  {
   "cell_type": "code",
   "execution_count": 8,
   "metadata": {},
   "outputs": [
    {
     "data": {
      "text/plain": [
       "2"
      ]
     },
     "execution_count": 8,
     "metadata": {},
     "output_type": "execute_result"
    }
   ],
   "source": [
    "folder1.folder2.y"
   ]
  },
  {
   "cell_type": "code",
   "execution_count": 9,
   "metadata": {},
   "outputs": [
    {
     "data": {
      "text/plain": [
       "3"
      ]
     },
     "execution_count": 9,
     "metadata": {},
     "output_type": "execute_result"
    }
   ],
   "source": [
    "folder1.folder2.folder3.z"
   ]
  },
  {
   "cell_type": "markdown",
   "metadata": {},
   "source": [
    "### Składnia importu względnego (położenie jest ustalane względem pliku w którym zapisany jest ten import):\n",
    "\n",
    "W drzewku:\n",
    "\n",
    "katalog_glowny\\folder1\\folder2\\folder3\\plik33.py\n",
    "\n",
    "Przy czym:\n",
    "\n",
    "w katalogu głównym znaduje się plik main.py\n",
    "\n",
    "w katalogu folder1 znajduje się init, plik1.py i plik11.py\n",
    "\n",
    "w katalogu folder2 znajduje się init, plik2.py i plik22.py\n",
    "\n",
    "w katalogu folder3 znajduje się init, plik3.py i plik33.py\n",
    "\n",
    "zapis w plik33.py wygladałby następująco:\n",
    "\n",
    "from . import plik3    - kropka . oznacza importowanie pliku z tego samego pakietu\n",
    "\n",
    "from .plik3 import zmiennaX  - nadal jedna kropka, ale przytulona do nazwy modułu ze wspolnego pakietu, z którego importuję zmienną\n",
    "\n",
    "from .. import plik2      - dwie kropki .. oznaczają import z pliku znajdującego w folderze nadrzędnym\n",
    "\n",
    "from ..plik2 import zmiennaY  - dwie kropki ponieważ wchodzimy do folderu który jest wyżej w drzewku, przytulone bo z tego modułu pobieram zmienną\n",
    "\n",
    "większa liczba kropek to wchodzenie do folderów będących wyżej w drzewku"
   ]
  },
  {
   "cell_type": "code",
   "execution_count": 11,
   "metadata": {},
   "outputs": [],
   "source": [
    "import folder1.plik1"
   ]
  },
  {
   "cell_type": "code",
   "execution_count": null,
   "metadata": {},
   "outputs": [],
   "source": []
  }
 ],
 "metadata": {
  "kernelspec": {
   "display_name": "Python 3",
   "language": "python",
   "name": "python3"
  },
  "language_info": {
   "codemirror_mode": {
    "name": "ipython",
    "version": 3
   },
   "file_extension": ".py",
   "mimetype": "text/x-python",
   "name": "python",
   "nbconvert_exporter": "python",
   "pygments_lexer": "ipython3",
   "version": "3.8.1"
  }
 },
 "nbformat": 4,
 "nbformat_minor": 2
}
