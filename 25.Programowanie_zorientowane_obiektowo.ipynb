{
 "cells": [
  {
   "cell_type": "markdown",
   "metadata": {},
   "source": [
    "#### W przypadku klas również działa zapis:\n",
    "    obiekt.atrybut\n",
    "#### w tym wypadku oznacza to:\n",
    "#### *Znajdź pierwsze wystąpienie atrybutu, szukając w obiekcie, a następnie we wszystkich klasach powyżej niego, od dołu do góry i od lewej strony do prawej.*\n",
    "    \n",
    "Klasy:\n",
    "\n",
    "Służą jako fabryki instancji. Ich atrybuty udostępniają zachowanie — dane oraz funkcje — dziedziczone przez wszystkie instancje z nich wygenerowane (na przykład funkcję obliczającą wynagrodzenie pracownika na podstawie jego płacy oraz przepracowanych godzin).\n",
    "\n",
    "Instancje:\n",
    "\n",
    "Reprezentują konkretne elementy w domenie programu. Ich atrybuty zapisują dane różniące się dla określonych obiektów (na przykład numer NIP określonego pracownika)."
   ]
  },
  {
   "cell_type": "markdown",
   "metadata": {},
   "source": [
    "### PRZYKŁAD:\n",
    "\n",
    "\n",
    "    class C2: ...               # Utworzenie obiektu klasy \n",
    "        def x(self): ...\n",
    "        def z(self): ...\n",
    "\n",
    "    class C3:\n",
    "        def w(self): ...\n",
    "        def z(self): ...\n",
    "\n",
    "    class C1(C2, C3):           # Połączona z klasami nadrzędnymi\n",
    "        def x(self): ...\n",
    "        def y(self): ...\n",
    "        def setname(self, who): # przypisanie nazwy: C1.setname\n",
    "            self.name = who     # self to albo I1 albo I2\n",
    "\n",
    "    I1 = C1()                   # Utworzenie obiektów instancji \n",
    "    I2 = C1()                   # Połączenie z ich klasami\n",
    "    I1.setname('amadeusz')      # Ustawia I1.name na 'amadeusz'\n",
    "    I2.setname('aleksander')    # Ustawia I2.name na 'aleksander'\n",
    "    \n",
    "#### zatem:\n",
    "klasa C2 posiada atrybuty x i z\n",
    "\n",
    "klasa C3 powiada atrybuty w i z\n",
    "\n",
    "klasa C1 utworzona jako C1(C2, C3) powstała jako podrzędna klasa z połaczenia C2 i C3 i posiada atrybuty x i y\n",
    "\n",
    "I1 jest instancją klasy C1 i posiada atrybut name\n",
    "\n",
    "I2 jest instancją klasy C1 i posiada atrybut name\n",
    "\n",
    "\n",
    "Kod C1.setname jest tak samo poprawny jak kod I1.setname, o ile zmienne C1 i I1 są w zakresach naszego kodu.\n",
    "\n",
    "#### przy zapisie:\n",
    "    I2.w\n",
    "#### python przeszukuje najpierw I2, następnie C1, potem C2 i na koncu C3 dopóki nie trafi na atrybut *w*\n",
    "\n",
    "\n",
    "• Wyrażenia I1.x oraz I2.x odnajdują atrybut x w klasie C1 i zatrzymują się, ponieważ C1 jest niższe od C2.\n",
    "\n",
    "• Wyrażenia I1.y oraz I2.y odnajdują atrybut y w klasie C1, ponieważ jest to jedyne miejsce, w którym się on pojawia.\n",
    "\n",
    "• Wyrażenia  I1.z  oraz  I2.z  odnajdują  atrybut  z  w klasie  C2,  ponieważ  C2  znajduje  się bardziej na lewo od C3.\n",
    "\n",
    "• Wyrażenie I2.name odnajduje atrybut name bez przechodzenia w górę drzewa.\n",
    "#### Ponieważ C1 redefiniuje atrybut x niżej w drzewie, w rezultacie zastępuje wersję znajdującą się wyżej w C2. J\n",
    "\n",
    "• Każda instrukcja class generuje nowy obiekt klasy.\n",
    "\n",
    "• Za każdym razem gdy klasa jest wywoływana, generuje ona nowy obiekt instancji.\n",
    "\n",
    "• Instancje są automatycznie połączone z klasami, przez które zostały utworzone.\n",
    "\n",
    "• Klasy są połączone ze swoimi klasami nadrzędnymi dzięki podaniu ich w nawiasach w wierszu nagłówka instrukcji class. Uporządkowanie od lewej do prawej strony podaje kolejność w drzewie.\n"
   ]
  },
  {
   "cell_type": "markdown",
   "metadata": {},
   "source": [
    "Jeśli chcemy zagwarantować w klasie, że atrybut taki, jak name, jest zawsze ustawiony w instancjach, zazwyczaj wypełniamy ten atrybut w konstruktorze init:\n",
    "\n",
    "    class C1(C2, C3):\n",
    "       def __init__(self, who):      # Ustawia name przy utworzeniu\n",
    "          self.name = who            # self to albo I1, albo I2\n",
    "    I1 = C1('amadeusz')              # Ustawia I1.name na 'amadeusz'\n",
    "    I2 = C1('aleksander')            # Ustawia I2.name na 'aleksander'\n",
    "    print(I1.name)                   # Wyświetla 'amadeusz'\n",
    "Po zapisaniu tego w kodzie i odziedziczeniu Python automatycznie wywołuje metodę o nazwie __ init __ za każdym razem, gdy generowana jest instancja klasy."
   ]
  },
  {
   "cell_type": "code",
   "execution_count": null,
   "metadata": {},
   "outputs": [],
   "source": []
  }
 ],
 "metadata": {
  "kernelspec": {
   "display_name": "Python 3",
   "language": "python",
   "name": "python3"
  },
  "language_info": {
   "codemirror_mode": {
    "name": "ipython",
    "version": 3
   },
   "file_extension": ".py",
   "mimetype": "text/x-python",
   "name": "python",
   "nbconvert_exporter": "python",
   "pygments_lexer": "ipython3",
   "version": "3.8.1"
  }
 },
 "nbformat": 4,
 "nbformat_minor": 2
}
