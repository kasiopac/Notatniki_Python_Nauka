{
 "cells": [
  {
   "cell_type": "markdown",
   "metadata": {},
   "source": [
    "###  Minimalizacja niebezpieczeństw użycia from *\n",
    "\n",
    "1. poprzedzic nazwy zmiennych pojedynczym znakiem _ czyli np _X  - ta zmienna nie załaduje się po instrukcji *from modul import* *\n",
    "2. utworzyc listę __ all __ = [\"Error\",  \"zmienna\", \"funkcja\", \"klasa\"]  - wtedy tylko zmienne wymienione w tej liscie zostaną importowane po instrukcji *from modul import* *"
   ]
  },
  {
   "cell_type": "markdown",
   "metadata": {},
   "source": [
    "from __future__ import nazwa_opcji  -  włączanie opcji z przyszlych wersji pythona"
   ]
  },
  {
   "cell_type": "markdown",
   "metadata": {},
   "source": [
    "### Wykorzystanie atrybutu __ name __ w modułach:\n",
    "Python automatycznie ustawia atrybut name w modułach:\n",
    "1.  Jeśli plik jest wykonywany jako plik programu najwyższego poziomu, atrybut __ name __ ustawiany jest po uruchomieniu na łańcuch znaków \"__ main __\".\n",
    "2. Jeśli plik jest importowany, atrybut __ name __ jest zamiast tego ustawiany na nazwę modułu w formie znanej przez klienta.\n",
    "\n",
    "### Moduł moze sprawdzac swoj wlasny *name* i w celu sprawdzenia czy jest wykonywany czy importowany:"
   ]
  },
  {
   "cell_type": "code",
   "execution_count": 1,
   "metadata": {},
   "outputs": [],
   "source": [
    "# if __name__ == '__main__':\n",
    "#  nazwa_funkcji(), np testu samosprawdzającego\n",
    "\n",
    "# dzięki takiemu zapisowi inne pliki mogą importowac ta funkcje, \n",
    "# ale tez mozna wywolac ją podczas wykonywania modulu"
   ]
  },
  {
   "cell_type": "code",
   "execution_count": 2,
   "metadata": {},
   "outputs": [
    {
     "name": "stdout",
     "output_type": "stream",
     "text": [
      "Jestem: __main__\n",
      "1\n",
      "6\n"
     ]
    }
   ],
   "source": [
    "#przyklad:\n",
    "print('Jestem:', __name__)\n",
    "def minmax(test, *args):\n",
    "    res = args[0]\n",
    "    for arg in args[1:]:\n",
    "        if test(arg, res):\n",
    "            res = arg\n",
    "    return res\n",
    "def lessthan(x, y): return x < y\n",
    "def grtrthan(x, y): return x > y\n",
    "if __name__ == '__main__':\n",
    "    print(minmax(lessthan, 4, 2, 1, 5, 6, 3))    # Kod testu samosprawdzającego\n",
    "    print(minmax(grtrthan, 4, 2, 1, 5, 6, 3))"
   ]
  },
  {
   "cell_type": "markdown",
   "metadata": {},
   "source": [
    "#### gdyby moduł powyzej byl importowany wyswietliloby sie tylko \"Jestem nazwa_pliku\""
   ]
  },
  {
   "cell_type": "code",
   "execution_count": 3,
   "metadata": {},
   "outputs": [
    {
     "name": "stdout",
     "output_type": "stream",
     "text": [
      "jestem __main__\n",
      "0\n",
      "$0.00\n",
      "1\n",
      "$1.00\n",
      "12\n",
      "$12.00\n",
      "123\n",
      "$123.00\n",
      "1 234\n",
      "$1 234.00\n",
      "12 345\n",
      "$12 345.00\n",
      "123 456\n",
      "$123 456.00\n",
      "1 234 567\n",
      "$1 234 567.00\n"
     ]
    }
   ],
   "source": [
    "\"\"\"\n",
    "komentarz główny modułu\n",
    "\"\"\"\n",
    "print(\"jestem\", __name__)\n",
    "def ladnaliczba(X):\n",
    "    \"\"\"\n",
    "    formatowanie liczby tak by wyswietlała się następująco: xxx xxx xxx\n",
    "    \"\"\"\n",
    "    liczba = str(X)\n",
    "    assert(liczba.isdigit()) #  assert() sprawdza czy podane wyrazenie jest True. Jeśli nie jest, program zostanie zatrzymany, podane zostanie miejsce błędu i wyrażenie, które “nawaliło”.\n",
    "    wynik = ''\n",
    "    while liczba:\n",
    "        liczba, ostatnie3 = liczba[:-3], liczba[-3:]\n",
    "        wynik = (ostatnie3 + \" \" + wynik) if wynik else ostatnie3\n",
    "    return wynik\n",
    "\n",
    "def hajs(X):\n",
    "    \"\"\"\n",
    "    formatowanie liczby na ladnaliczba, utworzenie dwoch miejsc po przecinku i dodanie symbolu $\"\"\"\n",
    "    znak = '-' if X < 0 else ''\n",
    "    X = abs(X)\n",
    "    wsio = ladnaliczba(int(X))\n",
    "    cent = f\"{X:.2f}\"[-2:]\n",
    "    form = f\"{znak}{wsio}.{cent}\"\n",
    "    return f'${form}'\n",
    "\n",
    "if __name__ == '__main__':\n",
    "    def samotest():\n",
    "        tests = 0, 1\n",
    "        tests += 12, 123, 1234, 12345, 123456, 1234567\n",
    "        for test in tests:\n",
    "            print(ladnaliczba(test))\n",
    "            print(hajs(test))\n",
    "    samotest()"
   ]
  },
  {
   "cell_type": "code",
   "execution_count": 4,
   "metadata": {},
   "outputs": [
    {
     "data": {
      "text/plain": [
       "'502.66'"
      ]
     },
     "execution_count": 4,
     "metadata": {},
     "output_type": "execute_result"
    }
   ],
   "source": [
    "N = 502.6582\n",
    "centy = f'{N:.2f}'  # formatowanie stringow i liczb od pythona 3.8\n",
    "centy"
   ]
  },
  {
   "cell_type": "code",
   "execution_count": 5,
   "metadata": {},
   "outputs": [
    {
     "name": "stdout",
     "output_type": "stream",
     "text": [
      "1200456\n"
     ]
    }
   ],
   "source": [
    "x=1\n",
    "y=200\n",
    "z=456\n",
    "print(f\"{x}{y}{z}\")"
   ]
  },
  {
   "cell_type": "code",
   "execution_count": 6,
   "metadata": {},
   "outputs": [
    {
     "data": {
      "text/plain": [
       "'$-236 000.00'"
      ]
     },
     "execution_count": 6,
     "metadata": {},
     "output_type": "execute_result"
    }
   ],
   "source": [
    "hajs(-236000)"
   ]
  },
  {
   "cell_type": "code",
   "execution_count": 7,
   "metadata": {},
   "outputs": [
    {
     "data": {
      "text/plain": [
       "'236'"
      ]
     },
     "execution_count": 7,
     "metadata": {},
     "output_type": "execute_result"
    }
   ],
   "source": [
    "ladnaliczba(236)"
   ]
  },
  {
   "cell_type": "markdown",
   "metadata": {},
   "source": [
    "## Modyfikacja ścieżki wyszukiwania modułów"
   ]
  },
  {
   "cell_type": "code",
   "execution_count": 8,
   "metadata": {},
   "outputs": [],
   "source": [
    "import sys"
   ]
  },
  {
   "cell_type": "code",
   "execution_count": 9,
   "metadata": {},
   "outputs": [
    {
     "data": {
      "text/plain": [
       "['F:\\\\python_nauka\\\\j\\\\podstawy - backup',\n",
       " 'C:\\\\ProgramData\\\\Anaconda3\\\\envs\\\\nauka\\\\python38.zip',\n",
       " 'C:\\\\ProgramData\\\\Anaconda3\\\\envs\\\\nauka\\\\DLLs',\n",
       " 'C:\\\\ProgramData\\\\Anaconda3\\\\envs\\\\nauka\\\\lib',\n",
       " 'C:\\\\ProgramData\\\\Anaconda3\\\\envs\\\\nauka',\n",
       " '',\n",
       " 'C:\\\\ProgramData\\\\Anaconda3\\\\envs\\\\nauka\\\\lib\\\\site-packages',\n",
       " 'C:\\\\ProgramData\\\\Anaconda3\\\\envs\\\\nauka\\\\lib\\\\site-packages\\\\win32',\n",
       " 'C:\\\\ProgramData\\\\Anaconda3\\\\envs\\\\nauka\\\\lib\\\\site-packages\\\\win32\\\\lib',\n",
       " 'C:\\\\ProgramData\\\\Anaconda3\\\\envs\\\\nauka\\\\lib\\\\site-packages\\\\Pythonwin',\n",
       " 'C:\\\\ProgramData\\\\Anaconda3\\\\envs\\\\nauka\\\\lib\\\\site-packages\\\\IPython\\\\extensions',\n",
       " 'C:\\\\Users\\\\Dawid\\\\.ipython']"
      ]
     },
     "execution_count": 9,
     "metadata": {},
     "output_type": "execute_result"
    }
   ],
   "source": [
    "sys.path"
   ]
  },
  {
   "cell_type": "code",
   "execution_count": 10,
   "metadata": {},
   "outputs": [],
   "source": [
    "# sys.path.append(\"c:\\\\folder_jakis_tam\") - dodanie sciezki wyszukiwania\n",
    "# sys.path = [\"c:\\\\folder_jakis_tam\"] - zmiana sciezek na inną - ostroznie z tym"
   ]
  },
  {
   "cell_type": "markdown",
   "metadata": {},
   "source": [
    "###  Rozszerzenie as dla instrukcji import oraz from:\n",
    "\n",
    "#### Składnia dla import ... as:\n",
    "import nazwamodulu as nowanazwa\n",
    "\n",
    "#### jest równoznaczna z:\n",
    "import nazwamodulu\n",
    "\n",
    "nowanazawa = nazwamodulu\n",
    "\n",
    "del nazwamodulu\n",
    "\n",
    "#### Składnia dla from ... import ... as:\n",
    "from nazwamodulu import nazwaatrybutu as nowyatrybut"
   ]
  },
  {
   "cell_type": "markdown",
   "metadata": {},
   "source": [
    "### Metaprogramy - programy zarządzające innymi programami przy pomocy ich atrybutow:\n",
    "Modul.name  - kwalifikacja obiektu\n",
    "\n",
    "Modul.__ dict __ ['name']  - reczne indeksowanie slownika przestrzeni nazw\n",
    "\n",
    "sys.modules['Modul'].name  - reczne indeksowanie tabeli zaladowanych modulow\n",
    "\n",
    "getattr(Modul, 'name)  - wywolanie wbudowanej funkcji pobierajacej"
   ]
  },
  {
   "cell_type": "code",
   "execution_count": 11,
   "metadata": {},
   "outputs": [],
   "source": [
    "import mydir  # modul utworzony przeze mnie do przegladania innych programow"
   ]
  },
  {
   "cell_type": "code",
   "execution_count": 12,
   "metadata": {},
   "outputs": [
    {
     "name": "stdout",
     "output_type": "stream",
     "text": [
      "Help on module mydir:\n",
      "\n",
      "NAME\n",
      "    mydir - mydir.py: moduł wymieniający przestrzenie nazw innych modułów\n",
      "\n",
      "FUNCTIONS\n",
      "    listing(module, verbose=True)\n",
      "\n",
      "DATA\n",
      "    sepchr = '-'\n",
      "    seplen = 60\n",
      "\n",
      "FILE\n",
      "    f:\\python_nauka\\j\\podstawy - backup\\mydir.py\n",
      "\n",
      "\n"
     ]
    }
   ],
   "source": [
    "help(mydir)"
   ]
  },
  {
   "cell_type": "code",
   "execution_count": 13,
   "metadata": {},
   "outputs": [
    {
     "name": "stdout",
     "output_type": "stream",
     "text": [
      "------------------------------------------------------------\n",
      "nazwa: mydir plik: F:\\python_nauka\\j\\podstawy - backup\\mydir.py\n",
      "------------------------------------------------------------\n",
      "00) __name__ <zmienna wbudowana>\n",
      "01) __doc__ <zmienna wbudowana>\n",
      "02) __package__ <zmienna wbudowana>\n",
      "03) __loader__ <zmienna wbudowana>\n",
      "04) __spec__ <zmienna wbudowana>\n",
      "05) __file__ <zmienna wbudowana>\n",
      "06) __cached__ <zmienna wbudowana>\n",
      "07) __builtins__ <zmienna wbudowana>\n",
      "08) seplen 60\n",
      "09) sepchr -\n",
      "10) listing <function listing at 0x00000000050AF310>\n",
      "------------------------------------------------------------\n",
      "mydir ma 11 zmiennych\n",
      "------------------------------------------------------------\n"
     ]
    }
   ],
   "source": [
    "mydir.listing(mydir)"
   ]
  },
  {
   "cell_type": "code",
   "execution_count": 14,
   "metadata": {},
   "outputs": [],
   "source": [
    "import tkinter"
   ]
  },
  {
   "cell_type": "code",
   "execution_count": 15,
   "metadata": {},
   "outputs": [
    {
     "name": "stdout",
     "output_type": "stream",
     "text": [
      "------------------------------------------------------------\n",
      "nazwa: tkinter plik: C:\\ProgramData\\Anaconda3\\envs\\nauka\\lib\\tkinter\\__init__.py\n",
      "------------------------------------------------------------\n",
      "00) __name__ <zmienna wbudowana>\n",
      "01) __doc__ <zmienna wbudowana>\n",
      "02) __package__ <zmienna wbudowana>\n",
      "03) __loader__ <zmienna wbudowana>\n",
      "04) __spec__ <zmienna wbudowana>\n",
      "05) __path__ <zmienna wbudowana>\n",
      "06) __file__ <zmienna wbudowana>\n",
      "07) __cached__ <zmienna wbudowana>\n",
      "08) __builtins__ <zmienna wbudowana>\n",
      "09) enum <module 'enum' from 'C:\\\\ProgramData\\\\Anaconda3\\\\envs\\\\nauka\\\\lib\\\\enum.py'>\n",
      "10) sys <module 'sys' (built-in)>\n",
      "11) _tkinter <module '_tkinter' from 'C:\\\\ProgramData\\\\Anaconda3\\\\envs\\\\nauka\\\\DLLs\\\\_tkinter.pyd'>\n",
      "12) TclError <class '_tkinter.TclError'>\n",
      "13) constants <module 'tkinter.constants' from 'C:\\\\ProgramData\\\\Anaconda3\\\\envs\\\\nauka\\\\lib\\\\tkinter\\\\constants.py'>\n",
      "14) NO 0\n",
      "15) FALSE 0\n",
      "16) OFF 0\n",
      "17) YES 1\n",
      "18) TRUE 1\n",
      "19) ON 1\n",
      "20) N n\n",
      "21) S s\n",
      "22) W w\n",
      "23) E e\n",
      "24) NW nw\n",
      "25) SW sw\n",
      "26) NE ne\n",
      "27) SE se\n",
      "28) NS ns\n",
      "29) EW ew\n",
      "30) NSEW nsew\n",
      "31) CENTER center\n",
      "32) NONE none\n",
      "33) X x\n",
      "34) Y y\n",
      "35) BOTH both\n",
      "36) LEFT left\n",
      "37) TOP top\n",
      "38) RIGHT right\n",
      "39) BOTTOM bottom\n",
      "40) RAISED raised\n",
      "41) SUNKEN sunken\n",
      "42) FLAT flat\n",
      "43) RIDGE ridge\n",
      "44) GROOVE groove\n",
      "45) SOLID solid\n",
      "46) HORIZONTAL horizontal\n",
      "47) VERTICAL vertical\n",
      "48) NUMERIC numeric\n",
      "49) CHAR char\n",
      "50) WORD word\n",
      "51) BASELINE baseline\n",
      "52) INSIDE inside\n",
      "53) OUTSIDE outside\n",
      "54) SEL sel\n",
      "55) SEL_FIRST sel.first\n",
      "56) SEL_LAST sel.last\n",
      "57) END end\n",
      "58) INSERT insert\n",
      "59) CURRENT current\n",
      "60) ANCHOR anchor\n",
      "61) ALL all\n",
      "62) NORMAL normal\n",
      "63) DISABLED disabled\n",
      "64) ACTIVE active\n",
      "65) HIDDEN hidden\n",
      "66) CASCADE cascade\n",
      "67) CHECKBUTTON checkbutton\n",
      "68) COMMAND command\n",
      "69) RADIOBUTTON radiobutton\n",
      "70) SEPARATOR separator\n",
      "71) SINGLE single\n",
      "72) BROWSE browse\n",
      "73) MULTIPLE multiple\n",
      "74) EXTENDED extended\n",
      "75) DOTBOX dotbox\n",
      "76) UNDERLINE underline\n",
      "77) PIESLICE pieslice\n",
      "78) CHORD chord\n",
      "79) ARC arc\n",
      "80) FIRST first\n",
      "81) LAST last\n",
      "82) BUTT butt\n",
      "83) PROJECTING projecting\n",
      "84) ROUND round\n",
      "85) BEVEL bevel\n",
      "86) MITER miter\n",
      "87) MOVETO moveto\n",
      "88) SCROLL scroll\n",
      "89) UNITS units\n",
      "90) PAGES pages\n",
      "91) re <module 're' from 'C:\\\\ProgramData\\\\Anaconda3\\\\envs\\\\nauka\\\\lib\\\\re.py'>\n",
      "92) wantobjects 1\n",
      "93) TkVersion 8.6\n",
      "94) TclVersion 8.6\n",
      "95) READABLE 2\n",
      "96) WRITABLE 4\n",
      "97) EXCEPTION 8\n",
      "98) _magic_re re.compile('([\\\\\\\\{}])')\n",
      "99) _space_re re.compile('([\\\\s])', re.ASCII)\n",
      "100) _join <function _join at 0x00000000050AFCA0>\n",
      "101) _stringify <function _stringify at 0x000000000539D280>\n",
      "102) _flatten <built-in function _flatten>\n",
      "103) _cnfmerge <function _cnfmerge at 0x000000000539D310>\n",
      "104) _splitdict <function _splitdict at 0x000000000539D3A0>\n",
      "105) EventType <enum 'EventType'>\n",
      "106) Event <class 'tkinter.Event'>\n",
      "107) _support_default_root 1\n",
      "108) _default_root None\n",
      "109) NoDefaultRoot <function NoDefaultRoot at 0x000000000539D430>\n",
      "110) _tkerror <function _tkerror at 0x000000000539D5E0>\n",
      "111) _exit <function _exit at 0x000000000539D670>\n",
      "112) _varnum 0\n",
      "113) Variable <class 'tkinter.Variable'>\n",
      "114) StringVar <class 'tkinter.StringVar'>\n",
      "115) IntVar <class 'tkinter.IntVar'>\n",
      "116) DoubleVar <class 'tkinter.DoubleVar'>\n",
      "117) BooleanVar <class 'tkinter.BooleanVar'>\n",
      "118) mainloop <function mainloop at 0x000000000539D700>\n",
      "119) getint <class 'int'>\n",
      "120) getdouble <class 'float'>\n",
      "121) getboolean <function getboolean at 0x00000000053AB430>\n",
      "122) Misc <class 'tkinter.Misc'>\n",
      "123) CallWrapper <class 'tkinter.CallWrapper'>\n",
      "124) XView <class 'tkinter.XView'>\n",
      "125) YView <class 'tkinter.YView'>\n",
      "126) Wm <class 'tkinter.Wm'>\n",
      "127) Tk <class 'tkinter.Tk'>\n",
      "128) Tcl <function Tcl at 0x00000000053AB4C0>\n",
      "129) Pack <class 'tkinter.Pack'>\n",
      "130) Place <class 'tkinter.Place'>\n",
      "131) Grid <class 'tkinter.Grid'>\n",
      "132) BaseWidget <class 'tkinter.BaseWidget'>\n",
      "133) Widget <class 'tkinter.Widget'>\n",
      "134) Toplevel <class 'tkinter.Toplevel'>\n",
      "135) Button <class 'tkinter.Button'>\n",
      "136) Canvas <class 'tkinter.Canvas'>\n",
      "137) Checkbutton <class 'tkinter.Checkbutton'>\n",
      "138) Entry <class 'tkinter.Entry'>\n",
      "139) Frame <class 'tkinter.Frame'>\n",
      "140) Label <class 'tkinter.Label'>\n",
      "141) Listbox <class 'tkinter.Listbox'>\n",
      "142) Menu <class 'tkinter.Menu'>\n",
      "143) Menubutton <class 'tkinter.Menubutton'>\n",
      "144) Message <class 'tkinter.Message'>\n",
      "145) Radiobutton <class 'tkinter.Radiobutton'>\n",
      "146) Scale <class 'tkinter.Scale'>\n",
      "147) Scrollbar <class 'tkinter.Scrollbar'>\n",
      "148) Text <class 'tkinter.Text'>\n",
      "149) _setit <class 'tkinter._setit'>\n",
      "150) OptionMenu <class 'tkinter.OptionMenu'>\n",
      "151) Image <class 'tkinter.Image'>\n",
      "152) PhotoImage <class 'tkinter.PhotoImage'>\n",
      "153) BitmapImage <class 'tkinter.BitmapImage'>\n",
      "154) image_names <function image_names at 0x00000000053B23A0>\n",
      "155) image_types <function image_types at 0x00000000053C0CA0>\n",
      "156) Spinbox <class 'tkinter.Spinbox'>\n",
      "157) LabelFrame <class 'tkinter.LabelFrame'>\n",
      "158) PanedWindow <class 'tkinter.PanedWindow'>\n",
      "159) _test <function _test at 0x00000000053C0D30>\n",
      "------------------------------------------------------------\n",
      "tkinter ma 160 zmiennych\n",
      "------------------------------------------------------------\n"
     ]
    }
   ],
   "source": [
    "mydir.listing(tkinter)"
   ]
  },
  {
   "cell_type": "markdown",
   "metadata": {},
   "source": [
    "### Importowanie modułów za pomocą łańcucha znaków nazwy:\n",
    "Nie da sie wykonac importu gdy nazwa modulu jest stringiem w cudzyslowie, a czasami python moze tak zaciagac np przy wybraniu modulu w GUI. "
   ]
  },
  {
   "cell_type": "code",
   "execution_count": 16,
   "metadata": {},
   "outputs": [],
   "source": [
    "nazwa = 'ddd'"
   ]
  },
  {
   "cell_type": "code",
   "execution_count": 17,
   "metadata": {},
   "outputs": [
    {
     "name": "stdout",
     "output_type": "stream",
     "text": [
      "po edycji\n"
     ]
    }
   ],
   "source": [
    "exec('import ' + nazwa) # funkcja exec wymusza wykonanie tresci stringa (czyli wykonanie kodu po usunieciu cudzyslowiow)"
   ]
  },
  {
   "cell_type": "code",
   "execution_count": 18,
   "metadata": {},
   "outputs": [],
   "source": [
    "# inny sposob, ale zwraca obiekt modułu, wiec zeby ten obiekt zachowac, trzeba go przypisac do zmiennej:\n",
    "nazwa = __import__(nazwa)"
   ]
  },
  {
   "cell_type": "code",
   "execution_count": 19,
   "metadata": {},
   "outputs": [
    {
     "data": {
      "text/plain": [
       "<module 'ddd' from 'F:\\\\python_nauka\\\\j\\\\podstawy - backup\\\\ddd.py'>"
      ]
     },
     "execution_count": 19,
     "metadata": {},
     "output_type": "execute_result"
    }
   ],
   "source": [
    "nazwa"
   ]
  },
  {
   "cell_type": "markdown",
   "metadata": {},
   "source": [
    "### Funkcja reload przeladowuje tylko wywolany modul. jesli przeladowany modul sam importuje inne moduly, to zostaja one bez zmian. Czyli jesli moduł A, ma w swoim kodzie instrukcje import B, to po wpisaniu reload A, przeladuje sie tylko A, natomiast B pozostanie bez zmian. \n",
    "\n",
    "Poniżej narzędzie ktore przeładowuje wszystkie podmoduły za jednym zamachem z modułem głównym:"
   ]
  },
  {
   "cell_type": "code",
   "execution_count": 20,
   "metadata": {},
   "outputs": [],
   "source": [
    "# tekst modulu reloadall.py:\n",
    "import types\n",
    "from imp import reload\n",
    "\n",
    "def status(modul):\n",
    "    print('przeladowanie' + modul.__name__)\n",
    "\n",
    "def zagniezdzony_reload(modul, visited):\n",
    "    if not modul in visited:             # przechwycenie cykli i powtarzajacych sie modulow\n",
    "        status(modul)                    # wyprintowanie 'przeladowanie modulu'\n",
    "        reload(modul)                    # przejscie do jego modulow podrzednych (?)\n",
    "        visited[modul] = None          \n",
    "        for attrobj in modul.__dict__.values():  # dla wszystkich atrybutow\n",
    "            if type(attrobj) == types.ModuleType:  # rekurencja - jesli to nadal modul\n",
    "                zagniezdzony_reload(attrobj, visited)\n",
    "                \n",
    "def reload_all(*args):\n",
    "    visited = {}\n",
    "    for arg in args:\n",
    "        if type(arg) == types.ModuleType:\n",
    "            zagniezdzony_reload(arg,visited)\n",
    "\n",
    "# to by bylo dopisane w module reloadall.py jako kod samosprawdzajacy:\n",
    "# if __name__ == '__main__':\n",
    "#     import reloadall\n",
    "#     reload_all(reloadall)"
   ]
  },
  {
   "cell_type": "code",
   "execution_count": 21,
   "metadata": {},
   "outputs": [],
   "source": [
    "from reloadall import reload_all"
   ]
  },
  {
   "cell_type": "code",
   "execution_count": 22,
   "metadata": {},
   "outputs": [],
   "source": [
    "import os, tkinter"
   ]
  },
  {
   "cell_type": "code",
   "execution_count": 23,
   "metadata": {},
   "outputs": [
    {
     "name": "stdout",
     "output_type": "stream",
     "text": [
      "przeladowanie os\n",
      "przeladowanie abc\n",
      "przeladowanie sys\n",
      "przeladowanie stat\n",
      "przeladowanie ntpath\n",
      "przeladowanie genericpath\n"
     ]
    }
   ],
   "source": [
    "reload_all(os)"
   ]
  },
  {
   "cell_type": "code",
   "execution_count": 24,
   "metadata": {},
   "outputs": [],
   "source": [
    "import reloadall"
   ]
  },
  {
   "cell_type": "code",
   "execution_count": 25,
   "metadata": {},
   "outputs": [
    {
     "data": {
      "text/plain": [
       "<module 'reloadall' from 'F:\\\\python_nauka\\\\j\\\\podstawy - backup\\\\reloadall.py'>"
      ]
     },
     "execution_count": 25,
     "metadata": {},
     "output_type": "execute_result"
    }
   ],
   "source": [
    "reload(reloadall)"
   ]
  },
  {
   "cell_type": "code",
   "execution_count": 26,
   "metadata": {},
   "outputs": [
    {
     "name": "stdout",
     "output_type": "stream",
     "text": [
      "przeladowanie tkinter\n",
      "przeladowanie enum\n",
      "przeladowanie sys\n",
      "przeladowanie _tkinter\n",
      "przeladowanie tkinter.constants\n",
      "przeladowanie re\n",
      "przeladowanie sre_compile\n",
      "przeladowanie _sre\n",
      "przeladowanie sre_parse\n",
      "przeladowanie functools\n",
      "przeladowanie _locale\n",
      "przeladowanie copyreg\n"
     ]
    }
   ],
   "source": [
    "reload_all(tkinter)"
   ]
  },
  {
   "cell_type": "markdown",
   "metadata": {},
   "source": [
    "### podczas importowania modulu wykonywany jest kod na najwyzszym poziomie pliku (niezagniezdzony w funkcji). dlatego nie moze odnosci sie do zmiennych przypisanych niżej\n",
    "### kod wewnatrz ciała funkcji nie jest wykonywany podczas importu, zatem:"
   ]
  },
  {
   "cell_type": "code",
   "execution_count": 27,
   "metadata": {},
   "outputs": [],
   "source": [
    "#func1()                                      # Błąd: \"func1\" nie została jeszcze przypisana\n",
    "\n",
    "#def func1():\n",
    "#   print(func2())                            # OK: \"func2\" zostanie wyszukana później\n",
    "\n",
    "#func1()                                      # Błąd: \"func2\" nie została jeszcze przypisana\n",
    "\n",
    "#def func2():\n",
    "#   return \"Witam\"\n",
    "\n",
    "#func1()                                      # OK: \"func1\" i \"func2\" zostały już przypisane"
   ]
  },
  {
   "cell_type": "code",
   "execution_count": 28,
   "metadata": {},
   "outputs": [],
   "source": [
    "from ddd import X, printer\n",
    "# w pliku ddd zapisany jest X=99 i funkcja printer(): print(X)"
   ]
  },
  {
   "cell_type": "code",
   "execution_count": 29,
   "metadata": {},
   "outputs": [],
   "source": [
    "X=1"
   ]
  },
  {
   "cell_type": "code",
   "execution_count": 30,
   "metadata": {},
   "outputs": [
    {
     "name": "stdout",
     "output_type": "stream",
     "text": [
      "99\n"
     ]
    }
   ],
   "source": [
    "printer()  # python nie bierze zmiennej X=1 tylko X=99 z modulu ddd"
   ]
  },
  {
   "cell_type": "code",
   "execution_count": 31,
   "metadata": {},
   "outputs": [],
   "source": [
    "from imp import reload"
   ]
  },
  {
   "cell_type": "code",
   "execution_count": 32,
   "metadata": {},
   "outputs": [],
   "source": [
    "import ddd"
   ]
  },
  {
   "cell_type": "code",
   "execution_count": 33,
   "metadata": {},
   "outputs": [],
   "source": [
    "ddd.X=2  # tutaj nadpisałam X do ktorego odnosi sie funkcja printer\n",
    "# uwaga - sama tresc kodu w pliku ddd.py nie ulega zmianie - tam X=99"
   ]
  },
  {
   "cell_type": "code",
   "execution_count": 34,
   "metadata": {},
   "outputs": [
    {
     "name": "stdout",
     "output_type": "stream",
     "text": [
      "2\n"
     ]
    }
   ],
   "source": [
    "ddd.printer() # teraz zamiast 99 zwroci 2"
   ]
  },
  {
   "cell_type": "code",
   "execution_count": 35,
   "metadata": {},
   "outputs": [
    {
     "name": "stdout",
     "output_type": "stream",
     "text": [
      "2\n"
     ]
    }
   ],
   "source": [
    "printer()"
   ]
  },
  {
   "cell_type": "markdown",
   "metadata": {},
   "source": [
    "### Ważne:\n",
    "Instrukcja from po wykonaniu kopiuje (przypisuje) zmienne, nie istnieje więc żadne łącze z powrotem do modułu, z którego pochodzi dana zmienna. Zmienne zaimportowane za pomocą from stają się po prostu referencjami do obiektów, do których odnoszą się również zmienne o tych samych nazwach w pliku importowanym.\n",
    "\n",
    "Ze względu na to zachowanie przeładowanie importowanego modułu nie ma żadnego wpływu\n",
    "na moduły, które zaimportowały jego zmienne za pomocą instrukcji from. Oznacza to, że\n",
    "zmienne klienta nadal będą się odnosiły do oryginalnych obiektów pobranych za pomocą from,\n",
    "nawet jeśli zmienne te w oryginalnym module mają teraz inną wartość.\n",
    "\n",
    "By  przeładowywanie  było  bardziej  efektywne,  należy  zamiast  from  użyć  instrukcji  import\n",
    "oraz składni kwalifikującej zmienną. Ponieważ kwalifikacja zawsze oznacza przejście do modułu,\n",
    "w ten sposób po przeładowaniu odnalezione zostaną nowe wiązania w zmiennych modułu.\n",
    "\n",
    "Można też po przeładowaniu wykonac funkcję from raz jeszcze."
   ]
  },
  {
   "cell_type": "markdown",
   "metadata": {},
   "source": [
    "## Rekurencyjne importowanie za pomocą *from* moze nie dzialac, przykład:\n",
    "Moduł recur1 przypisuje zmienną X, a następnie importuje moduł recur2 przed przypisaniem zmiennej Y.\n",
    "W tym momencie recur2 może pobrać recur1 jako całość za pomocą instrukcji import (moduł\n",
    "ten istnieje już w wewnętrznej tabeli modułów Pythona), jeśli jednak użyje from, zobaczy tylko\n",
    "zmienną X. Zmienna Y przypisana poniżej instrukcji import w recur1 jeszcze nie istnieje, dla-\n",
    "tego otrzymamy błąd."
   ]
  },
  {
   "cell_type": "code",
   "execution_count": 36,
   "metadata": {},
   "outputs": [],
   "source": [
    "# Plik recur1.py\n",
    "\n",
    "#X = 1\n",
    "#import recur2                                # Wykonuje recur2, jeśli obiekt modułu nie istnieje\n",
    "#Y = 2\n",
    "\n",
    "# Plik recur2.py\n",
    "\n",
    "#from recur1 import X                         # OK: \"X\" jest już przypisane\n",
    "#from recur1 import Y                         # Błąd: \"Y\" nie jest przypisane"
   ]
  },
  {
   "cell_type": "code",
   "execution_count": 37,
   "metadata": {},
   "outputs": [],
   "source": [
    "def countLines(name):\n",
    "    plik = open(name)\n",
    "    return(len(plik.readlines()))\n",
    "\n",
    "\n",
    "def countChars(name):\n",
    "    return len(open(name).read())\n",
    "\n",
    "def test(name):\n",
    "    return countLines(name), countChars(name)"
   ]
  },
  {
   "cell_type": "code",
   "execution_count": 38,
   "metadata": {},
   "outputs": [
    {
     "data": {
      "text/plain": [
       "(8, 84)"
      ]
     },
     "execution_count": 38,
     "metadata": {},
     "output_type": "execute_result"
    }
   ],
   "source": [
    "test('ddd.py')"
   ]
  },
  {
   "cell_type": "code",
   "execution_count": 39,
   "metadata": {},
   "outputs": [],
   "source": [
    "plik = open('ddd.py')"
   ]
  },
  {
   "cell_type": "code",
   "execution_count": 40,
   "metadata": {},
   "outputs": [
    {
     "data": {
      "text/plain": [
       "['\"\"\"komentarz\"\"\"\\n',\n",
       " 'a = 1\\n',\n",
       " 'b = [2, 3]\\n',\n",
       " '\\n',\n",
       " \"print('po edycji')\\n\",\n",
       " '\\n',\n",
       " 'X = 99\\n',\n",
       " 'def printer(): print(X)']"
      ]
     },
     "execution_count": 40,
     "metadata": {},
     "output_type": "execute_result"
    }
   ],
   "source": [
    "plik.readlines()"
   ]
  },
  {
   "cell_type": "code",
   "execution_count": null,
   "metadata": {},
   "outputs": [],
   "source": []
  }
 ],
 "metadata": {
  "kernelspec": {
   "display_name": "Python 3",
   "language": "python",
   "name": "python3"
  },
  "language_info": {
   "codemirror_mode": {
    "name": "ipython",
    "version": 3
   },
   "file_extension": ".py",
   "mimetype": "text/x-python",
   "name": "python",
   "nbconvert_exporter": "python",
   "pygments_lexer": "ipython3",
   "version": "3.8.1"
  }
 },
 "nbformat": 4,
 "nbformat_minor": 2
}
