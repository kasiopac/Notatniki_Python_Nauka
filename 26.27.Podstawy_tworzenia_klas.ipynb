{
 "cells": [
  {
   "cell_type": "code",
   "execution_count": 1,
   "metadata": {},
   "outputs": [],
   "source": [
    "class FirstClass:                # zdefiniowanie obiektu klasy\n",
    "    def setdata(self, value):    # zdefiniowanie metody klasy (bo funkcje w klasie to metody)\n",
    "        self.data = value        # self to instancja\n",
    "    def  display(self):\n",
    "        print(self.data)         # self data do instancji"
   ]
  },
  {
   "cell_type": "code",
   "execution_count": 2,
   "metadata": {},
   "outputs": [],
   "source": [
    "# tym sposobem utworzono tez atrybuty klasy: FirstClass.setdata i FirstClass.display"
   ]
  },
  {
   "cell_type": "code",
   "execution_count": 3,
   "metadata": {},
   "outputs": [],
   "source": [
    "x = FirstClass()  # utworzenie instancji, które są przestrzeniami nazw z dostępem do atrybutów klasy"
   ]
  },
  {
   "cell_type": "code",
   "execution_count": 4,
   "metadata": {},
   "outputs": [],
   "source": [
    "y = FirstClass()  "
   ]
  },
  {
   "cell_type": "code",
   "execution_count": 5,
   "metadata": {},
   "outputs": [],
   "source": [
    "x.setdata('Król Artur')   # wywołanie metod: self to x\n",
    "y.setdata(3.14)           # wykonuje FirstClass.setdata(y, 3.14)"
   ]
  },
  {
   "cell_type": "code",
   "execution_count": 6,
   "metadata": {},
   "outputs": [
    {
     "name": "stdout",
     "output_type": "stream",
     "text": [
      "Król Artur\n"
     ]
    }
   ],
   "source": [
    "x.display()"
   ]
  },
  {
   "cell_type": "code",
   "execution_count": 7,
   "metadata": {},
   "outputs": [
    {
     "name": "stdout",
     "output_type": "stream",
     "text": [
      "3.14\n"
     ]
    }
   ],
   "source": [
    "y.display()"
   ]
  },
  {
   "cell_type": "code",
   "execution_count": 8,
   "metadata": {},
   "outputs": [],
   "source": [
    "x.data = 'nowa'"
   ]
  },
  {
   "cell_type": "code",
   "execution_count": 9,
   "metadata": {},
   "outputs": [
    {
     "name": "stdout",
     "output_type": "stream",
     "text": [
      "nowa\n"
     ]
    }
   ],
   "source": [
    "x.display()"
   ]
  },
  {
   "cell_type": "code",
   "execution_count": 10,
   "metadata": {},
   "outputs": [],
   "source": [
    "x.nowyatrybut = 'najnowszy i tylko tutaj'   # można tak wstawiac nowe atrybuty"
   ]
  },
  {
   "cell_type": "markdown",
   "metadata": {},
   "source": [
    "#### Klasy nadrzędne są wymieniane w nawiasach w nagłówku instrukcji class. By odziedziczyć atrybuty po innej klasie, wystarczy wymienić tę klasę w nawiasach w nagłówku instrukcji class. Klasa dziedzicząca zazwyczaj nazywana jest klasą podrzędną (podklasą), natomiast klasa, z której się dziedziczy — klasą nadrzędną (nadklasą).\n",
    "#### Klasy dziedziczą atrybuty po swoich klasach nadrzędnych. Podobnie jak instancje dziedziczą nazwy atrybutów zdefiniowane w klasach, tak samo klasy dziedziczą wszystkie nazwy atrybutów zdefiniowane w swoich klasach nadrzędnych. Python odnajduje je automatycznie, kiedy próbuje się uzyskać do nich dostęp, o ile nie istnieją one w klasach podrzędnych.\n",
    "#### Istancje dziedziczą atrybuty po  wszystkich  dostępnych klasach. Każda instancja  otrzymuje zmienne z klasy, z której została wygenerowana, a także ze wszystkich klas nadrzędnych tej klasy. Przy szukaniu jakiejś zmiennej Python sprawdza instancję, później klasę, a następnie wszystkie klasy nadrzędne.\n",
    "#### Każda referencja obiekt.atrybut wywołuje nowe, niezależne wyszukiwanie. Python wykonuje niezależne wyszukiwanie w drzewie klas dla każdego wyrażenia pobierającego atrybut. Obejmuje to referencje do instancji i klas wykonane poza instrukcjami class (na przykład X.atrybut), a także referencje do atrybutów argumentu instancji self w funkcjach metod klasy. Każde wyrażenie self.atrybut w metodzie wywołuje nowe wyszukiwanie tego atrybutu w self oraz wyżej.\n",
    "#### Zmiany logiki wykonuje się przez tworzenie klas podrzędnych, a nie modyfikację klas nadrzędnych. Redefiniując zmienne z klas nadrzędnych w klasach znajdujących się niżej w hierarchii (drzewie klas), klasy podrzędne zastępują i tym samym dostosowują do własnych potrzeb odziedziczone zachowanie."
   ]
  },
  {
   "cell_type": "code",
   "execution_count": 11,
   "metadata": {},
   "outputs": [],
   "source": [
    "class SecondClass(FirstClass):    # dziedziczy metodę setdata z FirstClass\n",
    "    def display(self):            # modyfikuje metode display, ale tylko w SecondClass\n",
    "        print(f\"aktualna wartość = {self.data}\")"
   ]
  },
  {
   "cell_type": "code",
   "execution_count": 12,
   "metadata": {},
   "outputs": [],
   "source": [
    "# zastepowanie atrybutow przez ich redefininiowanie (jak wyzej) nazywa sie *przeciążaniem* drzewa"
   ]
  },
  {
   "cell_type": "code",
   "execution_count": 13,
   "metadata": {},
   "outputs": [],
   "source": [
    "z = SecondClass()"
   ]
  },
  {
   "cell_type": "code",
   "execution_count": 14,
   "metadata": {},
   "outputs": [],
   "source": [
    "z.setdata(54)        # odnajduje metode w FirstClass"
   ]
  },
  {
   "cell_type": "code",
   "execution_count": 15,
   "metadata": {},
   "outputs": [
    {
     "name": "stdout",
     "output_type": "stream",
     "text": [
      "aktualna wartość = 54\n"
     ]
    }
   ],
   "source": [
    "z.display()          # odnajduje przesłoniętą metode w SecondClass"
   ]
  },
  {
   "cell_type": "code",
   "execution_count": 16,
   "metadata": {},
   "outputs": [
    {
     "name": "stdout",
     "output_type": "stream",
     "text": [
      "nowa\n"
     ]
    }
   ],
   "source": [
    "x.display()    # pozostaje niezmieniona"
   ]
  },
  {
   "cell_type": "markdown",
   "metadata": {},
   "source": [
    "### Klasy są atrybutami w modułach, dlatego można je importować tak samo jak inne atrybuty:\n",
    "    from modulename import FirstClass    # skopiowanie nazwy do aktualnego zakresu\n",
    "    class SecondClass(FirstClass)        # bezposrednie wykorzystanie nazwy klasy\n",
    "        def funkcja(self):... blablabla\n",
    "### albo:\n",
    "    import modulename                          # import całego modułu\n",
    "    class SecondClass(modulename.FirstClass):  # składnia klasyfukująca tworzy referencje\n",
    "        def funkcja(self):... blablabla"
   ]
  },
  {
   "cell_type": "markdown",
   "metadata": {},
   "source": [
    "### Klasy mogą przechwytywać operatory Pythona:\n",
    "### Metody zawierające w nazwie podwójne znaki _ (jak __X__) są specjalnymi punktami zaczepienia. Przeciążanie operatorów jest w Pythonie zaimplementowane za pomocą udostępniania metod o specjalnych nazwach, które przechwytują operacje. Język Python definiuje stałe i niezmienne odwzorowanie każdej z tych operacji na metodę o specjalnej nazwie. \n",
    "### Takie metody wywoływane są automatycznie, kiedy instancje pojawiają się w operacjach wbudowanych. Jeśli na przykład obiekt instancji dziedziczy metodę __ add __, metoda ta wywoływana jest za każdym razem, gdy obiekt ten pojawi się w wyrażeniu ze znakiem +. Wartość zwracana przez metodę staje się wynikiem odpowiadającego jej wyrażenia. \n",
    "### Klasy mogą nadpisywać większość operacji na typach wbudowanych. Istnieją dziesiątki specjalnych nazw metod przeciążania operatorów, które służą do przechwytywania i implementowania prawie każdej operacji dostępnej dla typów wbudowanych. Obejmuje to wyrażenia, ale również podstawowe operacje, takie jak wyświetlanie czy tworzenie obiektów.\n",
    "### Nie istnieją wartości domyślne dla metod przeciążania operatorów i nie są one potrzebne. Jeśli klasa nie definiuje lub nie dziedziczy metody przeciążania operatorów, oznacza to po prostu, że odpowiadająca jej operacja nie jest obsługiwana na instancjach klasy. Jeśli na przykład nie ma metody __add__, wyrażenia z operatorem + powodują zgłoszenie błędu.\n",
    "###  Operatory pozwalają klasom na integrację z modelem obiektów Pythona. Przeciążając operacje na typach, obiekty zdefiniowane przez użytkowników zaimplementowane za pomocą klas mogą się zachowywać tak samo jak obiekty wbudowane, co daje nam spójność, a także zgodność z oczekiwanymi interfejsami."
   ]
  },
  {
   "cell_type": "markdown",
   "metadata": {},
   "source": [
    "## Przykład z użyciem:\n",
    "### Metoda __ init __ wykonywana jest, kiedy konstruowany jest nowy obiekt instancji (self jest nowym obiektem klasy ThirdClass)\n",
    "### Metoda __ add __ wykonywana jest, kiedy instancja tej klasy pojawi się w wyrażeniu z operatorem +.\n",
    "### Metoda __ str __ wykonywana jest, kiedy obiekt jest wyświetlany (z technicznego punktu widzenia, kiedy przekształcana jest na łańcuch znaków wyświetlania za pomocą wbudo- wanej funkcji str lub jej wewnętrznego odpowiednika w Pythonie)."
   ]
  },
  {
   "cell_type": "code",
   "execution_count": 17,
   "metadata": {},
   "outputs": [],
   "source": [
    "class ThirdClass(SecondClass):\n",
    "    def __init__(self, value):                        # przy \"ThirdClass(value)\"\n",
    "        self.data = value           \n",
    "    def __add__(self, other):                         # przy \"self + other\"\n",
    "        return ThirdClass(self.data + other)\n",
    "    def __str__(self):                                # przy \"print(self)\", \"str()\"\n",
    "        return f\"[ThirdClass: {self.data}]\"\n",
    "    def mul(self, other):\n",
    "        self.data *= other                            # modyfikacja w miejscu: nazwana metoda"
   ]
  },
  {
   "cell_type": "code",
   "execution_count": 18,
   "metadata": {},
   "outputs": [],
   "source": [
    "a = ThirdClass('abc')   # wywołanie metody init"
   ]
  },
  {
   "cell_type": "code",
   "execution_count": 19,
   "metadata": {},
   "outputs": [
    {
     "name": "stdout",
     "output_type": "stream",
     "text": [
      "aktualna wartość = abc\n"
     ]
    }
   ],
   "source": [
    "a.display()             # wywolanie dziedziczonej metody z SecondClass"
   ]
  },
  {
   "cell_type": "code",
   "execution_count": 20,
   "metadata": {},
   "outputs": [
    {
     "name": "stdout",
     "output_type": "stream",
     "text": [
      "[ThirdClass: abc]\n"
     ]
    }
   ],
   "source": [
    "print(a)   # niby nie da sie wyprintowac instancji klasy, ale  __str__ zwraca lancuch znakow"
   ]
  },
  {
   "cell_type": "code",
   "execution_count": 21,
   "metadata": {},
   "outputs": [],
   "source": [
    "b = a + 'xyz'  # __add__ : utworzenie nowej instancji"
   ]
  },
  {
   "cell_type": "code",
   "execution_count": 22,
   "metadata": {},
   "outputs": [
    {
     "name": "stdout",
     "output_type": "stream",
     "text": [
      "aktualna wartość = abcxyz\n"
     ]
    }
   ],
   "source": [
    "b.display()    # b ma wszystkie metody klasy ThirdClass"
   ]
  },
  {
   "cell_type": "code",
   "execution_count": 23,
   "metadata": {},
   "outputs": [
    {
     "name": "stdout",
     "output_type": "stream",
     "text": [
      "[ThirdClass: abcxyz]\n"
     ]
    }
   ],
   "source": [
    "print(b)"
   ]
  },
  {
   "cell_type": "code",
   "execution_count": 24,
   "metadata": {},
   "outputs": [],
   "source": [
    "a.mul(3)"
   ]
  },
  {
   "cell_type": "code",
   "execution_count": 25,
   "metadata": {},
   "outputs": [
    {
     "name": "stdout",
     "output_type": "stream",
     "text": [
      "[ThirdClass: abcabcabc]\n"
     ]
    }
   ],
   "source": [
    "print(a)"
   ]
  },
  {
   "cell_type": "code",
   "execution_count": 26,
   "metadata": {},
   "outputs": [],
   "source": [
    "class rec: pass  # utworzenie pustej klasy"
   ]
  },
  {
   "cell_type": "code",
   "execution_count": 27,
   "metadata": {},
   "outputs": [],
   "source": [
    "rec.name = 'Edek'"
   ]
  },
  {
   "cell_type": "code",
   "execution_count": 28,
   "metadata": {},
   "outputs": [],
   "source": [
    "rec.age = 150"
   ]
  },
  {
   "cell_type": "code",
   "execution_count": 29,
   "metadata": {},
   "outputs": [
    {
     "name": "stdout",
     "output_type": "stream",
     "text": [
      "Edek\n"
     ]
    }
   ],
   "source": [
    "print(rec.name)"
   ]
  },
  {
   "cell_type": "code",
   "execution_count": 30,
   "metadata": {},
   "outputs": [],
   "source": [
    "d = rec()"
   ]
  },
  {
   "cell_type": "code",
   "execution_count": 31,
   "metadata": {},
   "outputs": [],
   "source": [
    "e = rec()"
   ]
  },
  {
   "cell_type": "code",
   "execution_count": 32,
   "metadata": {},
   "outputs": [
    {
     "data": {
      "text/plain": [
       "'Edek'"
      ]
     },
     "execution_count": 32,
     "metadata": {},
     "output_type": "execute_result"
    }
   ],
   "source": [
    "e.name"
   ]
  },
  {
   "cell_type": "code",
   "execution_count": 33,
   "metadata": {},
   "outputs": [
    {
     "data": {
      "text/plain": [
       "'Edek'"
      ]
     },
     "execution_count": 33,
     "metadata": {},
     "output_type": "execute_result"
    }
   ],
   "source": [
    "d.name"
   ]
  },
  {
   "cell_type": "code",
   "execution_count": 34,
   "metadata": {},
   "outputs": [],
   "source": [
    "d.name = \"Gienek\""
   ]
  },
  {
   "cell_type": "code",
   "execution_count": 35,
   "metadata": {},
   "outputs": [
    {
     "data": {
      "text/plain": [
       "('Gienek', 'Edek', 'Edek')"
      ]
     },
     "execution_count": 35,
     "metadata": {},
     "output_type": "execute_result"
    }
   ],
   "source": [
    "d.name, e.name, rec.name"
   ]
  },
  {
   "cell_type": "code",
   "execution_count": 36,
   "metadata": {},
   "outputs": [
    {
     "data": {
      "text/plain": [
       "mappingproxy({'__module__': '__main__',\n",
       "              '__dict__': <attribute '__dict__' of 'rec' objects>,\n",
       "              '__weakref__': <attribute '__weakref__' of 'rec' objects>,\n",
       "              '__doc__': None,\n",
       "              'name': 'Edek',\n",
       "              'age': 150})"
      ]
     },
     "execution_count": 36,
     "metadata": {},
     "output_type": "execute_result"
    }
   ],
   "source": [
    "# atrybuty obiektu przestrzeni nazw są zazwyczaj implementowane jako słowniki, \n",
    "# a drzewa dziedziczenia klas są słownikami z łączami do innych słowników:\n",
    "rec.__dict__"
   ]
  },
  {
   "cell_type": "code",
   "execution_count": 37,
   "metadata": {},
   "outputs": [
    {
     "data": {
      "text/plain": [
       "{'name': 'Gienek'}"
      ]
     },
     "execution_count": 37,
     "metadata": {},
     "output_type": "execute_result"
    }
   ],
   "source": [
    "d.__dict__"
   ]
  },
  {
   "cell_type": "code",
   "execution_count": 38,
   "metadata": {},
   "outputs": [
    {
     "data": {
      "text/plain": [
       "{}"
      ]
     },
     "execution_count": 38,
     "metadata": {},
     "output_type": "execute_result"
    }
   ],
   "source": [
    "e.__dict__"
   ]
  },
  {
   "cell_type": "code",
   "execution_count": 39,
   "metadata": {},
   "outputs": [
    {
     "data": {
      "text/plain": [
       "__main__.rec"
      ]
     },
     "execution_count": 39,
     "metadata": {},
     "output_type": "execute_result"
    }
   ],
   "source": [
    "d.__class__  # informacja z jakiej klasy dziedziczy sie atrybuty"
   ]
  },
  {
   "cell_type": "code",
   "execution_count": 40,
   "metadata": {},
   "outputs": [
    {
     "data": {
      "text/plain": [
       "(__main__.SecondClass,)"
      ]
     },
     "execution_count": 40,
     "metadata": {},
     "output_type": "execute_result"
    }
   ],
   "source": [
    "ThirdClass.__bases__  # lista klas nadrzednych"
   ]
  },
  {
   "cell_type": "code",
   "execution_count": 41,
   "metadata": {},
   "outputs": [],
   "source": [
    "def UpperName(self):\n",
    "    return self.name.upper()   # tworzenie atrybutów poza klasą"
   ]
  },
  {
   "cell_type": "code",
   "execution_count": 42,
   "metadata": {},
   "outputs": [
    {
     "data": {
      "text/plain": [
       "'GIENEK'"
      ]
     },
     "execution_count": 42,
     "metadata": {},
     "output_type": "execute_result"
    }
   ],
   "source": [
    "UpperName(d)  # wywołanie jak funkcji ()"
   ]
  },
  {
   "cell_type": "code",
   "execution_count": 43,
   "metadata": {},
   "outputs": [],
   "source": [
    "rec.method = UpperName  # po przypisaniu do atrybutu klasy, zostaje metodą klasy i tak też należy ją wywoływać"
   ]
  },
  {
   "cell_type": "code",
   "execution_count": 44,
   "metadata": {},
   "outputs": [
    {
     "data": {
      "text/plain": [
       "'EDEK'"
      ]
     },
     "execution_count": 44,
     "metadata": {},
     "output_type": "execute_result"
    }
   ],
   "source": [
    "e.method()"
   ]
  },
  {
   "cell_type": "code",
   "execution_count": 45,
   "metadata": {},
   "outputs": [
    {
     "data": {
      "text/plain": [
       "'GIENEK'"
      ]
     },
     "execution_count": 45,
     "metadata": {},
     "output_type": "execute_result"
    }
   ],
   "source": [
    "rec.method(d)"
   ]
  },
  {
   "cell_type": "markdown",
   "metadata": {},
   "source": [
    "### KLASY A SŁOWNIKI"
   ]
  },
  {
   "cell_type": "code",
   "execution_count": 46,
   "metadata": {},
   "outputs": [],
   "source": [
    "# Tworzenie słownika:\n",
    "nowy = {}\n",
    "nowy['name'] = 'mel'                      # Informacje zapisane w słowniku\n",
    "nowy['age'] = 45\n",
    "nowy['job'] = 'instruktor'"
   ]
  },
  {
   "cell_type": "code",
   "execution_count": 47,
   "metadata": {},
   "outputs": [
    {
     "name": "stdout",
     "output_type": "stream",
     "text": [
      "mel\n"
     ]
    }
   ],
   "source": [
    "print(nowy['name'])"
   ]
  },
  {
   "cell_type": "code",
   "execution_count": 48,
   "metadata": {},
   "outputs": [],
   "source": [
    "# tworzenie atrybutów klasy:\n",
    "class nowa: pass\n",
    "nowa.name = 'mel'\n",
    "nowa.age = 45\n",
    "nowa.job = 'instruktor'"
   ]
  },
  {
   "cell_type": "code",
   "execution_count": 49,
   "metadata": {},
   "outputs": [
    {
     "name": "stdout",
     "output_type": "stream",
     "text": [
      "45\n"
     ]
    }
   ],
   "source": [
    "print(nowa.age)"
   ]
  },
  {
   "cell_type": "code",
   "execution_count": 50,
   "metadata": {},
   "outputs": [],
   "source": [
    "p1 = nowa()"
   ]
  },
  {
   "cell_type": "code",
   "execution_count": 51,
   "metadata": {},
   "outputs": [
    {
     "data": {
      "text/plain": [
       "'mel'"
      ]
     },
     "execution_count": 51,
     "metadata": {},
     "output_type": "execute_result"
    }
   ],
   "source": [
    "p1.name"
   ]
  },
  {
   "cell_type": "code",
   "execution_count": 52,
   "metadata": {},
   "outputs": [],
   "source": [
    "p2 = nowa()"
   ]
  },
  {
   "cell_type": "code",
   "execution_count": 53,
   "metadata": {},
   "outputs": [],
   "source": [
    "p2.name = 'Ziuta'"
   ]
  },
  {
   "cell_type": "code",
   "execution_count": 54,
   "metadata": {},
   "outputs": [
    {
     "data": {
      "text/plain": [
       "('Ziuta', 'mel', 'mel')"
      ]
     },
     "execution_count": 54,
     "metadata": {},
     "output_type": "execute_result"
    }
   ],
   "source": [
    "p2.name, p1.name, nowa.name  "
   ]
  },
  {
   "cell_type": "code",
   "execution_count": 55,
   "metadata": {},
   "outputs": [],
   "source": [
    "p1.name = 'mel'"
   ]
  },
  {
   "cell_type": "code",
   "execution_count": 56,
   "metadata": {},
   "outputs": [
    {
     "data": {
      "text/plain": [
       "('mel', 'Ziuta', 'mel')"
      ]
     },
     "execution_count": 56,
     "metadata": {},
     "output_type": "execute_result"
    }
   ],
   "source": [
    "p1.name, p2.name, nowa.name"
   ]
  },
  {
   "cell_type": "code",
   "execution_count": 57,
   "metadata": {},
   "outputs": [],
   "source": [
    "class pusta: pass"
   ]
  },
  {
   "cell_type": "code",
   "execution_count": 58,
   "metadata": {},
   "outputs": [],
   "source": [
    "pers1 = pusta()"
   ]
  },
  {
   "cell_type": "code",
   "execution_count": 59,
   "metadata": {},
   "outputs": [],
   "source": [
    "pers1.name = 'Janusz'"
   ]
  },
  {
   "cell_type": "code",
   "execution_count": 60,
   "metadata": {},
   "outputs": [],
   "source": [
    "pers2 = pusta()"
   ]
  },
  {
   "cell_type": "code",
   "execution_count": 61,
   "metadata": {},
   "outputs": [],
   "source": [
    "pers2.name = 'Tadzik'"
   ]
  },
  {
   "cell_type": "code",
   "execution_count": 62,
   "metadata": {},
   "outputs": [
    {
     "data": {
      "text/plain": [
       "('Janusz', 'Tadzik')"
      ]
     },
     "execution_count": 62,
     "metadata": {},
     "output_type": "execute_result"
    }
   ],
   "source": [
    "pers1.name, pers2.name"
   ]
  },
  {
   "cell_type": "code",
   "execution_count": 63,
   "metadata": {},
   "outputs": [],
   "source": [
    "pers2.age = 150 # obie instancje maja rozna ilosc atrybutow (pers1 nie ma 'age')"
   ]
  },
  {
   "cell_type": "code",
   "execution_count": 64,
   "metadata": {},
   "outputs": [],
   "source": [
    "class Osoba:                             # zamiast uzupelniac puste klasy, mozna utworzyc logike inicjalizującą instancje\n",
    "    def __init__(self, name, age):\n",
    "            self.name = name\n",
    "            self.age = age\n",
    "    def info(self):\n",
    "        return (self.name, self.age)"
   ]
  },
  {
   "cell_type": "code",
   "execution_count": 65,
   "metadata": {},
   "outputs": [],
   "source": [
    "pers3 = Osoba(\"Ziutek\", 14)"
   ]
  },
  {
   "cell_type": "code",
   "execution_count": 66,
   "metadata": {},
   "outputs": [],
   "source": [
    "pers4 = Osoba(\"mietek\", 52)"
   ]
  },
  {
   "cell_type": "code",
   "execution_count": 67,
   "metadata": {},
   "outputs": [
    {
     "data": {
      "text/plain": [
       "(14, 'mietek')"
      ]
     },
     "execution_count": 67,
     "metadata": {},
     "output_type": "execute_result"
    }
   ],
   "source": [
    "pers3.age, pers4.name"
   ]
  },
  {
   "cell_type": "code",
   "execution_count": 68,
   "metadata": {},
   "outputs": [
    {
     "data": {
      "text/plain": [
       "('Ziutek', 14)"
      ]
     },
     "execution_count": 68,
     "metadata": {},
     "output_type": "execute_result"
    }
   ],
   "source": [
    "pers3.info()"
   ]
  },
  {
   "cell_type": "markdown",
   "metadata": {},
   "source": [
    "## REALISTYCZNY PRZYKŁAD UŻYCIA KLAS:"
   ]
  },
  {
   "cell_type": "code",
   "execution_count": 69,
   "metadata": {},
   "outputs": [
    {
     "name": "stdout",
     "output_type": "stream",
     "text": [
      "TopTest:  attr1 = 0, attr2 = 1\n",
      "SubTest:  attr1 = 2, attr2 = 3\n"
     ]
    }
   ],
   "source": [
    "class AttrDisplay:\n",
    "    \"\"\"Udostępnia dziedziczoną metodę przeciążania wyświetlania, która pokazuje instancje z ich nazwami klas, a także parę\n",
    "   nazwa=wartość dla każdego atrybutu przechowanego w samej instancji (ale nie atrybutów odziedziczonych po klasach).\n",
    "   Można ją wmieszać w dowolną klasę i będzie działała na dowolnej instancji.\"\"\"\n",
    "    def attrsget(self):\n",
    "        attrs = []\n",
    "        for key in sorted(self.__dict__):\n",
    "            attrs.append(f\"{key} = {getattr(self, key)}\")\n",
    "        return ', '.join(attrs)\n",
    "    def __str__(self):\n",
    "        return F\"{self.__class__.__name__}:  {self.attrsget()}\"\n",
    "    \n",
    "if __name__ == '__main__':\n",
    "    class TopTest(AttrDisplay):\n",
    "        count = 0\n",
    "        def __init__(self):\n",
    "            self.attr1 = TopTest.count\n",
    "            self.attr2 = TopTest.count+1\n",
    "            TopTest.count +=2\n",
    "    class SubTest(TopTest):\n",
    "        pass\n",
    "        \n",
    "    X, Y = TopTest(), SubTest()\n",
    "    print(X)\n",
    "    print(Y)"
   ]
  },
  {
   "cell_type": "code",
   "execution_count": 70,
   "metadata": {
    "scrolled": false
   },
   "outputs": [
    {
     "name": "stdout",
     "output_type": "stream",
     "text": [
      "0 None\n",
      "Anna Kowalska 500 madka\n",
      "Zmuminków Kowalska\n",
      "[Person: Anna Kowalska, madka, 550.0]\n",
      "Rozszerzenie, metoda która została dopisana do podklasy ale nie istnieje w klasie Person\n",
      "[Person: Tom Ijerry, manager, 6000.0]\n",
      "--Wszystkie trzy--\n",
      "[Person: Bobek Zmuminków, None, 0.0]\n",
      "[Person: Anna Kowalska, madka, 605.0]\n",
      "[Person: Tom Ijerry, manager, 7200.0]\n"
     ]
    }
   ],
   "source": [
    "class Person(AttrDisplay):\n",
    "    def __init__(self, name, job = None, pay = 0):    # konstruktor przyjmuje 3 argumenty\n",
    "        self.name = name                  # self to obiekt nowej instancji\n",
    "        self.job = job\n",
    "        self.pay = pay\n",
    "    def lastName(self):\n",
    "        return self.name.split()[-1]\n",
    "    def giveRaise(self, percent):\n",
    "        self.pay = float(self.pay * (1 + percent))\n",
    "        self.pay = round(self.pay, 2)   # zaokrąglenie do groszy\n",
    "    def __str__(self):\n",
    "        return f\"[Person: {self.name}, {self.job}, {self.pay}]\"\n",
    "        \n",
    "class Manager(Person):            # podklasa klasy Person\n",
    "    def __init__(self, name, pay):\n",
    "        Person.__init__(self, name, 'manager', pay) # automatyczne wpisanie manager jako job\n",
    "    def giveRaise(self, percent, bonus = 0.10):    # manager przy okazji podwyzki dostanie bonus\n",
    "#        self.pay = int(self.pay*(1 + percent + bonus))    # TAK NIE ROBIMY! - to zbędne kopiowanie kodu\n",
    "        Person.giveRaise(self, percent + bonus)      # tak jest ok - rozszerzenie oryginału\n",
    "    def someThingElse(self):\n",
    "        print('Rozszerzenie, metoda która została dopisana do podklasy ale nie istnieje w klasie Person')\n",
    "\n",
    "class Department:\n",
    "    def __init__(self, *args):\n",
    "        self.members = list(args)\n",
    "    def addMember(self, person):\n",
    "        self.members.append(person)\n",
    "    def giveRaises(self, percent):\n",
    "        for person in self.members:\n",
    "            person.giveRaise(percent)\n",
    "    def showAll(self):\n",
    "        for person in self.members:\n",
    "            print(person)\n",
    "        \n",
    "    \n",
    "if __name__ == '__main__':\n",
    "    bob = Person(\"Bobek Zmuminków\") # test klasy\n",
    "    anna = Person('Anna Kowalska', job = 'madka', pay = 500)\n",
    "    print(bob.pay, bob.job)\n",
    "    print(anna.name, anna.pay, anna.job)\n",
    "    print(bob.lastName(), anna.lastName())\n",
    "    anna.giveRaise(0.10)\n",
    "    print(anna)\n",
    "    tom = Manager('Tom Ijerry', 5000)\n",
    "    tom.giveRaise(0.10)\n",
    "    tom.someThingElse()\n",
    "    print(tom)\n",
    "    print('--Wszystkie trzy--')\n",
    "    for object in (bob, anna, tom):\n",
    "        object.giveRaise(0.10)\n",
    "        print(object)"
   ]
  },
  {
   "cell_type": "code",
   "execution_count": 71,
   "metadata": {},
   "outputs": [
    {
     "data": {
      "text/plain": [
       "['Bobek', 'Zmuminkow']"
      ]
     },
     "execution_count": 71,
     "metadata": {},
     "output_type": "execute_result"
    }
   ],
   "source": [
    "name = 'Bobek Zmuminkow' # string poza klasą\n",
    "name.split()   # funkcja podzielenia stringa"
   ]
  },
  {
   "cell_type": "code",
   "execution_count": 72,
   "metadata": {},
   "outputs": [
    {
     "data": {
      "text/plain": [
       "'Zmuminkow'"
      ]
     },
     "execution_count": 72,
     "metadata": {},
     "output_type": "execute_result"
    }
   ],
   "source": [
    "name.split()[-1]   # wydzielenie nazwiska"
   ]
  },
  {
   "cell_type": "code",
   "execution_count": 73,
   "metadata": {},
   "outputs": [
    {
     "data": {
      "text/plain": [
       "'Bobek Zmuminkow'"
      ]
     },
     "execution_count": 73,
     "metadata": {},
     "output_type": "execute_result"
    }
   ],
   "source": [
    "name"
   ]
  },
  {
   "cell_type": "code",
   "execution_count": 74,
   "metadata": {},
   "outputs": [
    {
     "name": "stdout",
     "output_type": "stream",
     "text": [
      "[Person: Bobek Zmuminków, None, 0.0]\n"
     ]
    }
   ],
   "source": [
    "print(bob) # wyprintowanie dzieki operatorowi __str__"
   ]
  },
  {
   "cell_type": "code",
   "execution_count": 75,
   "metadata": {},
   "outputs": [
    {
     "data": {
      "text/plain": [
       "__main__.Person"
      ]
     },
     "execution_count": 75,
     "metadata": {},
     "output_type": "execute_result"
    }
   ],
   "source": [
    "bob.__class__"
   ]
  },
  {
   "cell_type": "code",
   "execution_count": 76,
   "metadata": {},
   "outputs": [
    {
     "data": {
      "text/plain": [
       "'Person'"
      ]
     },
     "execution_count": 76,
     "metadata": {},
     "output_type": "execute_result"
    }
   ],
   "source": [
    "bob.__class__.__name__"
   ]
  },
  {
   "cell_type": "code",
   "execution_count": 77,
   "metadata": {},
   "outputs": [
    {
     "data": {
      "text/plain": [
       "dict_keys(['name', 'job', 'pay'])"
      ]
     },
     "execution_count": 77,
     "metadata": {},
     "output_type": "execute_result"
    }
   ],
   "source": [
    "bob.__dict__.keys()  # atrybuty sa tak naprawde kluczami slownika"
   ]
  },
  {
   "cell_type": "code",
   "execution_count": 78,
   "metadata": {},
   "outputs": [
    {
     "data": {
      "text/plain": [
       "['__class__',\n",
       " '__delattr__',\n",
       " '__dict__',\n",
       " '__dir__',\n",
       " '__doc__',\n",
       " '__eq__',\n",
       " '__format__',\n",
       " '__ge__',\n",
       " '__getattribute__',\n",
       " '__gt__',\n",
       " '__hash__',\n",
       " '__init__',\n",
       " '__init_subclass__',\n",
       " '__le__',\n",
       " '__lt__',\n",
       " '__module__',\n",
       " '__ne__',\n",
       " '__new__',\n",
       " '__reduce__',\n",
       " '__reduce_ex__',\n",
       " '__repr__',\n",
       " '__setattr__',\n",
       " '__sizeof__',\n",
       " '__str__',\n",
       " '__subclasshook__',\n",
       " '__weakref__',\n",
       " 'attrsget',\n",
       " 'giveRaise',\n",
       " 'job',\n",
       " 'lastName',\n",
       " 'name',\n",
       " 'pay']"
      ]
     },
     "execution_count": 78,
     "metadata": {},
     "output_type": "execute_result"
    }
   ],
   "source": [
    "dir(bob)  # wyświetli tez atrybuty dziedziczone z klasy nadrzędnej"
   ]
  },
  {
   "cell_type": "code",
   "execution_count": 79,
   "metadata": {},
   "outputs": [
    {
     "name": "stdout",
     "output_type": "stream",
     "text": [
      "name => Bobek Zmuminków\n",
      "job => None\n",
      "pay => 0.0\n"
     ]
    }
   ],
   "source": [
    "for key in bob.__dict__:\n",
    "    print(key, \"=>\", bob.__dict__[key])"
   ]
  },
  {
   "cell_type": "code",
   "execution_count": 80,
   "metadata": {
    "scrolled": true
   },
   "outputs": [
    {
     "name": "stdout",
     "output_type": "stream",
     "text": [
      "Help on class AttrDisplay in module __main__:\n",
      "\n",
      "class AttrDisplay(builtins.object)\n",
      " |  Udostępnia dziedziczoną metodę przeciążania wyświetlania, która pokazuje instancje z ich nazwami klas, a także parę\n",
      " |  nazwa=wartość dla każdego atrybutu przechowanego w samej instancji (ale nie atrybutów odziedziczonych po klasach).\n",
      " |  Można ją wmieszać w dowolną klasę i będzie działała na dowolnej instancji.\n",
      " |  \n",
      " |  Methods defined here:\n",
      " |  \n",
      " |  __str__(self)\n",
      " |      Return str(self).\n",
      " |  \n",
      " |  attrsget(self)\n",
      " |  \n",
      " |  ----------------------------------------------------------------------\n",
      " |  Data descriptors defined here:\n",
      " |  \n",
      " |  __dict__\n",
      " |      dictionary for instance variables (if defined)\n",
      " |  \n",
      " |  __weakref__\n",
      " |      list of weak references to the object (if defined)\n",
      "\n"
     ]
    }
   ],
   "source": [
    "help(AttrDisplay)"
   ]
  },
  {
   "cell_type": "markdown",
   "metadata": {},
   "source": [
    "### aby atrybut był niedostępny poza klasą i nie istniało ryzyko nadpisania go innym atrybutem o tej samej nazwie można dodać znak \" _ \" przed nazwą atrybutu, np _attrsget"
   ]
  },
  {
   "cell_type": "markdown",
   "metadata": {},
   "source": [
    "## OBIEKTY DO PRZECHOWYWANIA DANYCH W BAZACH DANYCH:\n",
    "### pickle:\n",
    "#### Serializuje dowolne obiekty Pythona na łańcuchy bajtowe i odwrotnie.\n",
    "### dbm:\n",
    "#### Implementuje system plików dostępu według klucza, służący do przechowywania łańcuchów znaków.\n",
    "### shelve:\n",
    "#### Wykorzystuje dwa inne moduły w celu przechowania w pliku obiektów Pythona — dostępnych po kluczu."
   ]
  },
  {
   "cell_type": "code",
   "execution_count": 81,
   "metadata": {},
   "outputs": [],
   "source": [
    "ziutek = Person('Jozef Chomik', job = 'zjadacz', pay = 200)"
   ]
  },
  {
   "cell_type": "code",
   "execution_count": 82,
   "metadata": {},
   "outputs": [],
   "source": [
    "gienek = Manager('Eugeniusz Mocno', 5000)"
   ]
  },
  {
   "cell_type": "code",
   "execution_count": 83,
   "metadata": {},
   "outputs": [],
   "source": [
    "import shelve\n",
    "sh = shelve.open(\"bazadanychshelve\")\n",
    "for object in (ziutek, gienek):   # uzycie atrybutu name jako klucza\n",
    "    sh[object.name] = object      # przechowanie obiektu pliku shelve po kluczu\n",
    "sh.close()"
   ]
  },
  {
   "cell_type": "code",
   "execution_count": 84,
   "metadata": {},
   "outputs": [],
   "source": [
    "db = shelve.open('bazadanychshelve')"
   ]
  },
  {
   "cell_type": "code",
   "execution_count": 85,
   "metadata": {},
   "outputs": [
    {
     "data": {
      "text/plain": [
       "2"
      ]
     },
     "execution_count": 85,
     "metadata": {},
     "output_type": "execute_result"
    }
   ],
   "source": [
    "len(db)"
   ]
  },
  {
   "cell_type": "code",
   "execution_count": 86,
   "metadata": {},
   "outputs": [
    {
     "data": {
      "text/plain": [
       "['Jozef Chomik', 'Eugeniusz Mocno']"
      ]
     },
     "execution_count": 86,
     "metadata": {},
     "output_type": "execute_result"
    }
   ],
   "source": [
    "list(db.keys())"
   ]
  },
  {
   "cell_type": "code",
   "execution_count": 87,
   "metadata": {},
   "outputs": [
    {
     "name": "stdout",
     "output_type": "stream",
     "text": [
      "[Person: Jozef Chomik, zjadacz, 200]\n"
     ]
    }
   ],
   "source": [
    "print(db['Jozef Chomik'])"
   ]
  },
  {
   "cell_type": "code",
   "execution_count": 88,
   "metadata": {},
   "outputs": [
    {
     "data": {
      "text/plain": [
       "'Chomik'"
      ]
     },
     "execution_count": 88,
     "metadata": {},
     "output_type": "execute_result"
    }
   ],
   "source": [
    "db['Jozef Chomik'].lastName()"
   ]
  },
  {
   "cell_type": "code",
   "execution_count": 89,
   "metadata": {},
   "outputs": [
    {
     "name": "stdout",
     "output_type": "stream",
     "text": [
      "Eugeniusz Mocno => [Person: Eugeniusz Mocno, manager, 5000]\n",
      "Jozef Chomik => [Person: Jozef Chomik, zjadacz, 200]\n"
     ]
    }
   ],
   "source": [
    "for key in sorted(db):\n",
    "    print(key, '=>', db[key])"
   ]
  },
  {
   "cell_type": "code",
   "execution_count": 90,
   "metadata": {},
   "outputs": [],
   "source": [
    "ziutek = db['Jozef Chomik']   # indeksowanie za pomocą klucza w celu pobrania\n",
    "ziutek.giveRaise(.10)         # uaktualnienie w pamieci za pomoca metody giveRaise\n",
    "db['Jozef Chomik'] = ziutek   # przypisanie do klucza w celu uaktualnienia pliku shelve\n",
    "db.close()"
   ]
  },
  {
   "cell_type": "code",
   "execution_count": 91,
   "metadata": {},
   "outputs": [
    {
     "name": "stdout",
     "output_type": "stream",
     "text": [
      "Eugeniusz Mocno => [Person: Eugeniusz Mocno, manager, 5000]\n",
      "Jozef Chomik => [Person: Jozef Chomik, zjadacz, 220.0]\n"
     ]
    }
   ],
   "source": [
    "db = shelve.open('bazadanychshelve')\n",
    "for key in sorted(db):\n",
    "    print(key, '=>', db[key])    # ziutek dostał podwyzje 20 złociszy"
   ]
  },
  {
   "cell_type": "code",
   "execution_count": null,
   "metadata": {},
   "outputs": [],
   "source": []
  }
 ],
 "metadata": {
  "kernelspec": {
   "display_name": "Python 3",
   "language": "python",
   "name": "python3"
  },
  "language_info": {
   "codemirror_mode": {
    "name": "ipython",
    "version": 3
   },
   "file_extension": ".py",
   "mimetype": "text/x-python",
   "name": "python",
   "nbconvert_exporter": "python",
   "pygments_lexer": "ipython3",
   "version": "3.8.1"
  }
 },
 "nbformat": 4,
 "nbformat_minor": 2
}
