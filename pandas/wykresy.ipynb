{
 "cells": [
  {
   "cell_type": "code",
   "execution_count": 2,
   "metadata": {},
   "outputs": [],
   "source": [
    "import pandas as pd\n",
    "import numpy as np\n",
    "import matplotlib.pyplot as plt"
   ]
  },
  {
   "cell_type": "code",
   "execution_count": 2,
   "metadata": {},
   "outputs": [],
   "source": [
    "dff = pd.read_csv('.\\pandas_Countries.csv')"
   ]
  },
  {
   "cell_type": "code",
   "execution_count": 3,
   "metadata": {},
   "outputs": [
    {
     "data": {
      "text/html": [
       "<div>\n",
       "<style scoped>\n",
       "    .dataframe tbody tr th:only-of-type {\n",
       "        vertical-align: middle;\n",
       "    }\n",
       "\n",
       "    .dataframe tbody tr th {\n",
       "        vertical-align: top;\n",
       "    }\n",
       "\n",
       "    .dataframe thead th {\n",
       "        text-align: right;\n",
       "    }\n",
       "</style>\n",
       "<table border=\"1\" class=\"dataframe\">\n",
       "  <thead>\n",
       "    <tr style=\"text-align: right;\">\n",
       "      <th></th>\n",
       "      <th>Country</th>\n",
       "      <th>Region</th>\n",
       "      <th>Population</th>\n",
       "      <th>Area sq. mi.</th>\n",
       "      <th>Pop. Density sq. mi.</th>\n",
       "      <th>Coastline coast/area ratio</th>\n",
       "      <th>Net migration</th>\n",
       "      <th>Infant mortality per 1000 births</th>\n",
       "      <th>GDP</th>\n",
       "      <th>Literacy</th>\n",
       "      <th>Phones per 1000</th>\n",
       "      <th>Climate</th>\n",
       "      <th>Agriculture</th>\n",
       "      <th>Industry</th>\n",
       "      <th>Service</th>\n",
       "    </tr>\n",
       "  </thead>\n",
       "  <tbody>\n",
       "    <tr>\n",
       "      <th>0</th>\n",
       "      <td>Afghanistan</td>\n",
       "      <td>ASIA (EX. NEAR EAST)</td>\n",
       "      <td>31056997</td>\n",
       "      <td>647500</td>\n",
       "      <td>48,0</td>\n",
       "      <td>0,00</td>\n",
       "      <td>23,06</td>\n",
       "      <td>163,07</td>\n",
       "      <td>700.0</td>\n",
       "      <td>36,0</td>\n",
       "      <td>3,2</td>\n",
       "      <td>1</td>\n",
       "      <td>0,38</td>\n",
       "      <td>0,24</td>\n",
       "      <td>0,38</td>\n",
       "    </tr>\n",
       "    <tr>\n",
       "      <th>1</th>\n",
       "      <td>Albania</td>\n",
       "      <td>EASTERN EUROPE</td>\n",
       "      <td>3581655</td>\n",
       "      <td>28748</td>\n",
       "      <td>124,6</td>\n",
       "      <td>1,26</td>\n",
       "      <td>-4,93</td>\n",
       "      <td>21,52</td>\n",
       "      <td>4500.0</td>\n",
       "      <td>86,5</td>\n",
       "      <td>71,2</td>\n",
       "      <td>3</td>\n",
       "      <td>0,232</td>\n",
       "      <td>0,188</td>\n",
       "      <td>0,579</td>\n",
       "    </tr>\n",
       "    <tr>\n",
       "      <th>2</th>\n",
       "      <td>Algeria</td>\n",
       "      <td>NORTHERN AFRICA</td>\n",
       "      <td>32930091</td>\n",
       "      <td>2381740</td>\n",
       "      <td>13,8</td>\n",
       "      <td>0,04</td>\n",
       "      <td>-0,39</td>\n",
       "      <td>31</td>\n",
       "      <td>6000.0</td>\n",
       "      <td>70,0</td>\n",
       "      <td>78,1</td>\n",
       "      <td>1</td>\n",
       "      <td>0,101</td>\n",
       "      <td>0,6</td>\n",
       "      <td>0,298</td>\n",
       "    </tr>\n",
       "    <tr>\n",
       "      <th>3</th>\n",
       "      <td>American Samoa</td>\n",
       "      <td>OCEANIA</td>\n",
       "      <td>57794</td>\n",
       "      <td>199</td>\n",
       "      <td>290,4</td>\n",
       "      <td>58,29</td>\n",
       "      <td>-20,71</td>\n",
       "      <td>9,27</td>\n",
       "      <td>8000.0</td>\n",
       "      <td>97,0</td>\n",
       "      <td>259,5</td>\n",
       "      <td>2</td>\n",
       "      <td>NaN</td>\n",
       "      <td>NaN</td>\n",
       "      <td>NaN</td>\n",
       "    </tr>\n",
       "    <tr>\n",
       "      <th>4</th>\n",
       "      <td>Andorra</td>\n",
       "      <td>WESTERN EUROPE</td>\n",
       "      <td>71201</td>\n",
       "      <td>468</td>\n",
       "      <td>152,1</td>\n",
       "      <td>0,00</td>\n",
       "      <td>6,6</td>\n",
       "      <td>4,05</td>\n",
       "      <td>19000.0</td>\n",
       "      <td>100,0</td>\n",
       "      <td>497,2</td>\n",
       "      <td>3</td>\n",
       "      <td>NaN</td>\n",
       "      <td>NaN</td>\n",
       "      <td>NaN</td>\n",
       "    </tr>\n",
       "    <tr>\n",
       "      <th>...</th>\n",
       "      <td>...</td>\n",
       "      <td>...</td>\n",
       "      <td>...</td>\n",
       "      <td>...</td>\n",
       "      <td>...</td>\n",
       "      <td>...</td>\n",
       "      <td>...</td>\n",
       "      <td>...</td>\n",
       "      <td>...</td>\n",
       "      <td>...</td>\n",
       "      <td>...</td>\n",
       "      <td>...</td>\n",
       "      <td>...</td>\n",
       "      <td>...</td>\n",
       "      <td>...</td>\n",
       "    </tr>\n",
       "    <tr>\n",
       "      <th>222</th>\n",
       "      <td>West Bank</td>\n",
       "      <td>NEAR EAST</td>\n",
       "      <td>2460492</td>\n",
       "      <td>5860</td>\n",
       "      <td>419,9</td>\n",
       "      <td>0,00</td>\n",
       "      <td>2,98</td>\n",
       "      <td>19,62</td>\n",
       "      <td>800.0</td>\n",
       "      <td>NaN</td>\n",
       "      <td>145,2</td>\n",
       "      <td>3</td>\n",
       "      <td>0,09</td>\n",
       "      <td>0,28</td>\n",
       "      <td>0,63</td>\n",
       "    </tr>\n",
       "    <tr>\n",
       "      <th>223</th>\n",
       "      <td>Western Sahara</td>\n",
       "      <td>NORTHERN AFRICA</td>\n",
       "      <td>273008</td>\n",
       "      <td>266000</td>\n",
       "      <td>1,0</td>\n",
       "      <td>0,42</td>\n",
       "      <td>NaN</td>\n",
       "      <td>NaN</td>\n",
       "      <td>NaN</td>\n",
       "      <td>NaN</td>\n",
       "      <td>NaN</td>\n",
       "      <td>1</td>\n",
       "      <td>NaN</td>\n",
       "      <td>NaN</td>\n",
       "      <td>0,4</td>\n",
       "    </tr>\n",
       "    <tr>\n",
       "      <th>224</th>\n",
       "      <td>Yemen</td>\n",
       "      <td>NEAR EAST</td>\n",
       "      <td>21456188</td>\n",
       "      <td>527970</td>\n",
       "      <td>40,6</td>\n",
       "      <td>0,36</td>\n",
       "      <td>0</td>\n",
       "      <td>61,5</td>\n",
       "      <td>800.0</td>\n",
       "      <td>50,2</td>\n",
       "      <td>37,2</td>\n",
       "      <td>1</td>\n",
       "      <td>0,135</td>\n",
       "      <td>0,472</td>\n",
       "      <td>0,393</td>\n",
       "    </tr>\n",
       "    <tr>\n",
       "      <th>225</th>\n",
       "      <td>Zambia</td>\n",
       "      <td>SUB-SAHARAN AFRICA</td>\n",
       "      <td>11502010</td>\n",
       "      <td>752614</td>\n",
       "      <td>15,3</td>\n",
       "      <td>0,00</td>\n",
       "      <td>0</td>\n",
       "      <td>88,29</td>\n",
       "      <td>800.0</td>\n",
       "      <td>80,6</td>\n",
       "      <td>8,2</td>\n",
       "      <td>2</td>\n",
       "      <td>0,22</td>\n",
       "      <td>0,29</td>\n",
       "      <td>0,489</td>\n",
       "    </tr>\n",
       "    <tr>\n",
       "      <th>226</th>\n",
       "      <td>Zimbabwe</td>\n",
       "      <td>SUB-SAHARAN AFRICA</td>\n",
       "      <td>12236805</td>\n",
       "      <td>390580</td>\n",
       "      <td>31,3</td>\n",
       "      <td>0,00</td>\n",
       "      <td>0</td>\n",
       "      <td>67,69</td>\n",
       "      <td>1900.0</td>\n",
       "      <td>90,7</td>\n",
       "      <td>26,8</td>\n",
       "      <td>2</td>\n",
       "      <td>0,179</td>\n",
       "      <td>0,243</td>\n",
       "      <td>0,579</td>\n",
       "    </tr>\n",
       "  </tbody>\n",
       "</table>\n",
       "<p>227 rows × 15 columns</p>\n",
       "</div>"
      ],
      "text/plain": [
       "             Country                               Region  Population  \\\n",
       "0       Afghanistan         ASIA (EX. NEAR EAST)             31056997   \n",
       "1           Albania   EASTERN EUROPE                          3581655   \n",
       "2           Algeria   NORTHERN AFRICA                        32930091   \n",
       "3    American Samoa   OCEANIA                                   57794   \n",
       "4           Andorra   WESTERN EUROPE                            71201   \n",
       "..               ...                                  ...         ...   \n",
       "222       West Bank   NEAR EAST                               2460492   \n",
       "223  Western Sahara   NORTHERN AFRICA                          273008   \n",
       "224           Yemen   NEAR EAST                              21456188   \n",
       "225          Zambia   SUB-SAHARAN AFRICA                     11502010   \n",
       "226        Zimbabwe   SUB-SAHARAN AFRICA                     12236805   \n",
       "\n",
       "     Area sq. mi. Pop. Density sq. mi. Coastline coast/area ratio  \\\n",
       "0          647500                 48,0                       0,00   \n",
       "1           28748                124,6                       1,26   \n",
       "2         2381740                 13,8                       0,04   \n",
       "3             199                290,4                      58,29   \n",
       "4             468                152,1                       0,00   \n",
       "..            ...                  ...                        ...   \n",
       "222          5860                419,9                       0,00   \n",
       "223        266000                  1,0                       0,42   \n",
       "224        527970                 40,6                       0,36   \n",
       "225        752614                 15,3                       0,00   \n",
       "226        390580                 31,3                       0,00   \n",
       "\n",
       "    Net migration Infant mortality per 1000 births      GDP Literacy  \\\n",
       "0           23,06                           163,07    700.0     36,0   \n",
       "1           -4,93                            21,52   4500.0     86,5   \n",
       "2           -0,39                               31   6000.0     70,0   \n",
       "3          -20,71                             9,27   8000.0     97,0   \n",
       "4             6,6                             4,05  19000.0    100,0   \n",
       "..            ...                              ...      ...      ...   \n",
       "222          2,98                            19,62    800.0      NaN   \n",
       "223           NaN                              NaN      NaN      NaN   \n",
       "224             0                             61,5    800.0     50,2   \n",
       "225             0                            88,29    800.0     80,6   \n",
       "226             0                            67,69   1900.0     90,7   \n",
       "\n",
       "    Phones per 1000 Climate Agriculture Industry Service  \n",
       "0               3,2       1        0,38     0,24    0,38  \n",
       "1              71,2       3       0,232    0,188   0,579  \n",
       "2              78,1       1       0,101      0,6   0,298  \n",
       "3             259,5       2         NaN      NaN     NaN  \n",
       "4             497,2       3         NaN      NaN     NaN  \n",
       "..              ...     ...         ...      ...     ...  \n",
       "222           145,2       3        0,09     0,28    0,63  \n",
       "223             NaN       1         NaN      NaN     0,4  \n",
       "224            37,2       1       0,135    0,472   0,393  \n",
       "225             8,2       2        0,22     0,29   0,489  \n",
       "226            26,8       2       0,179    0,243   0,579  \n",
       "\n",
       "[227 rows x 15 columns]"
      ]
     },
     "execution_count": 3,
     "metadata": {},
     "output_type": "execute_result"
    }
   ],
   "source": [
    "dff"
   ]
  },
  {
   "cell_type": "code",
   "execution_count": 4,
   "metadata": {},
   "outputs": [
    {
     "data": {
      "text/plain": [
       "Index(['Country', 'Region', 'Population', 'Area sq. mi.',\n",
       "       'Pop. Density sq. mi.', 'Coastline coast/area ratio', 'Net migration',\n",
       "       'Infant mortality per 1000 births', 'GDP', 'Literacy',\n",
       "       'Phones per 1000', 'Climate', 'Agriculture', 'Industry', 'Service'],\n",
       "      dtype='object')"
      ]
     },
     "execution_count": 4,
     "metadata": {},
     "output_type": "execute_result"
    }
   ],
   "source": [
    "dff.columns"
   ]
  },
  {
   "cell_type": "code",
   "execution_count": 5,
   "metadata": {},
   "outputs": [],
   "source": [
    "df = dff[['Country', 'Region', 'Population','Area sq. mi.', 'Net migration','Infant mortality per 1000 births', 'GDP', 'Literacy', 'Phones per 1000']].copy()"
   ]
  },
  {
   "cell_type": "code",
   "execution_count": 6,
   "metadata": {},
   "outputs": [],
   "source": [
    "df.rename(columns={'GDP': 'GDP per capita'}, inplace=True)"
   ]
  },
  {
   "cell_type": "code",
   "execution_count": 7,
   "metadata": {},
   "outputs": [],
   "source": [
    "df['Population'] = df['Population']/1000000"
   ]
  },
  {
   "cell_type": "code",
   "execution_count": 8,
   "metadata": {},
   "outputs": [],
   "source": [
    "df['GDP [mld dolars]'] = df['GDP per capita']*df['Population']/1000"
   ]
  },
  {
   "cell_type": "code",
   "execution_count": 9,
   "metadata": {},
   "outputs": [
    {
     "data": {
      "text/html": [
       "<div>\n",
       "<style scoped>\n",
       "    .dataframe tbody tr th:only-of-type {\n",
       "        vertical-align: middle;\n",
       "    }\n",
       "\n",
       "    .dataframe tbody tr th {\n",
       "        vertical-align: top;\n",
       "    }\n",
       "\n",
       "    .dataframe thead th {\n",
       "        text-align: right;\n",
       "    }\n",
       "</style>\n",
       "<table border=\"1\" class=\"dataframe\">\n",
       "  <thead>\n",
       "    <tr style=\"text-align: right;\">\n",
       "      <th></th>\n",
       "      <th>Country</th>\n",
       "      <th>Region</th>\n",
       "      <th>Population</th>\n",
       "      <th>Area sq. mi.</th>\n",
       "      <th>Net migration</th>\n",
       "      <th>Infant mortality per 1000 births</th>\n",
       "      <th>GDP per capita</th>\n",
       "      <th>Literacy</th>\n",
       "      <th>Phones per 1000</th>\n",
       "      <th>GDP [mld dolars]</th>\n",
       "    </tr>\n",
       "  </thead>\n",
       "  <tbody>\n",
       "    <tr>\n",
       "      <th>0</th>\n",
       "      <td>Afghanistan</td>\n",
       "      <td>ASIA (EX. NEAR EAST)</td>\n",
       "      <td>31.056997</td>\n",
       "      <td>647500</td>\n",
       "      <td>23,06</td>\n",
       "      <td>163,07</td>\n",
       "      <td>700.0</td>\n",
       "      <td>36,0</td>\n",
       "      <td>3,2</td>\n",
       "      <td>21.739898</td>\n",
       "    </tr>\n",
       "    <tr>\n",
       "      <th>1</th>\n",
       "      <td>Albania</td>\n",
       "      <td>EASTERN EUROPE</td>\n",
       "      <td>3.581655</td>\n",
       "      <td>28748</td>\n",
       "      <td>-4,93</td>\n",
       "      <td>21,52</td>\n",
       "      <td>4500.0</td>\n",
       "      <td>86,5</td>\n",
       "      <td>71,2</td>\n",
       "      <td>16.117448</td>\n",
       "    </tr>\n",
       "    <tr>\n",
       "      <th>2</th>\n",
       "      <td>Algeria</td>\n",
       "      <td>NORTHERN AFRICA</td>\n",
       "      <td>32.930091</td>\n",
       "      <td>2381740</td>\n",
       "      <td>-0,39</td>\n",
       "      <td>31</td>\n",
       "      <td>6000.0</td>\n",
       "      <td>70,0</td>\n",
       "      <td>78,1</td>\n",
       "      <td>197.580546</td>\n",
       "    </tr>\n",
       "    <tr>\n",
       "      <th>3</th>\n",
       "      <td>American Samoa</td>\n",
       "      <td>OCEANIA</td>\n",
       "      <td>0.057794</td>\n",
       "      <td>199</td>\n",
       "      <td>-20,71</td>\n",
       "      <td>9,27</td>\n",
       "      <td>8000.0</td>\n",
       "      <td>97,0</td>\n",
       "      <td>259,5</td>\n",
       "      <td>0.462352</td>\n",
       "    </tr>\n",
       "    <tr>\n",
       "      <th>4</th>\n",
       "      <td>Andorra</td>\n",
       "      <td>WESTERN EUROPE</td>\n",
       "      <td>0.071201</td>\n",
       "      <td>468</td>\n",
       "      <td>6,6</td>\n",
       "      <td>4,05</td>\n",
       "      <td>19000.0</td>\n",
       "      <td>100,0</td>\n",
       "      <td>497,2</td>\n",
       "      <td>1.352819</td>\n",
       "    </tr>\n",
       "    <tr>\n",
       "      <th>5</th>\n",
       "      <td>Angola</td>\n",
       "      <td>SUB-SAHARAN AFRICA</td>\n",
       "      <td>12.127071</td>\n",
       "      <td>1246700</td>\n",
       "      <td>0</td>\n",
       "      <td>191,19</td>\n",
       "      <td>1900.0</td>\n",
       "      <td>42,0</td>\n",
       "      <td>7,8</td>\n",
       "      <td>23.041435</td>\n",
       "    </tr>\n",
       "    <tr>\n",
       "      <th>6</th>\n",
       "      <td>Anguilla</td>\n",
       "      <td>LATIN AMER. &amp; CARIB</td>\n",
       "      <td>0.013477</td>\n",
       "      <td>102</td>\n",
       "      <td>10,76</td>\n",
       "      <td>21,03</td>\n",
       "      <td>8600.0</td>\n",
       "      <td>95,0</td>\n",
       "      <td>460,0</td>\n",
       "      <td>0.115902</td>\n",
       "    </tr>\n",
       "    <tr>\n",
       "      <th>7</th>\n",
       "      <td>Antigua &amp; Barbuda</td>\n",
       "      <td>LATIN AMER. &amp; CARIB</td>\n",
       "      <td>0.069108</td>\n",
       "      <td>443</td>\n",
       "      <td>-6,15</td>\n",
       "      <td>19,46</td>\n",
       "      <td>11000.0</td>\n",
       "      <td>89,0</td>\n",
       "      <td>549,9</td>\n",
       "      <td>0.760188</td>\n",
       "    </tr>\n",
       "    <tr>\n",
       "      <th>8</th>\n",
       "      <td>Argentina</td>\n",
       "      <td>LATIN AMER. &amp; CARIB</td>\n",
       "      <td>39.921833</td>\n",
       "      <td>2766890</td>\n",
       "      <td>0,61</td>\n",
       "      <td>15,18</td>\n",
       "      <td>11200.0</td>\n",
       "      <td>97,1</td>\n",
       "      <td>220,4</td>\n",
       "      <td>447.124530</td>\n",
       "    </tr>\n",
       "    <tr>\n",
       "      <th>9</th>\n",
       "      <td>Armenia</td>\n",
       "      <td>C.W. OF IND. STATES</td>\n",
       "      <td>2.976372</td>\n",
       "      <td>29800</td>\n",
       "      <td>-6,47</td>\n",
       "      <td>23,28</td>\n",
       "      <td>3500.0</td>\n",
       "      <td>98,6</td>\n",
       "      <td>195,7</td>\n",
       "      <td>10.417302</td>\n",
       "    </tr>\n",
       "  </tbody>\n",
       "</table>\n",
       "</div>"
      ],
      "text/plain": [
       "              Country                               Region  Population  \\\n",
       "0        Afghanistan         ASIA (EX. NEAR EAST)            31.056997   \n",
       "1            Albania   EASTERN EUROPE                         3.581655   \n",
       "2            Algeria   NORTHERN AFRICA                       32.930091   \n",
       "3     American Samoa   OCEANIA                                0.057794   \n",
       "4            Andorra   WESTERN EUROPE                         0.071201   \n",
       "5             Angola   SUB-SAHARAN AFRICA                    12.127071   \n",
       "6           Anguilla               LATIN AMER. & CARIB        0.013477   \n",
       "7  Antigua & Barbuda               LATIN AMER. & CARIB        0.069108   \n",
       "8          Argentina               LATIN AMER. & CARIB       39.921833   \n",
       "9            Armenia                  C.W. OF IND. STATES     2.976372   \n",
       "\n",
       "   Area sq. mi. Net migration Infant mortality per 1000 births  \\\n",
       "0        647500         23,06                           163,07   \n",
       "1         28748         -4,93                            21,52   \n",
       "2       2381740         -0,39                               31   \n",
       "3           199        -20,71                             9,27   \n",
       "4           468           6,6                             4,05   \n",
       "5       1246700             0                           191,19   \n",
       "6           102         10,76                            21,03   \n",
       "7           443         -6,15                            19,46   \n",
       "8       2766890          0,61                            15,18   \n",
       "9         29800         -6,47                            23,28   \n",
       "\n",
       "   GDP per capita Literacy Phones per 1000  GDP [mld dolars]  \n",
       "0           700.0     36,0             3,2         21.739898  \n",
       "1          4500.0     86,5            71,2         16.117448  \n",
       "2          6000.0     70,0            78,1        197.580546  \n",
       "3          8000.0     97,0           259,5          0.462352  \n",
       "4         19000.0    100,0           497,2          1.352819  \n",
       "5          1900.0     42,0             7,8         23.041435  \n",
       "6          8600.0     95,0           460,0          0.115902  \n",
       "7         11000.0     89,0           549,9          0.760188  \n",
       "8         11200.0     97,1           220,4        447.124530  \n",
       "9          3500.0     98,6           195,7         10.417302  "
      ]
     },
     "execution_count": 9,
     "metadata": {},
     "output_type": "execute_result"
    }
   ],
   "source": [
    "df.head(10)"
   ]
  },
  {
   "cell_type": "code",
   "execution_count": 10,
   "metadata": {},
   "outputs": [
    {
     "name": "stdout",
     "output_type": "stream",
     "text": [
      "<class 'pandas.core.frame.DataFrame'>\n",
      "RangeIndex: 227 entries, 0 to 226\n",
      "Data columns (total 10 columns):\n",
      " #   Column                            Non-Null Count  Dtype  \n",
      "---  ------                            --------------  -----  \n",
      " 0   Country                           227 non-null    object \n",
      " 1   Region                            227 non-null    object \n",
      " 2   Population                        227 non-null    float64\n",
      " 3   Area sq. mi.                      227 non-null    int64  \n",
      " 4   Net migration                     224 non-null    object \n",
      " 5   Infant mortality per 1000 births  224 non-null    object \n",
      " 6   GDP per capita                    226 non-null    float64\n",
      " 7   Literacy                          209 non-null    object \n",
      " 8   Phones per 1000                   223 non-null    object \n",
      " 9   GDP [mld dolars]                  226 non-null    float64\n",
      "dtypes: float64(3), int64(1), object(6)\n",
      "memory usage: 17.9+ KB\n"
     ]
    }
   ],
   "source": [
    "df.info()"
   ]
  },
  {
   "cell_type": "code",
   "execution_count": 11,
   "metadata": {},
   "outputs": [],
   "source": [
    "df['Net migration'] = df['Net migration'].str.replace(',', '.')"
   ]
  },
  {
   "cell_type": "code",
   "execution_count": 12,
   "metadata": {},
   "outputs": [],
   "source": [
    "df['Infant mortality per 1000 births'] = df['Infant mortality per 1000 births'].str.replace(',', '.')"
   ]
  },
  {
   "cell_type": "code",
   "execution_count": 13,
   "metadata": {},
   "outputs": [],
   "source": [
    "df['Net migration'] = df['Net migration'].str.replace(',', '.')"
   ]
  },
  {
   "cell_type": "code",
   "execution_count": 14,
   "metadata": {},
   "outputs": [],
   "source": [
    "df['Phones per 1000'] = df['Phones per 1000'].str.replace(',', '.')"
   ]
  },
  {
   "cell_type": "code",
   "execution_count": 15,
   "metadata": {},
   "outputs": [],
   "source": [
    "df['Literacy'] = df['Literacy'].str.replace(',', '.')"
   ]
  },
  {
   "cell_type": "code",
   "execution_count": 16,
   "metadata": {},
   "outputs": [],
   "source": [
    "df[['Net migration','Infant mortality per 1000 births','Literacy', 'Phones per 1000']] = df[['Net migration','Infant mortality per 1000 births','Literacy', 'Phones per 1000']].astype(float)"
   ]
  },
  {
   "cell_type": "code",
   "execution_count": 17,
   "metadata": {},
   "outputs": [
    {
     "name": "stdout",
     "output_type": "stream",
     "text": [
      "<class 'pandas.core.frame.DataFrame'>\n",
      "RangeIndex: 227 entries, 0 to 226\n",
      "Data columns (total 10 columns):\n",
      " #   Column                            Non-Null Count  Dtype  \n",
      "---  ------                            --------------  -----  \n",
      " 0   Country                           227 non-null    object \n",
      " 1   Region                            227 non-null    object \n",
      " 2   Population                        227 non-null    float64\n",
      " 3   Area sq. mi.                      227 non-null    int64  \n",
      " 4   Net migration                     224 non-null    float64\n",
      " 5   Infant mortality per 1000 births  224 non-null    float64\n",
      " 6   GDP per capita                    226 non-null    float64\n",
      " 7   Literacy                          209 non-null    float64\n",
      " 8   Phones per 1000                   223 non-null    float64\n",
      " 9   GDP [mld dolars]                  226 non-null    float64\n",
      "dtypes: float64(7), int64(1), object(2)\n",
      "memory usage: 17.9+ KB\n"
     ]
    }
   ],
   "source": [
    "df.info()"
   ]
  },
  {
   "cell_type": "code",
   "execution_count": 18,
   "metadata": {},
   "outputs": [
    {
     "data": {
      "text/html": [
       "<div>\n",
       "<style scoped>\n",
       "    .dataframe tbody tr th:only-of-type {\n",
       "        vertical-align: middle;\n",
       "    }\n",
       "\n",
       "    .dataframe tbody tr th {\n",
       "        vertical-align: top;\n",
       "    }\n",
       "\n",
       "    .dataframe thead th {\n",
       "        text-align: right;\n",
       "    }\n",
       "</style>\n",
       "<table border=\"1\" class=\"dataframe\">\n",
       "  <thead>\n",
       "    <tr style=\"text-align: right;\">\n",
       "      <th></th>\n",
       "      <th>Population</th>\n",
       "      <th>Area sq. mi.</th>\n",
       "      <th>Net migration</th>\n",
       "      <th>Infant mortality per 1000 births</th>\n",
       "      <th>GDP per capita</th>\n",
       "      <th>Literacy</th>\n",
       "      <th>Phones per 1000</th>\n",
       "      <th>GDP [mld dolars]</th>\n",
       "    </tr>\n",
       "  </thead>\n",
       "  <tbody>\n",
       "    <tr>\n",
       "      <th>count</th>\n",
       "      <td>227.000000</td>\n",
       "      <td>2.270000e+02</td>\n",
       "      <td>224.000000</td>\n",
       "      <td>224.000000</td>\n",
       "      <td>226.000000</td>\n",
       "      <td>209.000000</td>\n",
       "      <td>223.000000</td>\n",
       "      <td>226.000000</td>\n",
       "    </tr>\n",
       "    <tr>\n",
       "      <th>mean</th>\n",
       "      <td>28.740284</td>\n",
       "      <td>5.982270e+05</td>\n",
       "      <td>0.038125</td>\n",
       "      <td>35.506964</td>\n",
       "      <td>9689.823009</td>\n",
       "      <td>82.838278</td>\n",
       "      <td>236.061435</td>\n",
       "      <td>233.230088</td>\n",
       "    </tr>\n",
       "    <tr>\n",
       "      <th>std</th>\n",
       "      <td>117.891327</td>\n",
       "      <td>1.790282e+06</td>\n",
       "      <td>4.889269</td>\n",
       "      <td>35.389899</td>\n",
       "      <td>10049.138513</td>\n",
       "      <td>19.722173</td>\n",
       "      <td>227.991829</td>\n",
       "      <td>956.593553</td>\n",
       "    </tr>\n",
       "    <tr>\n",
       "      <th>min</th>\n",
       "      <td>0.007026</td>\n",
       "      <td>2.000000e+00</td>\n",
       "      <td>-20.990000</td>\n",
       "      <td>2.290000</td>\n",
       "      <td>500.000000</td>\n",
       "      <td>17.600000</td>\n",
       "      <td>0.200000</td>\n",
       "      <td>0.012991</td>\n",
       "    </tr>\n",
       "    <tr>\n",
       "      <th>25%</th>\n",
       "      <td>0.437624</td>\n",
       "      <td>4.647500e+03</td>\n",
       "      <td>-0.927500</td>\n",
       "      <td>8.150000</td>\n",
       "      <td>1900.000000</td>\n",
       "      <td>70.600000</td>\n",
       "      <td>37.800000</td>\n",
       "      <td>2.641380</td>\n",
       "    </tr>\n",
       "    <tr>\n",
       "      <th>50%</th>\n",
       "      <td>4.786994</td>\n",
       "      <td>8.660000e+04</td>\n",
       "      <td>0.000000</td>\n",
       "      <td>21.000000</td>\n",
       "      <td>5550.000000</td>\n",
       "      <td>92.500000</td>\n",
       "      <td>176.200000</td>\n",
       "      <td>16.727123</td>\n",
       "    </tr>\n",
       "    <tr>\n",
       "      <th>75%</th>\n",
       "      <td>17.497772</td>\n",
       "      <td>4.418110e+05</td>\n",
       "      <td>0.997500</td>\n",
       "      <td>55.705000</td>\n",
       "      <td>15700.000000</td>\n",
       "      <td>98.000000</td>\n",
       "      <td>389.650000</td>\n",
       "      <td>87.355653</td>\n",
       "    </tr>\n",
       "    <tr>\n",
       "      <th>max</th>\n",
       "      <td>1313.973713</td>\n",
       "      <td>1.707520e+07</td>\n",
       "      <td>23.060000</td>\n",
       "      <td>191.190000</td>\n",
       "      <td>55100.000000</td>\n",
       "      <td>100.000000</td>\n",
       "      <td>1035.600000</td>\n",
       "      <td>11281.191327</td>\n",
       "    </tr>\n",
       "  </tbody>\n",
       "</table>\n",
       "</div>"
      ],
      "text/plain": [
       "        Population  Area sq. mi.  Net migration  \\\n",
       "count   227.000000  2.270000e+02     224.000000   \n",
       "mean     28.740284  5.982270e+05       0.038125   \n",
       "std     117.891327  1.790282e+06       4.889269   \n",
       "min       0.007026  2.000000e+00     -20.990000   \n",
       "25%       0.437624  4.647500e+03      -0.927500   \n",
       "50%       4.786994  8.660000e+04       0.000000   \n",
       "75%      17.497772  4.418110e+05       0.997500   \n",
       "max    1313.973713  1.707520e+07      23.060000   \n",
       "\n",
       "       Infant mortality per 1000 births  GDP per capita    Literacy  \\\n",
       "count                        224.000000      226.000000  209.000000   \n",
       "mean                          35.506964     9689.823009   82.838278   \n",
       "std                           35.389899    10049.138513   19.722173   \n",
       "min                            2.290000      500.000000   17.600000   \n",
       "25%                            8.150000     1900.000000   70.600000   \n",
       "50%                           21.000000     5550.000000   92.500000   \n",
       "75%                           55.705000    15700.000000   98.000000   \n",
       "max                          191.190000    55100.000000  100.000000   \n",
       "\n",
       "       Phones per 1000  GDP [mld dolars]  \n",
       "count       223.000000        226.000000  \n",
       "mean        236.061435        233.230088  \n",
       "std         227.991829        956.593553  \n",
       "min           0.200000          0.012991  \n",
       "25%          37.800000          2.641380  \n",
       "50%         176.200000         16.727123  \n",
       "75%         389.650000         87.355653  \n",
       "max        1035.600000      11281.191327  "
      ]
     },
     "execution_count": 18,
     "metadata": {},
     "output_type": "execute_result"
    }
   ],
   "source": [
    "df.describe()"
   ]
  },
  {
   "cell_type": "code",
   "execution_count": 19,
   "metadata": {},
   "outputs": [],
   "source": [
    "GDP = df['GDP per capita']\n",
    "Phones_per_1000=df['Phones per 1000']"
   ]
  },
  {
   "cell_type": "code",
   "execution_count": 20,
   "metadata": {},
   "outputs": [
    {
     "data": {
      "text/plain": [
       "Text(0, 0.5, 'telefony na 1000 mieszkańców')"
      ]
     },
     "execution_count": 20,
     "metadata": {},
     "output_type": "execute_result"
    },
    {
     "data": {
      "image/png": "[encoded data removed]",
      "text/plain": [
       "<Figure size 432x288 with 1 Axes>"
      ]
     },
     "metadata": {
      "needs_background": "light"
     },
     "output_type": "display_data"
    }
   ],
   "source": [
    "plt.scatter(GDP, Phones_per_1000, marker='.')\n",
    "plt.xlabel('Produkt krajowy brutto')\n",
    "plt.ylabel('telefony na 1000 mieszkańców')\n",
    "\n",
    "# korelacja (zaleznosc liniowa) między GDP a il. telefonów:"
   ]
  },
  {
   "cell_type": "code",
   "execution_count": 44,
   "metadata": {},
   "outputs": [
    {
     "data": {
      "text/plain": [
       "[<matplotlib.lines.Line2D at 0xac42310>]"
      ]
     },
     "execution_count": 44,
     "metadata": {},
     "output_type": "execute_result"
    },
    {
     "data": {
      "image/png": "[encoded data removed]",
      "text/plain": [
       "<Figure size 1440x720 with 1 Axes>"
      ]
     },
     "metadata": {
      "needs_background": "light"
     },
     "output_type": "display_data"
    }
   ],
   "source": [
    "fig = plt.figure(figsize=(20,10))\n",
    "plt.scatter(GDP, df[\"Net migration\"], marker='.')\n",
    "plt.plot([0, 50000], [0, 0], color='green')"
   ]
  },
  {
   "cell_type": "code",
   "execution_count": 22,
   "metadata": {},
   "outputs": [
    {
     "data": {
      "text/plain": [
       "<matplotlib.collections.PathCollection at 0x933a160>"
      ]
     },
     "execution_count": 22,
     "metadata": {},
     "output_type": "execute_result"
    },
    {
     "data": {
      "image/png": "[encoded data removed]",
      "text/plain": [
       "<Figure size 432x288 with 1 Axes>"
      ]
     },
     "metadata": {
      "needs_background": "light"
     },
     "output_type": "display_data"
    }
   ],
   "source": [
    "plt.scatter(1/GDP, df[\"Infant mortality per 1000 births\"], marker='.')"
   ]
  },
  {
   "cell_type": "code",
   "execution_count": 23,
   "metadata": {},
   "outputs": [
    {
     "data": {
      "text/plain": [
       "<matplotlib.collections.PathCollection at 0x9394a00>"
      ]
     },
     "execution_count": 23,
     "metadata": {},
     "output_type": "execute_result"
    },
    {
     "data": {
      "image/png": "[encoded data removed]",
      "text/plain": [
       "<Figure size 432x288 with 1 Axes>"
      ]
     },
     "metadata": {
      "needs_background": "light"
     },
     "output_type": "display_data"
    }
   ],
   "source": [
    "plt.scatter(df['GDP per capita'], df[\"Literacy\"], marker='.')"
   ]
  },
  {
   "cell_type": "code",
   "execution_count": 24,
   "metadata": {},
   "outputs": [
    {
     "data": {
      "text/plain": [
       "87.94896369999995"
      ]
     },
     "execution_count": 24,
     "metadata": {},
     "output_type": "execute_result"
    }
   ],
   "source": [
    "df['Population'].quantile(0.95)"
   ]
  },
  {
   "cell_type": "code",
   "execution_count": 25,
   "metadata": {},
   "outputs": [
    {
     "data": {
      "text/plain": [
       "216"
      ]
     },
     "execution_count": 25,
     "metadata": {},
     "output_type": "execute_result"
    }
   ],
   "source": [
    "df[(df['Population']<100)].count()['Country']"
   ]
  },
  {
   "cell_type": "code",
   "execution_count": 26,
   "metadata": {},
   "outputs": [
    {
     "data": {
      "text/html": [
       "<div>\n",
       "<style scoped>\n",
       "    .dataframe tbody tr th:only-of-type {\n",
       "        vertical-align: middle;\n",
       "    }\n",
       "\n",
       "    .dataframe tbody tr th {\n",
       "        vertical-align: top;\n",
       "    }\n",
       "\n",
       "    .dataframe thead th {\n",
       "        text-align: right;\n",
       "    }\n",
       "</style>\n",
       "<table border=\"1\" class=\"dataframe\">\n",
       "  <thead>\n",
       "    <tr style=\"text-align: right;\">\n",
       "      <th></th>\n",
       "      <th>Country</th>\n",
       "      <th>Population</th>\n",
       "    </tr>\n",
       "  </thead>\n",
       "  <tbody>\n",
       "    <tr>\n",
       "      <th>16</th>\n",
       "      <td>Bangladesh</td>\n",
       "      <td>147.365352</td>\n",
       "    </tr>\n",
       "    <tr>\n",
       "      <th>27</th>\n",
       "      <td>Brazil</td>\n",
       "      <td>188.078227</td>\n",
       "    </tr>\n",
       "    <tr>\n",
       "      <th>42</th>\n",
       "      <td>China</td>\n",
       "      <td>1313.973713</td>\n",
       "    </tr>\n",
       "    <tr>\n",
       "      <th>94</th>\n",
       "      <td>India</td>\n",
       "      <td>1095.351995</td>\n",
       "    </tr>\n",
       "    <tr>\n",
       "      <th>95</th>\n",
       "      <td>Indonesia</td>\n",
       "      <td>245.452739</td>\n",
       "    </tr>\n",
       "    <tr>\n",
       "      <th>103</th>\n",
       "      <td>Japan</td>\n",
       "      <td>127.463611</td>\n",
       "    </tr>\n",
       "    <tr>\n",
       "      <th>135</th>\n",
       "      <td>Mexico</td>\n",
       "      <td>107.449525</td>\n",
       "    </tr>\n",
       "    <tr>\n",
       "      <th>152</th>\n",
       "      <td>Nigeria</td>\n",
       "      <td>131.859731</td>\n",
       "    </tr>\n",
       "    <tr>\n",
       "      <th>156</th>\n",
       "      <td>Pakistan</td>\n",
       "      <td>165.803560</td>\n",
       "    </tr>\n",
       "    <tr>\n",
       "      <th>169</th>\n",
       "      <td>Russia</td>\n",
       "      <td>142.893540</td>\n",
       "    </tr>\n",
       "    <tr>\n",
       "      <th>214</th>\n",
       "      <td>United States</td>\n",
       "      <td>298.444215</td>\n",
       "    </tr>\n",
       "  </tbody>\n",
       "</table>\n",
       "</div>"
      ],
      "text/plain": [
       "            Country   Population\n",
       "16      Bangladesh    147.365352\n",
       "27          Brazil    188.078227\n",
       "42           China   1313.973713\n",
       "94           India   1095.351995\n",
       "95       Indonesia    245.452739\n",
       "103          Japan    127.463611\n",
       "135         Mexico    107.449525\n",
       "152        Nigeria    131.859731\n",
       "156       Pakistan    165.803560\n",
       "169         Russia    142.893540\n",
       "214  United States    298.444215"
      ]
     },
     "execution_count": 26,
     "metadata": {},
     "output_type": "execute_result"
    }
   ],
   "source": [
    "df[(df['Population']>100)][['Country','Population']]"
   ]
  },
  {
   "cell_type": "code",
   "execution_count": 27,
   "metadata": {},
   "outputs": [],
   "source": [
    "x_pop = ['(0,1>', '(1,10>', '(10,20>', '(20,30>', '(30,40>', '(40,50>', '(50,60>', '(60,70>', '(70,80>', '(80,90>', '(90,100>', '(100,200>', '200+']"
   ]
  },
  {
   "cell_type": "code",
   "execution_count": 28,
   "metadata": {},
   "outputs": [],
   "source": [
    "y_pop = [df[(df['Population']<=1)].count()['Country'],\n",
    "         df[(df['Population']>1) & (df['Population']<=10)].count()['Country'], \n",
    "         df[(df['Population']>10) & (df['Population']<=20)].count()['Country'], \n",
    "         df[(df['Population']>20) & (df['Population']<=30)].count()['Country'], \n",
    "         df[(df['Population']>30) & (df['Population']<=40)].count()['Country'], \n",
    "         df[(df['Population']>40) & (df['Population']<=50)].count()['Country'], \n",
    "         df[(df['Population']>50) & (df['Population']<=60)].count()['Country'], \n",
    "         df[(df['Population']>60) & (df['Population']<=70)].count()['Country'], \n",
    "         df[(df['Population']>70) & (df['Population']<=80)].count()['Country'], \n",
    "         df[(df['Population']>80) & (df['Population']<=90)].count()['Country'], \n",
    "         df[(df['Population']>90) & (df['Population']<=100)].count()['Country'], \n",
    "         df[(df['Population']>100) & (df['Population']<=200)].count()['Country'],\n",
    "         df[(df['Population']>200)].count()['Country']]"
   ]
  },
  {
   "cell_type": "code",
   "execution_count": 64,
   "metadata": {},
   "outputs": [
    {
     "data": {
      "text/plain": [
       "<AxesSubplot:>"
      ]
     },
     "execution_count": 64,
     "metadata": {},
     "output_type": "execute_result"
    },
    {
     "data": {
      "image/png": "[encoded data removed]",
      "text/plain": [
       "<Figure size 432x288 with 1 Axes>"
      ]
     },
     "metadata": {
      "needs_background": "light"
     },
     "output_type": "display_data"
    }
   ],
   "source": [
    "df['Population'].hist(bins=100)"
   ]
  },
  {
   "cell_type": "code",
   "execution_count": 29,
   "metadata": {},
   "outputs": [
    {
     "data": {
      "text/plain": [
       "[71, 77, 26, 15, 8, 7, 1, 5, 3, 3, 0, 7, 4]"
      ]
     },
     "execution_count": 29,
     "metadata": {},
     "output_type": "execute_result"
    }
   ],
   "source": [
    "y_pop"
   ]
  },
  {
   "cell_type": "code",
   "execution_count": 30,
   "metadata": {},
   "outputs": [
    {
     "data": {
      "text/plain": [
       "Text(0, 0.5, 'ilość krajów')"
      ]
     },
     "execution_count": 30,
     "metadata": {},
     "output_type": "execute_result"
    },
    {
     "data": {
      "image/png": "[encoded data removed]",
      "text/plain": [
       "<Figure size 1080x360 with 1 Axes>"
      ]
     },
     "metadata": {
      "needs_background": "light"
     },
     "output_type": "display_data"
    }
   ],
   "source": [
    "plt.figure(figsize=(15, 5))\n",
    "plt.bar(x_pop,y_pop)\n",
    "plt.xlabel(\"Populacja [mln]\")\n",
    "plt.ylabel('ilość krajów')"
   ]
  },
  {
   "cell_type": "code",
   "execution_count": 31,
   "metadata": {},
   "outputs": [
    {
     "data": {
      "text/plain": [
       "Region\n",
       "ASIA (EX. NEAR EAST)                   18585.031188\n",
       "BALTICS                                   80.370921\n",
       "C.W. OF IND. STATES                     1831.262392\n",
       "EASTERN EUROPE                          1175.607693\n",
       "LATIN AMER. & CARIB                     4086.194117\n",
       "NEAR EAST                               1275.718426\n",
       "NORTHERN AFRICA                          754.066032\n",
       "NORTHERN AMERICA                       12271.083028\n",
       "OCEANIA                                  710.226760\n",
       "SUB-SAHARAN AFRICA                      1293.160495\n",
       "WESTERN EUROPE                         10647.278878\n",
       "Name: GDP [mld dolars], dtype: float64"
      ]
     },
     "execution_count": 31,
     "metadata": {},
     "output_type": "execute_result"
    }
   ],
   "source": [
    "df.groupby('Region')['GDP [mld dolars]'].sum()"
   ]
  },
  {
   "cell_type": "code",
   "execution_count": 32,
   "metadata": {},
   "outputs": [
    {
     "data": {
      "text/plain": [
       "<AxesSubplot:ylabel='GDP [mld dolars]'>"
      ]
     },
     "execution_count": 32,
     "metadata": {},
     "output_type": "execute_result"
    },
    {
     "data": {
      "image/png": "[encoded data removed]",
      "text/plain": [
       "<Figure size 432x288 with 1 Axes>"
      ]
     },
     "metadata": {},
     "output_type": "display_data"
    }
   ],
   "source": [
    "df.groupby('Region')['GDP [mld dolars]'].sum().plot(kind='pie') # udział pkb regionów"
   ]
  },
  {
   "cell_type": "code",
   "execution_count": 33,
   "metadata": {},
   "outputs": [
    {
     "data": {
      "text/plain": [
       "4             Andorra \n",
       "12            Austria \n",
       "19            Belgium \n",
       "54            Denmark \n",
       "66      Faroe Islands \n",
       "68            Finland \n",
       "69             France \n",
       "76            Germany \n",
       "78          Gibraltar \n",
       "79             Greece \n",
       "85           Guernsey \n",
       "93            Iceland \n",
       "98            Ireland \n",
       "99        Isle of Man \n",
       "101             Italy \n",
       "104            Jersey \n",
       "119     Liechtenstein \n",
       "121        Luxembourg \n",
       "129             Malta \n",
       "138            Monaco \n",
       "146       Netherlands \n",
       "154            Norway \n",
       "164          Portugal \n",
       "177        San Marino \n",
       "190             Spain \n",
       "195            Sweden \n",
       "196       Switzerland \n",
       "213    United Kingdom \n",
       "Name: Country, dtype: object"
      ]
     },
     "execution_count": 33,
     "metadata": {},
     "output_type": "execute_result"
    }
   ],
   "source": [
    "df_west_europe = df['Region'].str.contains('WESTERN EUROPE')\n",
    "df.loc[df_west_europe, 'Country']"
   ]
  },
  {
   "cell_type": "code",
   "execution_count": 46,
   "metadata": {},
   "outputs": [
    {
     "data": {
      "text/plain": [
       "<AxesSubplot:xlabel='Country'>"
      ]
     },
     "execution_count": 46,
     "metadata": {},
     "output_type": "execute_result"
    },
    {
     "data": {
      "image/png": "[encoded data removed]",
      "text/plain": [
       "<Figure size 432x288 with 1 Axes>"
      ]
     },
     "metadata": {
      "needs_background": "light"
     },
     "output_type": "display_data"
    }
   ],
   "source": [
    "df.groupby(df.loc[df_west_europe, 'Country'])['GDP [mld dolars]'].sum().plot(kind='bar')"
   ]
  },
  {
   "cell_type": "code",
   "execution_count": 35,
   "metadata": {},
   "outputs": [],
   "source": [
    "df_infant = df.set_index('Infant mortality per 1000 births')"
   ]
  },
  {
   "cell_type": "code",
   "execution_count": 36,
   "metadata": {},
   "outputs": [],
   "source": [
    "df_infant.sort_index(inplace=True, ascending=False)"
   ]
  },
  {
   "cell_type": "code",
   "execution_count": 37,
   "metadata": {},
   "outputs": [],
   "source": [
    "df_infant.reset_index(inplace=True)"
   ]
  },
  {
   "cell_type": "code",
   "execution_count": 38,
   "metadata": {},
   "outputs": [
    {
     "data": {
      "text/plain": [
       "0    1900.0\n",
       "1     700.0\n",
       "2     500.0\n",
       "3    1200.0\n",
       "4    1000.0\n",
       "5     800.0\n",
       "6     900.0\n",
       "7     500.0\n",
       "8    1000.0\n",
       "9     800.0\n",
       "Name: GDP per capita, dtype: float64"
      ]
     },
     "execution_count": 38,
     "metadata": {},
     "output_type": "execute_result"
    }
   ],
   "source": [
    "df_infant.head(10)['GDP per capita']"
   ]
  },
  {
   "cell_type": "code",
   "execution_count": 56,
   "metadata": {},
   "outputs": [
    {
     "data": {
      "text/html": [
       "<div>\n",
       "<style scoped>\n",
       "    .dataframe tbody tr th:only-of-type {\n",
       "        vertical-align: middle;\n",
       "    }\n",
       "\n",
       "    .dataframe tbody tr th {\n",
       "        vertical-align: top;\n",
       "    }\n",
       "\n",
       "    .dataframe thead th {\n",
       "        text-align: right;\n",
       "    }\n",
       "</style>\n",
       "<table border=\"1\" class=\"dataframe\">\n",
       "  <thead>\n",
       "    <tr style=\"text-align: right;\">\n",
       "      <th></th>\n",
       "      <th>Country</th>\n",
       "      <th>Region</th>\n",
       "      <th>Population</th>\n",
       "      <th>Area sq. mi.</th>\n",
       "      <th>Net migration</th>\n",
       "      <th>Infant mortality per 1000 births</th>\n",
       "      <th>GDP per capita</th>\n",
       "      <th>Literacy</th>\n",
       "      <th>Phones per 1000</th>\n",
       "      <th>GDP [mld dolars]</th>\n",
       "    </tr>\n",
       "  </thead>\n",
       "  <tbody>\n",
       "    <tr>\n",
       "      <th>163</th>\n",
       "      <td>Poland</td>\n",
       "      <td>EASTERN EUROPE</td>\n",
       "      <td>38.536869</td>\n",
       "      <td>312685</td>\n",
       "      <td>-0.49</td>\n",
       "      <td>8.51</td>\n",
       "      <td>11100.0</td>\n",
       "      <td>99.8</td>\n",
       "      <td>306.3</td>\n",
       "      <td>427.759246</td>\n",
       "    </tr>\n",
       "  </tbody>\n",
       "</table>\n",
       "</div>"
      ],
      "text/plain": [
       "     Country                               Region  Population  Area sq. mi.  \\\n",
       "163  Poland   EASTERN EUROPE                        38.536869        312685   \n",
       "\n",
       "     Net migration  Infant mortality per 1000 births  GDP per capita  \\\n",
       "163          -0.49                              8.51         11100.0   \n",
       "\n",
       "     Literacy  Phones per 1000  GDP [mld dolars]  \n",
       "163      99.8            306.3        427.759246  "
      ]
     },
     "execution_count": 56,
     "metadata": {},
     "output_type": "execute_result"
    }
   ],
   "source": [
    "df[df['Country'] == 'Poland ']"
   ]
  },
  {
   "cell_type": "code",
   "execution_count": 39,
   "metadata": {},
   "outputs": [
    {
     "data": {
      "text/html": [
       "<div>\n",
       "<style scoped>\n",
       "    .dataframe tbody tr th:only-of-type {\n",
       "        vertical-align: middle;\n",
       "    }\n",
       "\n",
       "    .dataframe tbody tr th {\n",
       "        vertical-align: top;\n",
       "    }\n",
       "\n",
       "    .dataframe thead th {\n",
       "        text-align: right;\n",
       "    }\n",
       "</style>\n",
       "<table border=\"1\" class=\"dataframe\">\n",
       "  <thead>\n",
       "    <tr style=\"text-align: right;\">\n",
       "      <th></th>\n",
       "      <th>Infant mortality per 1000 births</th>\n",
       "      <th>Population</th>\n",
       "      <th>Area sq. mi.</th>\n",
       "      <th>Net migration</th>\n",
       "      <th>GDP per capita</th>\n",
       "      <th>Literacy</th>\n",
       "      <th>Phones per 1000</th>\n",
       "      <th>GDP [mld dolars]</th>\n",
       "    </tr>\n",
       "  </thead>\n",
       "  <tbody>\n",
       "    <tr>\n",
       "      <th>count</th>\n",
       "      <td>10.000000</td>\n",
       "      <td>10.000000</td>\n",
       "      <td>1.000000e+01</td>\n",
       "      <td>10.000000</td>\n",
       "      <td>10.000000</td>\n",
       "      <td>10.000000</td>\n",
       "      <td>10.000000</td>\n",
       "      <td>10.000000</td>\n",
       "    </tr>\n",
       "    <tr>\n",
       "      <th>mean</th>\n",
       "      <td>133.067000</td>\n",
       "      <td>11.378593</td>\n",
       "      <td>6.202777e+05</td>\n",
       "      <td>2.300000</td>\n",
       "      <td>930.000000</td>\n",
       "      <td>45.830000</td>\n",
       "      <td>8.130000</td>\n",
       "      <td>10.792110</td>\n",
       "    </tr>\n",
       "    <tr>\n",
       "      <th>std</th>\n",
       "      <td>26.338741</td>\n",
       "      <td>8.680431</td>\n",
       "      <td>5.117993e+05</td>\n",
       "      <td>7.593146</td>\n",
       "      <td>405.654478</td>\n",
       "      <td>21.609774</td>\n",
       "      <td>9.386284</td>\n",
       "      <td>8.827704</td>\n",
       "    </tr>\n",
       "    <tr>\n",
       "      <th>min</th>\n",
       "      <td>107.170000</td>\n",
       "      <td>1.442029</td>\n",
       "      <td>3.612000e+04</td>\n",
       "      <td>-2.860000</td>\n",
       "      <td>500.000000</td>\n",
       "      <td>17.600000</td>\n",
       "      <td>1.900000</td>\n",
       "      <td>1.153623</td>\n",
       "    </tr>\n",
       "    <tr>\n",
       "      <th>25%</th>\n",
       "      <td>116.722500</td>\n",
       "      <td>6.334141</td>\n",
       "      <td>1.193025e+05</td>\n",
       "      <td>-0.585000</td>\n",
       "      <td>725.000000</td>\n",
       "      <td>36.450000</td>\n",
       "      <td>3.275000</td>\n",
       "      <td>3.389420</td>\n",
       "    </tr>\n",
       "    <tr>\n",
       "      <th>50%</th>\n",
       "      <td>125.280000</td>\n",
       "      <td>10.290084</td>\n",
       "      <td>6.425785e+05</td>\n",
       "      <td>0.000000</td>\n",
       "      <td>850.000000</td>\n",
       "      <td>42.200000</td>\n",
       "      <td>5.200000</td>\n",
       "      <td>8.670445</td>\n",
       "    </tr>\n",
       "    <tr>\n",
       "      <th>75%</th>\n",
       "      <td>140.427500</td>\n",
       "      <td>12.425588</td>\n",
       "      <td>1.130398e+06</td>\n",
       "      <td>0.000000</td>\n",
       "      <td>1000.000000</td>\n",
       "      <td>47.450000</td>\n",
       "      <td>7.700000</td>\n",
       "      <td>18.941210</td>\n",
       "    </tr>\n",
       "    <tr>\n",
       "      <th>max</th>\n",
       "      <td>191.190000</td>\n",
       "      <td>31.056997</td>\n",
       "      <td>1.267000e+06</td>\n",
       "      <td>23.060000</td>\n",
       "      <td>1900.000000</td>\n",
       "      <td>99.400000</td>\n",
       "      <td>33.500000</td>\n",
       "      <td>23.623806</td>\n",
       "    </tr>\n",
       "  </tbody>\n",
       "</table>\n",
       "</div>"
      ],
      "text/plain": [
       "       Infant mortality per 1000 births  Population  Area sq. mi.  \\\n",
       "count                         10.000000   10.000000  1.000000e+01   \n",
       "mean                         133.067000   11.378593  6.202777e+05   \n",
       "std                           26.338741    8.680431  5.117993e+05   \n",
       "min                          107.170000    1.442029  3.612000e+04   \n",
       "25%                          116.722500    6.334141  1.193025e+05   \n",
       "50%                          125.280000   10.290084  6.425785e+05   \n",
       "75%                          140.427500   12.425588  1.130398e+06   \n",
       "max                          191.190000   31.056997  1.267000e+06   \n",
       "\n",
       "       Net migration  GDP per capita   Literacy  Phones per 1000  \\\n",
       "count      10.000000       10.000000  10.000000        10.000000   \n",
       "mean        2.300000      930.000000  45.830000         8.130000   \n",
       "std         7.593146      405.654478  21.609774         9.386284   \n",
       "min        -2.860000      500.000000  17.600000         1.900000   \n",
       "25%        -0.585000      725.000000  36.450000         3.275000   \n",
       "50%         0.000000      850.000000  42.200000         5.200000   \n",
       "75%         0.000000     1000.000000  47.450000         7.700000   \n",
       "max        23.060000     1900.000000  99.400000        33.500000   \n",
       "\n",
       "       GDP [mld dolars]  \n",
       "count         10.000000  \n",
       "mean          10.792110  \n",
       "std            8.827704  \n",
       "min            1.153623  \n",
       "25%            3.389420  \n",
       "50%            8.670445  \n",
       "75%           18.941210  \n",
       "max           23.623806  "
      ]
     },
     "execution_count": 39,
     "metadata": {},
     "output_type": "execute_result"
    }
   ],
   "source": [
    "df_infant.head(10).describe()"
   ]
  },
  {
   "cell_type": "code",
   "execution_count": 40,
   "metadata": {},
   "outputs": [
    {
     "data": {
      "text/plain": [
       "<matplotlib.legend.Legend at 0xa6f0c70>"
      ]
     },
     "execution_count": 40,
     "metadata": {},
     "output_type": "execute_result"
    },
    {
     "data": {
      "image/png": "[encoded data removed]",
      "text/plain": [
       "<Figure size 1800x360 with 1 Axes>"
      ]
     },
     "metadata": {
      "needs_background": "light"
     },
     "output_type": "display_data"
    }
   ],
   "source": [
    "width = 0.4\n",
    "index = np.arange(20)\n",
    "plt.figure(figsize=(25, 5))\n",
    "plt.title('zestawienie PKB i śmiertelności noworodków')\n",
    "x_infant = df_infant.head(20)['Country']\n",
    "y_infant = df_infant.head(20)['Infant mortality per 1000 births']*10\n",
    "y_gdp = df_infant.head(20)['GDP per capita']\n",
    "plt.bar(index - width/2 ,y_infant, width, label = 'Śmiertelność noworodków na 10 000 urodzeń ')\n",
    "plt.bar(index + width/2 ,y_gdp, width, label = 'PKB na mieszkańca')\n",
    "plt.xticks(index, x_infant)\n",
    "plt.legend()\n",
    "#plt.xlabel(\"Populacja [mln]\")\n",
    "#plt.ylabel('ilość krajów')"
   ]
  },
  {
   "cell_type": "markdown",
   "metadata": {},
   "source": [
    "### Pozornie wyższe PKB nie sprawia, że śmiertelność noworodków staje się niższa. Do zestawienia wybrano 20 krajów, w których wskaźnik śmiertelności noworodków jest najwyższy - jest to za mała próbka. Wyniki dla 50 krajów z najwyższym wskaźnikiem:"
   ]
  },
  {
   "cell_type": "code",
   "execution_count": 58,
   "metadata": {},
   "outputs": [
    {
     "data": {
      "text/plain": [
       "<matplotlib.legend.Legend at 0xaa52040>"
      ]
     },
     "execution_count": 58,
     "metadata": {},
     "output_type": "execute_result"
    },
    {
     "data": {
      "image/png": "[encoded data removed]",
      "text/plain": [
       "<Figure size 1800x360 with 1 Axes>"
      ]
     },
     "metadata": {
      "needs_background": "light"
     },
     "output_type": "display_data"
    }
   ],
   "source": [
    "width = 0.4\n",
    "index = np.arange(50)\n",
    "plt.figure(figsize=(25, 5))\n",
    "plt.title('zestawienie PKB i śmiertelności noworodków')\n",
    "x_infant = df_infant.head(50)['Country']\n",
    "y_infant = df_infant.head(50)['Infant mortality per 1000 births']*10\n",
    "y_gdp = df_infant.head(50)['GDP per capita']\n",
    "plt.bar(index - width/2 ,y_infant, width, label = 'Śmiertelność noworodków na 10 000 urodzeń ')\n",
    "plt.bar(index + width/2 ,y_gdp, width, label = 'PKB na mieszkańca')\n",
    "plt.xticks(index, x_infant)\n",
    "plt.legend()\n",
    "#plt.xlabel(\"Populacja [mln]\")\n",
    "#plt.ylabel('ilość krajów')"
   ]
  },
  {
   "cell_type": "code",
   "execution_count": null,
   "metadata": {},
   "outputs": [],
   "source": [
    "# wyswietlic napisy na x w pionie\n",
    "# powinna byc inna skala dla pkb i smiertelnosci"
   ]
  },
  {
   "cell_type": "code",
   "execution_count": 3,
   "metadata": {},
   "outputs": [
    {
     "data": {
      "image/png": "[encoded data removed]",
      "text/plain": [
       "<Figure size 432x288 with 1 Axes>"
      ]
     },
     "metadata": {
      "needs_background": "light"
     },
     "output_type": "display_data"
    }
   ],
   "source": [
    "np.random.seed(10)\n",
    "collectn_1 = np.random.normal(100, 10, 200)\n",
    "collectn_2 = np.random.normal(80, 30, 200)\n",
    "collectn_3 = np.random.normal(90, 20, 200)\n",
    "collectn_4 = np.random.normal(70, 25, 200)\n",
    "\n",
    "## combine these different collections into a list\n",
    "data_to_plot = [collectn_1, collectn_2, collectn_3, collectn_4]\n",
    "\n",
    "# Create a figure instance\n",
    "fig = plt.figure()\n",
    "\n",
    "# Create an axes instance\n",
    "ax = fig.add_axes([0,0,1,1])\n",
    "\n",
    "# Create the boxplot\n",
    "bp = ax.violinplot(data_to_plot)\n",
    "plt.show()"
   ]
  },
  {
   "cell_type": "code",
   "execution_count": 4,
   "metadata": {},
   "outputs": [
    {
     "data": {
      "image/png": "[encoded data removed]",
      "text/plain": [
       "<Figure size 432x288 with 1 Axes>"
      ]
     },
     "metadata": {
      "needs_background": "light"
     },
     "output_type": "display_data"
    }
   ],
   "source": [
    "fig = plt.figure()\n",
    "# Create an axes instance\n",
    "ax = fig.add_axes([0,0,1,1])\n",
    "# Create the boxplot\n",
    "bp = ax.boxplot(data_to_plot)\n",
    "plt.show()"
   ]
  },
  {
   "cell_type": "code",
   "execution_count": null,
   "metadata": {},
   "outputs": [],
   "source": []
  }
 ],
 "metadata": {
  "kernelspec": {
   "display_name": "Python 3 (ipykernel)",
   "language": "python",
   "name": "python3"
  },
  "language_info": {
   "codemirror_mode": {
    "name": "ipython",
    "version": 3
   },
   "file_extension": ".py",
   "mimetype": "text/x-python",
   "name": "python",
   "nbconvert_exporter": "python",
   "pygments_lexer": "ipython3",
   "version": "3.7.4"
  }
 },
 "nbformat": 4,
 "nbformat_minor": 4
}
