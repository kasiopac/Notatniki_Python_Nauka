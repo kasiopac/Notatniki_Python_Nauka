{
 "cells": [
  {
   "cell_type": "markdown",
   "metadata": {},
   "source": [
    "### Rozszerzanie typów za pomocą osadzania funkcji typów danych jako metod klasy:"
   ]
  },
  {
   "cell_type": "code",
   "execution_count": 1,
   "metadata": {},
   "outputs": [],
   "source": [
    "class Set:\n",
    "    def __init__(self, value =[]):\n",
    "        self.data = []\n",
    "        self.concat(value)\n",
    "        \n",
    "    def intersect(self, other):\n",
    "        res = []\n",
    "        for x in self.data:\n",
    "            if x in other:                  # wybor wspolnych elementow\n",
    "                res.append(x)\n",
    "        return Set(res)\n",
    "            \n",
    "    def union(self, other):\n",
    "        res = self.data[:]\n",
    "        for x in other:\n",
    "            if not x in res:              # dodanie nowych elementów z other do res\n",
    "                res.append(x)\n",
    "        return Set(res)\n",
    "            \n",
    "    def concat(self, value):\n",
    "        for x in value:\n",
    "            if not x in self.data:       # usuwanie duplikatów z listy\n",
    "                self.data.append(x)\n",
    "            \n",
    "    def __len__(self):\n",
    "        return len(self.data)\n",
    "    def __getitem__(self, key):\n",
    "        return self.data[key]\n",
    "    def __and__(self, other):\n",
    "        return self.intersect(other)\n",
    "    def __or__(self, other):\n",
    "        return self.union(other)\n",
    "    def __repr__(self):\n",
    "        return 'Zbiór: ' + repr(self.data)"
   ]
  },
  {
   "cell_type": "code",
   "execution_count": 2,
   "metadata": {},
   "outputs": [],
   "source": [
    "x = Set([1, 3, 5, 7])"
   ]
  },
  {
   "cell_type": "code",
   "execution_count": 3,
   "metadata": {},
   "outputs": [
    {
     "name": "stdout",
     "output_type": "stream",
     "text": [
      "Zbiór: [1, 3, 5, 7, 4]\n"
     ]
    }
   ],
   "source": [
    "print(x.union(Set([1,4,7])))"
   ]
  },
  {
   "cell_type": "code",
   "execution_count": 4,
   "metadata": {},
   "outputs": [
    {
     "name": "stdout",
     "output_type": "stream",
     "text": [
      "Zbiór: [1, 3, 5, 7, 4, 6]\n"
     ]
    }
   ],
   "source": [
    "print(x | Set([1,4,6]))"
   ]
  },
  {
   "cell_type": "markdown",
   "metadata": {},
   "source": [
    "### Rozszerzanie typów za pomocą klas podrzędnych: można zmienić zachowanie jakichs obiektów, np krotek, list, słowników itp budując klasę, która będzie podklasą tego obiektu, np:\n",
    "        class MyList(list)\n",
    "        class MyTulpe(tuple)\n",
    "        class MyString(string)\n",
    "\n",
    "### w nawiasie wpisujemy nazwę typu danych, tak jak przy tworzeniu zwykłej klasy podrzędnej."
   ]
  },
  {
   "cell_type": "code",
   "execution_count": 5,
   "metadata": {},
   "outputs": [
    {
     "name": "stdout",
     "output_type": "stream",
     "text": [
      "['a', 'b', 'c']\n",
      "['a', 'b', 'c']\n",
      "indeksowanie ['a', 'b', 'c'] w pozycji 1:\n",
      "a\n",
      "indeksowanie ['a', 'b', 'c'] w pozycji 3:\n",
      "c\n",
      "['a', 'b', 'c', 'fff']\n",
      "['fff', 'c', 'b', 'a']\n"
     ]
    }
   ],
   "source": [
    "class MyList(list):   # klasa podrzędna klasy obiektu 'lista'\n",
    "    def __getitem__(self, offset):\n",
    "        print(f'indeksowanie {self} w pozycji {offset}:')    \n",
    "        return list.__getitem__(self, offset - 1)    # indeksowanie bedzie zaczynało się od pozycji 1 a nie 0\n",
    "\n",
    "if __name__=='__main__':\n",
    "    print(list('abc'))\n",
    "    x = MyList('abc')\n",
    "    print(x)\n",
    "    \n",
    "    print(x[1])\n",
    "    print(x[3])\n",
    "    \n",
    "    x.append('fff')\n",
    "    print(x)\n",
    "    x.reverse()\n",
    "    print(x)"
   ]
  },
  {
   "cell_type": "code",
   "execution_count": 6,
   "metadata": {},
   "outputs": [],
   "source": [
    "# ten sam przyklad co na poczatku, ale wykorzystujące nadklasę \"list\", dzieki temu nie trzeba definiowac funkcji ktore są typowe dla list\n",
    "class SetList(list):\n",
    "    def __init__(self, value =[]):   \n",
    "#        list.__init__([])          # !!! nie wiem po co on dał tą linijkę, po usunięciu jej klasa działa tak samo !!!\n",
    "        self.concat(value)           # odpalam metodę concat, która kopiuje zmienne wartosci domyslne\n",
    "    \n",
    "    def intersect(self, other):\n",
    "        res = []\n",
    "        for x in self:\n",
    "            if x in other:          # wybor wspolnych elementow\n",
    "                res.append(x)\n",
    "        return SetList(res)\n",
    "            \n",
    "    def union(self, other):\n",
    "        res = SetList(self)\n",
    "        res.concat(other)\n",
    "        return res    \n",
    "        \n",
    "    def concat(self, value):\n",
    "        for x in value:\n",
    "            if not x in self:       # usuwanie duplikatów\n",
    "                self.append(x)\n",
    "            \n",
    "    def __and__(self, other):\n",
    "        return self.intersect(other)\n",
    "    \n",
    "    def __or__(self, other):\n",
    "        return self.union(other)\n",
    "    \n",
    "    def __repr__(self):\n",
    "        return 'Zbiór: ' + list.__repr__(self)"
   ]
  },
  {
   "cell_type": "code",
   "execution_count": 7,
   "metadata": {},
   "outputs": [],
   "source": [
    "X = SetList([1,3,5,7])"
   ]
  },
  {
   "cell_type": "code",
   "execution_count": 8,
   "metadata": {},
   "outputs": [],
   "source": [
    "Y = SetList([2,1,4,5,6,4])"
   ]
  },
  {
   "cell_type": "code",
   "execution_count": 9,
   "metadata": {},
   "outputs": [
    {
     "name": "stdout",
     "output_type": "stream",
     "text": [
      "Zbiór: [1, 3, 5, 7] Zbiór: [2, 1, 4, 5, 6] len:  4\n"
     ]
    }
   ],
   "source": [
    "print(X, Y,'len: ', len(X))   # funkcja len dziala bez definiowania, bo python wie, ze klasa SetList to lista"
   ]
  },
  {
   "cell_type": "code",
   "execution_count": 10,
   "metadata": {},
   "outputs": [
    {
     "name": "stdout",
     "output_type": "stream",
     "text": [
      "Zbiór: [1, 5] Zbiór: [2, 1, 4, 5, 6, 3, 7]\n"
     ]
    }
   ],
   "source": [
    "print(X.intersect(Y), Y.union(X))"
   ]
  },
  {
   "cell_type": "code",
   "execution_count": 11,
   "metadata": {},
   "outputs": [
    {
     "name": "stdout",
     "output_type": "stream",
     "text": [
      "Zbiór: [1, 5] Zbiór: [2, 1, 4, 5, 6, 3, 7]\n"
     ]
    }
   ],
   "source": [
    "print(X & Y, Y | X)"
   ]
  },
  {
   "cell_type": "code",
   "execution_count": 12,
   "metadata": {},
   "outputs": [],
   "source": [
    "X.reverse()"
   ]
  },
  {
   "cell_type": "code",
   "execution_count": 13,
   "metadata": {},
   "outputs": [
    {
     "name": "stdout",
     "output_type": "stream",
     "text": [
      "Zbiór: [7, 5, 3, 1]\n"
     ]
    }
   ],
   "source": [
    "print(X)"
   ]
  },
  {
   "cell_type": "code",
   "execution_count": 14,
   "metadata": {},
   "outputs": [],
   "source": [
    "class C: pass\n",
    "class D: pass"
   ]
  },
  {
   "cell_type": "code",
   "execution_count": 15,
   "metadata": {},
   "outputs": [],
   "source": [
    "c = C()"
   ]
  },
  {
   "cell_type": "code",
   "execution_count": 16,
   "metadata": {},
   "outputs": [],
   "source": [
    "d = D()"
   ]
  },
  {
   "cell_type": "code",
   "execution_count": 17,
   "metadata": {},
   "outputs": [
    {
     "data": {
      "text/plain": [
       "__main__.C"
      ]
     },
     "execution_count": 17,
     "metadata": {},
     "output_type": "execute_result"
    }
   ],
   "source": [
    "type(c)"
   ]
  },
  {
   "cell_type": "code",
   "execution_count": 18,
   "metadata": {},
   "outputs": [
    {
     "data": {
      "text/plain": [
       "__main__.D"
      ]
     },
     "execution_count": 18,
     "metadata": {},
     "output_type": "execute_result"
    }
   ],
   "source": [
    "type(d)"
   ]
  },
  {
   "cell_type": "code",
   "execution_count": 19,
   "metadata": {},
   "outputs": [
    {
     "data": {
      "text/plain": [
       "False"
      ]
     },
     "execution_count": 19,
     "metadata": {},
     "output_type": "execute_result"
    }
   ],
   "source": [
    "type(c) == type(d)"
   ]
  },
  {
   "cell_type": "code",
   "execution_count": 20,
   "metadata": {},
   "outputs": [
    {
     "data": {
      "text/plain": [
       "(__main__.C, __main__.D)"
      ]
     },
     "execution_count": 20,
     "metadata": {},
     "output_type": "execute_result"
    }
   ],
   "source": [
    "c.__class__, d.__class__"
   ]
  },
  {
   "cell_type": "code",
   "execution_count": 21,
   "metadata": {},
   "outputs": [],
   "source": [
    "c1, c2 = C(), C()"
   ]
  },
  {
   "cell_type": "code",
   "execution_count": 22,
   "metadata": {},
   "outputs": [
    {
     "data": {
      "text/plain": [
       "True"
      ]
     },
     "execution_count": 22,
     "metadata": {},
     "output_type": "execute_result"
    }
   ],
   "source": [
    "type(c1)==type(c2)"
   ]
  },
  {
   "cell_type": "markdown",
   "metadata": {},
   "source": [
    "### KOLEJNOŚĆ PRZESZUKIWANIA DRZEWA KLAS (od dołu do góry i od lewej do prawej: najpierw poszukuje wszerz w klasach nadrzędnych pierwszego poziomu, od lewej do prawej, a następnie przechodzi piętro wyżej.) i dziedziczenie diamentowe (gdy kilka klas nadrzednych ma jednego przodka):"
   ]
  },
  {
   "cell_type": "code",
   "execution_count": 23,
   "metadata": {},
   "outputs": [],
   "source": [
    "class A:\n",
    "    attr = 'a'"
   ]
  },
  {
   "cell_type": "code",
   "execution_count": 24,
   "metadata": {},
   "outputs": [],
   "source": [
    "class B(A): pass"
   ]
  },
  {
   "cell_type": "code",
   "execution_count": 25,
   "metadata": {},
   "outputs": [],
   "source": [
    "class C(A): \n",
    "    attr = 'c(a)'"
   ]
  },
  {
   "cell_type": "code",
   "execution_count": 26,
   "metadata": {},
   "outputs": [],
   "source": [
    "class E(B,C): pass"
   ]
  },
  {
   "cell_type": "code",
   "execution_count": 27,
   "metadata": {},
   "outputs": [],
   "source": [
    "e = E()"
   ]
  },
  {
   "cell_type": "code",
   "execution_count": 28,
   "metadata": {},
   "outputs": [
    {
     "data": {
      "text/plain": [
       "'c(a)'"
      ]
     },
     "execution_count": 28,
     "metadata": {},
     "output_type": "execute_result"
    }
   ],
   "source": [
    "e.attr  # tutaj wyszukiwanie - najpierw E, potem B, potem C (C.attr przyszlonił A.attr)"
   ]
  },
  {
   "cell_type": "code",
   "execution_count": 29,
   "metadata": {},
   "outputs": [
    {
     "data": {
      "text/plain": [
       "{}"
      ]
     },
     "execution_count": 29,
     "metadata": {},
     "output_type": "execute_result"
    }
   ],
   "source": [
    "e.__dict__"
   ]
  },
  {
   "cell_type": "code",
   "execution_count": 30,
   "metadata": {},
   "outputs": [],
   "source": [
    "class D(B,C):\n",
    "    attr = B.attr  # zmuszenie pythona do przeszukania attr w klasie B, wiec znajduje ją wyzej, w klasie A"
   ]
  },
  {
   "cell_type": "code",
   "execution_count": 31,
   "metadata": {},
   "outputs": [],
   "source": [
    "x = D()"
   ]
  },
  {
   "cell_type": "code",
   "execution_count": 32,
   "metadata": {},
   "outputs": [
    {
     "data": {
      "text/plain": [
       "'a'"
      ]
     },
     "execution_count": 32,
     "metadata": {},
     "output_type": "execute_result"
    }
   ],
   "source": [
    "x.attr"
   ]
  },
  {
   "cell_type": "code",
   "execution_count": 33,
   "metadata": {},
   "outputs": [],
   "source": [
    "# to samo dotyczy dziedziczenia metod\n",
    "class A:\n",
    "    def m(self): print('A')"
   ]
  },
  {
   "cell_type": "code",
   "execution_count": 34,
   "metadata": {},
   "outputs": [],
   "source": [
    "class C(A):\n",
    "    def m(self): print('C(A)')"
   ]
  },
  {
   "cell_type": "code",
   "execution_count": 35,
   "metadata": {},
   "outputs": [],
   "source": [
    "class B(A): pass"
   ]
  },
  {
   "cell_type": "code",
   "execution_count": 36,
   "metadata": {},
   "outputs": [],
   "source": [
    "class D(B,C): pass"
   ]
  },
  {
   "cell_type": "code",
   "execution_count": 37,
   "metadata": {},
   "outputs": [],
   "source": [
    "d = D()"
   ]
  },
  {
   "cell_type": "code",
   "execution_count": 38,
   "metadata": {},
   "outputs": [
    {
     "name": "stdout",
     "output_type": "stream",
     "text": [
      "C(A)\n"
     ]
    }
   ],
   "source": [
    "d.m()"
   ]
  },
  {
   "cell_type": "code",
   "execution_count": 39,
   "metadata": {},
   "outputs": [],
   "source": [
    "class D(B,C): m = B.m"
   ]
  },
  {
   "cell_type": "code",
   "execution_count": 40,
   "metadata": {},
   "outputs": [],
   "source": [
    "ddd = D()"
   ]
  },
  {
   "cell_type": "code",
   "execution_count": 41,
   "metadata": {},
   "outputs": [
    {
     "name": "stdout",
     "output_type": "stream",
     "text": [
      "A\n"
     ]
    }
   ],
   "source": [
    "ddd.m()"
   ]
  },
  {
   "cell_type": "code",
   "execution_count": 42,
   "metadata": {},
   "outputs": [],
   "source": [
    "ddd.k = 9"
   ]
  },
  {
   "cell_type": "code",
   "execution_count": 43,
   "metadata": {},
   "outputs": [
    {
     "data": {
      "text/plain": [
       "{'k': 9}"
      ]
     },
     "execution_count": 43,
     "metadata": {},
     "output_type": "execute_result"
    }
   ],
   "source": [
    "ddd.__dict__  # __dict__ wywoluje atrybuty instancji (czyli self.atrybuty)"
   ]
  },
  {
   "cell_type": "markdown",
   "metadata": {},
   "source": [
    "### Sloty w klasach: atrybut  __ slots __   ogranicza ilość dostępnych nazw, które można wykorzystać w  instancjach, do tych wymienionych w liscie *__ slots __ = [...]*"
   ]
  },
  {
   "cell_type": "markdown",
   "metadata": {},
   "source": [
    "### Instancja ma bezposredni dostęp do slotów klasy *na najnizszym poziomie dziedziczenia.*"
   ]
  },
  {
   "cell_type": "code",
   "execution_count": 44,
   "metadata": {},
   "outputs": [],
   "source": [
    "class limiter:\n",
    "    __slots__ = ['age', 'name', 'job']  # instancje będą mogły mieć tylko te trzy atrybuty\n",
    "    atrybut = 5    # atrybuty klas dzialaja bez zmian "
   ]
  },
  {
   "cell_type": "code",
   "execution_count": 45,
   "metadata": {},
   "outputs": [],
   "source": [
    "x = limiter()"
   ]
  },
  {
   "cell_type": "code",
   "execution_count": 46,
   "metadata": {},
   "outputs": [],
   "source": [
    "x.age = 40"
   ]
  },
  {
   "cell_type": "code",
   "execution_count": 47,
   "metadata": {},
   "outputs": [],
   "source": [
    "# x.ape = 4   # nie mozna utworzyc atrybutu niewymienionego w __slots__; eliminacja problemu z literowkami"
   ]
  },
  {
   "cell_type": "code",
   "execution_count": 48,
   "metadata": {},
   "outputs": [],
   "source": [
    "#x.__dict__  # klasy w ktorych zdefiniowano __slots__ tracą atrybut __dict__"
   ]
  },
  {
   "cell_type": "code",
   "execution_count": 49,
   "metadata": {},
   "outputs": [
    {
     "data": {
      "text/plain": [
       "40"
      ]
     },
     "execution_count": 49,
     "metadata": {},
     "output_type": "execute_result"
    }
   ],
   "source": [
    "getattr(x, 'age')  # skoro x.__dict__ nie dziala, trzeba dobierac sie do atrybutow w inny sposob"
   ]
  },
  {
   "cell_type": "code",
   "execution_count": 50,
   "metadata": {},
   "outputs": [
    {
     "data": {
      "text/plain": [
       "True"
      ]
     },
     "execution_count": 50,
     "metadata": {},
     "output_type": "execute_result"
    }
   ],
   "source": [
    "'age' in dir(x)"
   ]
  },
  {
   "cell_type": "code",
   "execution_count": 51,
   "metadata": {},
   "outputs": [
    {
     "data": {
      "text/plain": [
       "['__class__',\n",
       " '__delattr__',\n",
       " '__dir__',\n",
       " '__doc__',\n",
       " '__eq__',\n",
       " '__format__',\n",
       " '__ge__',\n",
       " '__getattribute__',\n",
       " '__gt__',\n",
       " '__hash__',\n",
       " '__init__',\n",
       " '__init_subclass__',\n",
       " '__le__',\n",
       " '__lt__',\n",
       " '__module__',\n",
       " '__ne__',\n",
       " '__new__',\n",
       " '__reduce__',\n",
       " '__reduce_ex__',\n",
       " '__repr__',\n",
       " '__setattr__',\n",
       " '__sizeof__',\n",
       " '__slots__',\n",
       " '__str__',\n",
       " '__subclasshook__',\n",
       " 'age',\n",
       " 'atrybut',\n",
       " 'job',\n",
       " 'name']"
      ]
     },
     "execution_count": 51,
     "metadata": {},
     "output_type": "execute_result"
    }
   ],
   "source": [
    "dir(x)"
   ]
  },
  {
   "cell_type": "code",
   "execution_count": 52,
   "metadata": {},
   "outputs": [],
   "source": [
    "# problem rozwiazuje dopisanie __dict__ do listy __slots__\n",
    "class limiter2:\n",
    "    __slots__ = ['age', 'name', 'job', '__dict__'] \n",
    "    atrybut = 5   \n",
    "    def __init__(self): self.d = 4      # d zostaje zapisane w __dict__, wiec bedzie widoczne w instancjach po wywolaniu __dict__, mimo ze te atrybuty sa dziedziczone po klasie"
   ]
  },
  {
   "cell_type": "code",
   "execution_count": 53,
   "metadata": {},
   "outputs": [],
   "source": [
    "y=limiter2()"
   ]
  },
  {
   "cell_type": "code",
   "execution_count": 54,
   "metadata": {},
   "outputs": [],
   "source": [
    "y.name = 'andżej'"
   ]
  },
  {
   "cell_type": "code",
   "execution_count": 55,
   "metadata": {},
   "outputs": [
    {
     "data": {
      "text/plain": [
       "['age', 'name', 'job', '__dict__']"
      ]
     },
     "execution_count": 55,
     "metadata": {},
     "output_type": "execute_result"
    }
   ],
   "source": [
    "y.__slots__"
   ]
  },
  {
   "cell_type": "code",
   "execution_count": 56,
   "metadata": {},
   "outputs": [
    {
     "data": {
      "text/plain": [
       "{'d': 4}"
      ]
     },
     "execution_count": 56,
     "metadata": {},
     "output_type": "execute_result"
    }
   ],
   "source": [
    "y.__dict__  "
   ]
  },
  {
   "cell_type": "code",
   "execution_count": 57,
   "metadata": {},
   "outputs": [],
   "source": [
    "y.mm = 8   # mozna znowu dopisywac atrybuty, lądują w __dict__, mimo ze jest __slots__"
   ]
  },
  {
   "cell_type": "code",
   "execution_count": 58,
   "metadata": {},
   "outputs": [
    {
     "data": {
      "text/plain": [
       "8"
      ]
     },
     "execution_count": 58,
     "metadata": {},
     "output_type": "execute_result"
    }
   ],
   "source": [
    "y.mm"
   ]
  },
  {
   "cell_type": "code",
   "execution_count": 59,
   "metadata": {},
   "outputs": [
    {
     "data": {
      "text/plain": [
       "8"
      ]
     },
     "execution_count": 59,
     "metadata": {},
     "output_type": "execute_result"
    }
   ],
   "source": [
    "getattr(y, 'mm')"
   ]
  },
  {
   "cell_type": "code",
   "execution_count": 60,
   "metadata": {},
   "outputs": [
    {
     "data": {
      "text/plain": [
       "{'d': 4, 'mm': 8}"
      ]
     },
     "execution_count": 60,
     "metadata": {},
     "output_type": "execute_result"
    }
   ],
   "source": [
    "y.__dict__  "
   ]
  },
  {
   "cell_type": "markdown",
   "metadata": {},
   "source": [
    "### Wiele slotów w klasach nadrzędnych:\n",
    "### • Jeśli klasa dziedziczy po klasie nieposiadającej atrybutu __ slots __, atrybut __ slots __ klasy nadrzędnej będzie zawsze dostępny, przez co atrybut __ slots __ w klasie podrzędnej nie będzie miał zastosowania.\n",
    "### • Jeśli klasa definiuje te same nazwy slotów co klasa nadrzędna, to sloty klasy nadrzędnej będą dostępne poprzez deskryptor klasy.\n",
    "### • Deklaracja __ slots __ dotyczy wyłącznie klasy, w której występuje, klasy podrzędne będą posiadały __ dict __, chyba że również definiują __ slots __."
   ]
  },
  {
   "cell_type": "code",
   "execution_count": 61,
   "metadata": {},
   "outputs": [],
   "source": [
    "class E:\n",
    "    __slots__ = ['c', 'd']"
   ]
  },
  {
   "cell_type": "code",
   "execution_count": 62,
   "metadata": {},
   "outputs": [],
   "source": [
    "class D(E):\n",
    "    __slots__ = ['a', '__dict__']"
   ]
  },
  {
   "cell_type": "code",
   "execution_count": 63,
   "metadata": {},
   "outputs": [],
   "source": [
    "X = D()"
   ]
  },
  {
   "cell_type": "code",
   "execution_count": 64,
   "metadata": {},
   "outputs": [],
   "source": [
    "X.a = 1; X.b = 2; X.c = 3"
   ]
  },
  {
   "cell_type": "code",
   "execution_count": 65,
   "metadata": {},
   "outputs": [
    {
     "data": {
      "text/plain": [
       "1"
      ]
     },
     "execution_count": 65,
     "metadata": {},
     "output_type": "execute_result"
    }
   ],
   "source": [
    "X.a"
   ]
  },
  {
   "cell_type": "code",
   "execution_count": 66,
   "metadata": {},
   "outputs": [
    {
     "data": {
      "text/plain": [
       "2"
      ]
     },
     "execution_count": 66,
     "metadata": {},
     "output_type": "execute_result"
    }
   ],
   "source": [
    "X.b"
   ]
  },
  {
   "cell_type": "code",
   "execution_count": 67,
   "metadata": {},
   "outputs": [
    {
     "data": {
      "text/plain": [
       "3"
      ]
     },
     "execution_count": 67,
     "metadata": {},
     "output_type": "execute_result"
    }
   ],
   "source": [
    "X.c"
   ]
  },
  {
   "cell_type": "code",
   "execution_count": 68,
   "metadata": {},
   "outputs": [
    {
     "data": {
      "text/plain": [
       "{'b': 2}"
      ]
     },
     "execution_count": 68,
     "metadata": {},
     "output_type": "execute_result"
    }
   ],
   "source": [
    "X.__dict__"
   ]
  },
  {
   "cell_type": "code",
   "execution_count": 69,
   "metadata": {},
   "outputs": [
    {
     "data": {
      "text/plain": [
       "['a', '__dict__']"
      ]
     },
     "execution_count": 69,
     "metadata": {},
     "output_type": "execute_result"
    }
   ],
   "source": [
    "X.__slots__   # X dziedziczy sloty tylko po D"
   ]
  },
  {
   "cell_type": "code",
   "execution_count": 70,
   "metadata": {},
   "outputs": [
    {
     "data": {
      "text/plain": [
       "['a', '__dict__']"
      ]
     },
     "execution_count": 70,
     "metadata": {},
     "output_type": "execute_result"
    }
   ],
   "source": [
    "D.__slots__"
   ]
  },
  {
   "cell_type": "code",
   "execution_count": 71,
   "metadata": {},
   "outputs": [
    {
     "data": {
      "text/plain": [
       "['c', 'd']"
      ]
     },
     "execution_count": 71,
     "metadata": {},
     "output_type": "execute_result"
    }
   ],
   "source": [
    "E.__slots__   # X nie dziedziczy tych slotów"
   ]
  },
  {
   "cell_type": "code",
   "execution_count": 72,
   "metadata": {},
   "outputs": [
    {
     "name": "stdout",
     "output_type": "stream",
     "text": [
      "b => 2\n",
      "a => 1\n",
      "__dict__ => {'b': 2}\n"
     ]
    }
   ],
   "source": [
    "for attr in list(getattr(X, '__dict__', [])) + getattr(X, '__slots__', []):\n",
    "    print(attr, '=>', getattr(X, attr))           # atrybut X.c nie został odnaleziony ani w __dict__ ani w __slots__"
   ]
  },
  {
   "cell_type": "markdown",
   "metadata": {},
   "source": [
    "### Funkcja wbudowana *property* - zawiera trzy metody (get, set, delete) + dokumentacja. Jeśli jeden z tych argumentów zostanie pominięty albo przekazany jako none, to ta operacja nie jest obsługiwana. Zazwyczaj zapisywane na najwyzszym poziomie instrukcji class. Dostępy do atrybutów klasy są automatycznie przekierowywane do jednej z metod akcesorów przekazanej do funkcji property.\n",
    "\n",
    "### Składnia:\n",
    "    class Klasa:\n",
    "    def getKlasa(self):\n",
    "        return ...\n",
    "    def setKlasa(self, value):\n",
    "        print('tekst: ', value)\n",
    "        self.data = value \n",
    "    def delKlasa(self):\n",
    "        del objekt\n",
    "    def docKlasa(self):\n",
    "        print('Dokumentacja')\n",
    "    age = property(getKlasa, setKlasa, delKlasa, docKlasa) # Operacje get, set, del, dokumentacja"
   ]
  },
  {
   "cell_type": "code",
   "execution_count": 73,
   "metadata": {},
   "outputs": [],
   "source": [
    "# starymi metodami __getattr__ i __setattr__ (przed erą funkcji property):\n",
    "class classic:\n",
    "    \n",
    "    def __getattr__(self,name):\n",
    "        if name == 'age':\n",
    "            return 40\n",
    "        else:\n",
    "            raise AttributeError\n",
    "    \n",
    "    def __setattr__(self, name, value):\n",
    "        print('ustawienie:', name, value)\n",
    "        if name == 'age':\n",
    "            self.__dict__['_age'] = value\n",
    "        else:\n",
    "            self.__dict__[name] = value"
   ]
  },
  {
   "cell_type": "code",
   "execution_count": 74,
   "metadata": {},
   "outputs": [],
   "source": [
    "x = classic()"
   ]
  },
  {
   "cell_type": "code",
   "execution_count": 75,
   "metadata": {},
   "outputs": [
    {
     "data": {
      "text/plain": [
       "40"
      ]
     },
     "execution_count": 75,
     "metadata": {},
     "output_type": "execute_result"
    }
   ],
   "source": [
    "x.age   # Wykonuje __getattr__"
   ]
  },
  {
   "cell_type": "code",
   "execution_count": 76,
   "metadata": {},
   "outputs": [],
   "source": [
    "# x.name   # Wykonuje __getattr__, wywala AttributeError"
   ]
  },
  {
   "cell_type": "code",
   "execution_count": 77,
   "metadata": {},
   "outputs": [
    {
     "name": "stdout",
     "output_type": "stream",
     "text": [
      "ustawienie: age 42\n"
     ]
    }
   ],
   "source": [
    "x.age = 42"
   ]
  },
  {
   "cell_type": "code",
   "execution_count": 78,
   "metadata": {},
   "outputs": [
    {
     "data": {
      "text/plain": [
       "40"
      ]
     },
     "execution_count": 78,
     "metadata": {},
     "output_type": "execute_result"
    }
   ],
   "source": [
    "x.age  # wykonuje __getattr__"
   ]
  },
  {
   "cell_type": "code",
   "execution_count": 79,
   "metadata": {},
   "outputs": [
    {
     "data": {
      "text/plain": [
       "42"
      ]
     },
     "execution_count": 79,
     "metadata": {},
     "output_type": "execute_result"
    }
   ],
   "source": [
    "x._age"
   ]
  },
  {
   "cell_type": "code",
   "execution_count": 80,
   "metadata": {},
   "outputs": [
    {
     "name": "stdout",
     "output_type": "stream",
     "text": [
      "ustawienie: job diler\n"
     ]
    }
   ],
   "source": [
    "x.job = 'diler'   # wykonuje __setattr__"
   ]
  },
  {
   "cell_type": "code",
   "execution_count": 81,
   "metadata": {},
   "outputs": [
    {
     "data": {
      "text/plain": [
       "'diler'"
      ]
     },
     "execution_count": 81,
     "metadata": {},
     "output_type": "execute_result"
    }
   ],
   "source": [
    "x.job    # normalne wywołanie"
   ]
  },
  {
   "cell_type": "code",
   "execution_count": 82,
   "metadata": {},
   "outputs": [],
   "source": [
    "class newprops:\n",
    "    def getage(self):\n",
    "        return 40\n",
    "    def setage(self, value):\n",
    "        print('ustawienie wieku: ', value)\n",
    "        self._age = value # _X to wewnetrzna nazwa w klasie wg konwencji (nie jest to element składni)\n",
    "    age = property(getage, setage, None, None) # Operacje get, set, del, dokumentacja"
   ]
  },
  {
   "cell_type": "code",
   "execution_count": 83,
   "metadata": {},
   "outputs": [],
   "source": [
    "y = newprops()"
   ]
  },
  {
   "cell_type": "code",
   "execution_count": 84,
   "metadata": {},
   "outputs": [
    {
     "data": {
      "text/plain": [
       "40"
      ]
     },
     "execution_count": 84,
     "metadata": {},
     "output_type": "execute_result"
    }
   ],
   "source": [
    "y.age   # wykonuje getage"
   ]
  },
  {
   "cell_type": "code",
   "execution_count": 85,
   "metadata": {},
   "outputs": [],
   "source": [
    "# y.name   # normalne pobranie; wywala AttributeError"
   ]
  },
  {
   "cell_type": "code",
   "execution_count": 86,
   "metadata": {},
   "outputs": [
    {
     "name": "stdout",
     "output_type": "stream",
     "text": [
      "ustawienie wieku:  42\n"
     ]
    }
   ],
   "source": [
    "y.age = 42   # wykonuje setage"
   ]
  },
  {
   "cell_type": "code",
   "execution_count": 87,
   "metadata": {},
   "outputs": [
    {
     "data": {
      "text/plain": [
       "40"
      ]
     },
     "execution_count": 87,
     "metadata": {},
     "output_type": "execute_result"
    }
   ],
   "source": [
    "y.age    # wykonuje getage"
   ]
  },
  {
   "cell_type": "code",
   "execution_count": 88,
   "metadata": {},
   "outputs": [
    {
     "data": {
      "text/plain": [
       "42"
      ]
     },
     "execution_count": 88,
     "metadata": {},
     "output_type": "execute_result"
    }
   ],
   "source": [
    "y._age   # wykonuje normalne pobranie"
   ]
  },
  {
   "cell_type": "code",
   "execution_count": 89,
   "metadata": {},
   "outputs": [],
   "source": [
    "y.job = 'diler'   # normalne przypisanie"
   ]
  },
  {
   "cell_type": "code",
   "execution_count": 90,
   "metadata": {},
   "outputs": [
    {
     "data": {
      "text/plain": [
       "'diler'"
      ]
     },
     "execution_count": 90,
     "metadata": {},
     "output_type": "execute_result"
    }
   ],
   "source": [
    "y.job   # normalne pobranie"
   ]
  },
  {
   "cell_type": "markdown",
   "metadata": {},
   "source": [
    "### Typy metod:\n",
    "### 1. Metody instancji - czyli te standardowe, z argumentem *self*\n",
    "### 2. Metody statyczne - niewiążące się z instancją, nie posiadają argumentu *self*, nie obsługują żadnej instancji tylko klasę. Można je wywołać z poziomu klasy.\n",
    "### 3. Metody klasy - w argumencie otrzymuje klasę a nie instancje"
   ]
  },
  {
   "cell_type": "code",
   "execution_count": 91,
   "metadata": {},
   "outputs": [],
   "source": [
    "# przyklad zastosowania metody statycznej: zliczanie instancji powstałych na bazie ponizszej klasy:\n",
    "class Licznik:\n",
    "    numInstances = 0\n",
    "    def __init__(self):\n",
    "        Licznik.numInstances = Licznik.numInstances + 1\n",
    "    def printNumInst():       # metoda statyczna - nie ma argumentu 'self', wiec dane przechowuje w klasie \n",
    "        print('Liczba utworzonych instancji: ', Licznik.numInstances)"
   ]
  },
  {
   "cell_type": "code",
   "execution_count": 92,
   "metadata": {},
   "outputs": [],
   "source": [
    "a = Licznik()"
   ]
  },
  {
   "cell_type": "code",
   "execution_count": 93,
   "metadata": {},
   "outputs": [],
   "source": [
    "b = Licznik()"
   ]
  },
  {
   "cell_type": "code",
   "execution_count": 94,
   "metadata": {},
   "outputs": [],
   "source": [
    "c = Licznik()"
   ]
  },
  {
   "cell_type": "code",
   "execution_count": 95,
   "metadata": {},
   "outputs": [
    {
     "name": "stdout",
     "output_type": "stream",
     "text": [
      "Liczba utworzonych instancji:  3\n"
     ]
    }
   ],
   "source": [
    "Licznik.printNumInst()"
   ]
  },
  {
   "cell_type": "code",
   "execution_count": 96,
   "metadata": {},
   "outputs": [],
   "source": [
    "# c.printNumInst()  # nie zadziala, bo przekazuje argument \"c\" do metody ktora nie czeka na argument 'self'"
   ]
  },
  {
   "cell_type": "code",
   "execution_count": 97,
   "metadata": {},
   "outputs": [],
   "source": [
    "# jako alternatywe dla metod statycznych, mozna uzyc definicji funkcji poza klasą:\n",
    "\n",
    "def printNumInstances():\n",
    "    print(\"Liczba utworzonych instancji: \", Licznik2.numInstances)"
   ]
  },
  {
   "cell_type": "code",
   "execution_count": 98,
   "metadata": {},
   "outputs": [],
   "source": [
    "class Licznik2:\n",
    "    numInstances = 0\n",
    "    def __init__(self):\n",
    "        Licznik2.numInstances = Licznik2.numInstances + 1"
   ]
  },
  {
   "cell_type": "code",
   "execution_count": 99,
   "metadata": {},
   "outputs": [],
   "source": [
    "a = Licznik2()"
   ]
  },
  {
   "cell_type": "code",
   "execution_count": 100,
   "metadata": {},
   "outputs": [],
   "source": [
    "b = Licznik2()"
   ]
  },
  {
   "cell_type": "code",
   "execution_count": 101,
   "metadata": {},
   "outputs": [],
   "source": [
    "c = Licznik2()"
   ]
  },
  {
   "cell_type": "code",
   "execution_count": 102,
   "metadata": {},
   "outputs": [
    {
     "name": "stdout",
     "output_type": "stream",
     "text": [
      "Liczba utworzonych instancji:  3\n"
     ]
    }
   ],
   "source": [
    "printNumInstances()"
   ]
  },
  {
   "cell_type": "code",
   "execution_count": 103,
   "metadata": {},
   "outputs": [
    {
     "data": {
      "text/plain": [
       "3"
      ]
     },
     "execution_count": 103,
     "metadata": {},
     "output_type": "execute_result"
    }
   ],
   "source": [
    "Licznik2.numInstances"
   ]
  },
  {
   "cell_type": "code",
   "execution_count": 104,
   "metadata": {},
   "outputs": [],
   "source": [
    "# kolejny sposób, niestety do sprawdzenia liczby instancji, potrzebna jest przynajmniej jedna instancja\n",
    "class Licznik3:\n",
    "    numInstances = 0\n",
    "    def __init__(self):\n",
    "        Licznik3.numInstances = Licznik3.numInstances + 1\n",
    "    def printNumInstances(self):\n",
    "        print(\"Liczba utworzonych instancji: \", Licznik3.numInstances)"
   ]
  },
  {
   "cell_type": "code",
   "execution_count": 105,
   "metadata": {},
   "outputs": [],
   "source": [
    "x, y, z = Licznik3(), Licznik3(), Licznik3()"
   ]
  },
  {
   "cell_type": "code",
   "execution_count": 106,
   "metadata": {},
   "outputs": [],
   "source": [
    "#Licznik3.printNumInstances() # nie działa, bo czeka na self"
   ]
  },
  {
   "cell_type": "code",
   "execution_count": 107,
   "metadata": {},
   "outputs": [
    {
     "name": "stdout",
     "output_type": "stream",
     "text": [
      "Liczba utworzonych instancji:  3\n"
     ]
    }
   ],
   "source": [
    "x.printNumInstances()"
   ]
  },
  {
   "cell_type": "code",
   "execution_count": 108,
   "metadata": {},
   "outputs": [
    {
     "name": "stdout",
     "output_type": "stream",
     "text": [
      "Liczba utworzonych instancji:  3\n"
     ]
    }
   ],
   "source": [
    "x.printNumInstances()"
   ]
  },
  {
   "cell_type": "code",
   "execution_count": 109,
   "metadata": {},
   "outputs": [
    {
     "name": "stdout",
     "output_type": "stream",
     "text": [
      "Liczba utworzonych instancji:  4\n"
     ]
    }
   ],
   "source": [
    "Licznik3().printNumInstances()   # uzycie tej funkcji modufikuje licznik!"
   ]
  },
  {
   "cell_type": "markdown",
   "metadata": {},
   "source": [
    "#### METODY KLAS:"
   ]
  },
  {
   "cell_type": "code",
   "execution_count": 110,
   "metadata": {},
   "outputs": [],
   "source": [
    "class Methods:\n",
    "    def instancemet(self, x):          # Zwykła metoda instancji: otrzymuje self\n",
    "        print(self, x)\n",
    "    def staticmet(x):                  # Metoda statyczna: instancja nie jest przekazywana\n",
    "        print(x)\n",
    "    def classicmet(cls, x):            # Metoda klasy: otrzymuje klasę, nie instancję\n",
    "        print(cls, x)\n",
    "#    staticmet = staticmethod(staticmet)    # Przekształcenie staticmet w metodę statyczną - nieobowiazkowe od pythona 3.0\n",
    "    classicmet = classmethod(classicmet)   # Przekształcenie classicmet w metodę klasy"
   ]
  },
  {
   "cell_type": "code",
   "execution_count": 111,
   "metadata": {},
   "outputs": [],
   "source": [
    "obj = Methods()"
   ]
  },
  {
   "cell_type": "code",
   "execution_count": 112,
   "metadata": {},
   "outputs": [
    {
     "name": "stdout",
     "output_type": "stream",
     "text": [
      "<__main__.Methods object at 0x0000000004FF9580> 1\n"
     ]
    }
   ],
   "source": [
    "obj.instancemet(1)"
   ]
  },
  {
   "cell_type": "code",
   "execution_count": 113,
   "metadata": {},
   "outputs": [
    {
     "name": "stdout",
     "output_type": "stream",
     "text": [
      "<__main__.Methods object at 0x0000000004FF9580> 2\n"
     ]
    }
   ],
   "source": [
    "Methods.instancemet(obj,2)"
   ]
  },
  {
   "cell_type": "code",
   "execution_count": 114,
   "metadata": {},
   "outputs": [
    {
     "name": "stdout",
     "output_type": "stream",
     "text": [
      "4\n"
     ]
    }
   ],
   "source": [
    "Methods.staticmet(4)"
   ]
  },
  {
   "cell_type": "code",
   "execution_count": 115,
   "metadata": {},
   "outputs": [
    {
     "name": "stdout",
     "output_type": "stream",
     "text": [
      "<class '__main__.Methods'> 5\n"
     ]
    }
   ],
   "source": [
    "Methods.classicmet(5)"
   ]
  },
  {
   "cell_type": "code",
   "execution_count": 116,
   "metadata": {},
   "outputs": [],
   "source": [
    "# Zliczanie instancji z użyciem metod statycznych:\n",
    "class Licznik4:\n",
    "    numInst = 0\n",
    "    def __init__(self):\n",
    "        Licznik4.numInst += 1\n",
    "    def printNumInst():\n",
    "        print('Liczba instancji:', Licznik4.numInst)\n",
    "    printNumInst = staticmethod(printNumInst)  # zapis powoduje ze nazwa metody pozostala lokalna w klasie, nie bedzie powodowac konfliktow z innymi nazwami np w module"
   ]
  },
  {
   "cell_type": "code",
   "execution_count": 117,
   "metadata": {},
   "outputs": [],
   "source": [
    "a = Licznik4()"
   ]
  },
  {
   "cell_type": "code",
   "execution_count": 118,
   "metadata": {},
   "outputs": [],
   "source": [
    "b = Licznik4()"
   ]
  },
  {
   "cell_type": "code",
   "execution_count": 119,
   "metadata": {},
   "outputs": [],
   "source": [
    "c = Licznik4()"
   ]
  },
  {
   "cell_type": "code",
   "execution_count": 120,
   "metadata": {},
   "outputs": [
    {
     "name": "stdout",
     "output_type": "stream",
     "text": [
      "Liczba instancji: 3\n"
     ]
    }
   ],
   "source": [
    "Licznik4.printNumInst()"
   ]
  },
  {
   "cell_type": "code",
   "execution_count": 121,
   "metadata": {},
   "outputs": [
    {
     "name": "stdout",
     "output_type": "stream",
     "text": [
      "Liczba instancji: 3\n"
     ]
    }
   ],
   "source": [
    "a.printNumInst()"
   ]
  },
  {
   "cell_type": "code",
   "execution_count": 122,
   "metadata": {},
   "outputs": [],
   "source": [
    "class SubLicznik(Licznik4):\n",
    "    def printNumInst():    # nadpisanie metody statycznej z Licznik4\n",
    "        print(\"cos ekstra... ;)\")\n",
    "        Licznik4.printNumInst()    # wywolanie oryginalnej metody statycznej z klasy nadrzednej\n",
    "    printNumInst = staticmethod(printNumInst)"
   ]
  },
  {
   "cell_type": "code",
   "execution_count": 123,
   "metadata": {},
   "outputs": [],
   "source": [
    "x = SubLicznik()"
   ]
  },
  {
   "cell_type": "code",
   "execution_count": 124,
   "metadata": {},
   "outputs": [
    {
     "name": "stdout",
     "output_type": "stream",
     "text": [
      "cos ekstra... ;)\n",
      "Liczba instancji: 4\n"
     ]
    }
   ],
   "source": [
    "x.printNumInst()"
   ]
  },
  {
   "cell_type": "code",
   "execution_count": 125,
   "metadata": {},
   "outputs": [
    {
     "name": "stdout",
     "output_type": "stream",
     "text": [
      "cos ekstra... ;)\n",
      "Liczba instancji: 4\n"
     ]
    }
   ],
   "source": [
    "SubLicznik.printNumInst()  # zlicza razem z instancjami klasy nadrzednej"
   ]
  },
  {
   "cell_type": "code",
   "execution_count": 126,
   "metadata": {},
   "outputs": [],
   "source": [
    "# Zliczanie instancji z użyciem metod klas:\n",
    "class Licznik5:\n",
    "    numInst = 0\n",
    "    def __init__(self):\n",
    "        Licznik5.numInst += 1\n",
    "    def printNumInst(cls):\n",
    "        print('liczba instancji: ', cls.numInst, cls)\n",
    "    printNumInst = classmethod(printNumInst)"
   ]
  },
  {
   "cell_type": "code",
   "execution_count": 127,
   "metadata": {},
   "outputs": [],
   "source": [
    "a,b = Licznik5(), Licznik5()"
   ]
  },
  {
   "cell_type": "code",
   "execution_count": 128,
   "metadata": {},
   "outputs": [
    {
     "name": "stdout",
     "output_type": "stream",
     "text": [
      "liczba instancji:  2 <class '__main__.Licznik5'>\n"
     ]
    }
   ],
   "source": [
    "a.printNumInst()"
   ]
  },
  {
   "cell_type": "code",
   "execution_count": 129,
   "metadata": {},
   "outputs": [],
   "source": [
    "class SubLicznik5(Licznik5):\n",
    "    def printNumInst(cls):\n",
    "        print('cos ekstra :)', cls)\n",
    "        Licznik5.printNumInst()\n",
    "    printNumInst = classmethod(printNumInst)"
   ]
  },
  {
   "cell_type": "code",
   "execution_count": 130,
   "metadata": {},
   "outputs": [],
   "source": [
    "x, y = Licznik5(), SubLicznik5()"
   ]
  },
  {
   "cell_type": "code",
   "execution_count": 131,
   "metadata": {},
   "outputs": [
    {
     "name": "stdout",
     "output_type": "stream",
     "text": [
      "liczba instancji:  4 <class '__main__.Licznik5'>\n"
     ]
    }
   ],
   "source": [
    "x.printNumInst()"
   ]
  },
  {
   "cell_type": "code",
   "execution_count": 132,
   "metadata": {},
   "outputs": [
    {
     "name": "stdout",
     "output_type": "stream",
     "text": [
      "cos ekstra :) <class '__main__.SubLicznik5'>\n",
      "liczba instancji:  4 <class '__main__.Licznik5'>\n"
     ]
    }
   ],
   "source": [
    "y.printNumInst()   # zlicza tylko wszystkie instancji klasy nadrzednej i podrzednej"
   ]
  },
  {
   "cell_type": "code",
   "execution_count": 133,
   "metadata": {},
   "outputs": [],
   "source": [
    "#Zliczanie instancji dla każdej z klas z użyciem metod klas:\n",
    "class Licznik6:\n",
    "    numInst = 0 \n",
    "    def count(cls):\n",
    "        cls.numInst += 1\n",
    "    def __init__(self):\n",
    "        self.count()\n",
    "    count = classmethod(count)"
   ]
  },
  {
   "cell_type": "code",
   "execution_count": 134,
   "metadata": {},
   "outputs": [],
   "source": [
    "class SubLicznik6(Licznik6):\n",
    "    numInst = 0 \n",
    "    def __init__(self):\n",
    "        Licznik6.__init__(self)"
   ]
  },
  {
   "cell_type": "code",
   "execution_count": 135,
   "metadata": {},
   "outputs": [],
   "source": [
    "class SubPass(Licznik6): \n",
    "    numInst = 0"
   ]
  },
  {
   "cell_type": "code",
   "execution_count": 136,
   "metadata": {},
   "outputs": [],
   "source": [
    "x = Licznik6()"
   ]
  },
  {
   "cell_type": "code",
   "execution_count": 137,
   "metadata": {},
   "outputs": [],
   "source": [
    "y1, y2 = SubLicznik6(), SubLicznik6()"
   ]
  },
  {
   "cell_type": "code",
   "execution_count": 138,
   "metadata": {},
   "outputs": [],
   "source": [
    "z1, z2, z3 = SubPass(), SubPass(), SubPass()"
   ]
  },
  {
   "cell_type": "code",
   "execution_count": 139,
   "metadata": {},
   "outputs": [
    {
     "data": {
      "text/plain": [
       "(1, 2, 3)"
      ]
     },
     "execution_count": 139,
     "metadata": {},
     "output_type": "execute_result"
    }
   ],
   "source": [
    "x.numInst, y1.numInst, z1.numInst  # oddzielne zliczanie instancji każdej klasy"
   ]
  },
  {
   "cell_type": "markdown",
   "metadata": {},
   "source": [
    "### Dekoratory funkcji: zapisywany przed definicja funkcji\n",
    "składnia:  \n",
    "\n",
    "    class C:\n",
    "        @staticmethod\n",
    "        def meth():\n",
    "            ...\n",
    "            \n",
    "            \n",
    "w tym wypadku jest to równoznaczne z zapisem:\n",
    "\n",
    "    class C:\n",
    "        def meth():\n",
    "            ...\n",
    "        meth = staticmethod(meth)"
   ]
  },
  {
   "cell_type": "code",
   "execution_count": 140,
   "metadata": {},
   "outputs": [],
   "source": [
    "class Licznik7:\n",
    "    numInstances = 0\n",
    "    def __init__(self):\n",
    "        Licznik7.numInstances = Licznik7.numInstances + 1\n",
    "    @staticmethod\n",
    "    def printNumInstances():\n",
    "        print(\"Liczba utworzonych instancji: \", Licznik7.numInstances)"
   ]
  },
  {
   "cell_type": "code",
   "execution_count": 141,
   "metadata": {},
   "outputs": [],
   "source": [
    "a = Licznik7()"
   ]
  },
  {
   "cell_type": "code",
   "execution_count": 142,
   "metadata": {},
   "outputs": [],
   "source": [
    "b = Licznik7()\n",
    "c = Licznik7()"
   ]
  },
  {
   "cell_type": "code",
   "execution_count": 143,
   "metadata": {},
   "outputs": [
    {
     "data": {
      "text/plain": [
       "3"
      ]
     },
     "execution_count": 143,
     "metadata": {},
     "output_type": "execute_result"
    }
   ],
   "source": [
    "Licznik7.numInstances"
   ]
  },
  {
   "cell_type": "code",
   "execution_count": 144,
   "metadata": {},
   "outputs": [
    {
     "name": "stdout",
     "output_type": "stream",
     "text": [
      "Liczba utworzonych instancji:  3\n"
     ]
    }
   ],
   "source": [
    "Licznik7.printNumInstances()"
   ]
  },
  {
   "cell_type": "code",
   "execution_count": 145,
   "metadata": {},
   "outputs": [],
   "source": [
    "class tracer:\n",
    "    def __init__(self, func):\n",
    "        self.calls = 0\n",
    "        self.func  = func\n",
    "    def __call__(self, *args):\n",
    "        self.calls += 1\n",
    "        print(f'wywołanie nr {self.calls} do {self.func.__name__}')\n",
    "        self.func(*args)\n",
    "@tracer                       # Równoważne wywołaniu spam = tracer(spam)\n",
    "def spam(a, b, c):            # Opakowanie funkcji spam w obiekt dekoratora\n",
    "    print(a, b, c)"
   ]
  },
  {
   "cell_type": "code",
   "execution_count": 146,
   "metadata": {},
   "outputs": [
    {
     "name": "stdout",
     "output_type": "stream",
     "text": [
      "wywołanie nr 1 do spam\n",
      "1 2 3\n"
     ]
    }
   ],
   "source": [
    "spam(1, 2, 3)   # ponieważ spam = tracer(spam), po wywolaniu uruchamia sie __call__ klasy tracer"
   ]
  },
  {
   "cell_type": "code",
   "execution_count": 147,
   "metadata": {},
   "outputs": [
    {
     "name": "stdout",
     "output_type": "stream",
     "text": [
      "wywołanie nr 2 do spam\n",
      "a b c\n"
     ]
    }
   ],
   "source": [
    "spam('a', 'b', 'c')"
   ]
  },
  {
   "cell_type": "code",
   "execution_count": 148,
   "metadata": {},
   "outputs": [
    {
     "name": "stdout",
     "output_type": "stream",
     "text": [
      "wywołanie nr 3 do spam\n",
      "4 5 6\n"
     ]
    }
   ],
   "source": [
    "spam(4, 5, 6) "
   ]
  },
  {
   "cell_type": "markdown",
   "metadata": {},
   "source": [
    "### Dekoratory Klas: \n",
    "składnia:\n",
    "\n",
    "    def decorator(aClass):\n",
    "        ...\n",
    "    @decorator\n",
    "    class C:\n",
    "        ...\n",
    "jest to równoznaczne z zapisem:\n",
    "\n",
    "    def decorator(aClass):\n",
    "        ...\n",
    "    class C:\n",
    "        ...\n",
    "    C = decorator(C)"
   ]
  },
  {
   "cell_type": "code",
   "execution_count": 149,
   "metadata": {},
   "outputs": [],
   "source": [
    "def count(aClass):\n",
    "    aClass.numInstances = 0\n",
    "    return aClass                     # Zwracamy samą klasę, nieobiekt opakowujący\n",
    "@count\n",
    "class Licznik: ...                    # Równoważne wywołaniu Licznik = count(Licznik)\n",
    "@count\n",
    "class Sub(Licznik): ...               # numInst = 0 nie jest potrzebne\n",
    "@count\n",
    "class Other(Licznik): ..."
   ]
  },
  {
   "cell_type": "markdown",
   "metadata": {},
   "source": [
    "### Pułapki związane z klasami:\n",
    "### 1. Modyfikacja atrybutów klas może mieć efekty uboczne\n",
    "### 2. Modyfikowanie mutowalnych obiektów w klasach może mieć efekty uboczne\n",
    "### 3. Dziedziczenie wielokrotne — kolejność ma znaczenie\n",
    "### 4. Przesadne opakowywanie - zbyt wiele poziomow dziedziczenia = zagmatwany kod"
   ]
  },
  {
   "cell_type": "code",
   "execution_count": 150,
   "metadata": {},
   "outputs": [],
   "source": [
    "# ad 1. Modyfikacja atrybutów klas może mieć efekty uboczne\n",
    "class X:\n",
    "    a = 1"
   ]
  },
  {
   "cell_type": "code",
   "execution_count": 151,
   "metadata": {},
   "outputs": [],
   "source": [
    "I = X()"
   ]
  },
  {
   "cell_type": "code",
   "execution_count": 152,
   "metadata": {},
   "outputs": [
    {
     "data": {
      "text/plain": [
       "1"
      ]
     },
     "execution_count": 152,
     "metadata": {},
     "output_type": "execute_result"
    }
   ],
   "source": [
    "I.a"
   ]
  },
  {
   "cell_type": "code",
   "execution_count": 153,
   "metadata": {},
   "outputs": [
    {
     "data": {
      "text/plain": [
       "1"
      ]
     },
     "execution_count": 153,
     "metadata": {},
     "output_type": "execute_result"
    }
   ],
   "source": [
    "X.a"
   ]
  },
  {
   "cell_type": "code",
   "execution_count": 154,
   "metadata": {},
   "outputs": [],
   "source": [
    "X.a = 2"
   ]
  },
  {
   "cell_type": "code",
   "execution_count": 155,
   "metadata": {},
   "outputs": [
    {
     "data": {
      "text/plain": [
       "2"
      ]
     },
     "execution_count": 155,
     "metadata": {},
     "output_type": "execute_result"
    }
   ],
   "source": [
    "I.a   # zmienna a w klasie X została zmodyfikowana, wiec w instancjach tez juz jest zmieniona"
   ]
  },
  {
   "cell_type": "code",
   "execution_count": 156,
   "metadata": {},
   "outputs": [],
   "source": [
    "# ad 2. Modyfikowanie mutowalnych obiektów w klasach może mieć efekty uboczne\n",
    "class C:\n",
    "    obiektmutowalny = []\n",
    "    def __init__(self):\n",
    "        self.obj = []"
   ]
  },
  {
   "cell_type": "code",
   "execution_count": 157,
   "metadata": {},
   "outputs": [],
   "source": [
    "x = C()"
   ]
  },
  {
   "cell_type": "code",
   "execution_count": 158,
   "metadata": {},
   "outputs": [],
   "source": [
    "y = C()"
   ]
  },
  {
   "cell_type": "code",
   "execution_count": 159,
   "metadata": {},
   "outputs": [
    {
     "data": {
      "text/plain": [
       "([], [])"
      ]
     },
     "execution_count": 159,
     "metadata": {},
     "output_type": "execute_result"
    }
   ],
   "source": [
    "y.obiektmutowalny, x.obj"
   ]
  },
  {
   "cell_type": "code",
   "execution_count": 160,
   "metadata": {},
   "outputs": [],
   "source": [
    "x.obiektmutowalny.append('cos')\n",
    "x.obj.append('cos wiecej')"
   ]
  },
  {
   "cell_type": "code",
   "execution_count": 161,
   "metadata": {},
   "outputs": [
    {
     "data": {
      "text/plain": [
       "(['cos'], ['cos wiecej'])"
      ]
     },
     "execution_count": 161,
     "metadata": {},
     "output_type": "execute_result"
    }
   ],
   "source": [
    "x.obiektmutowalny, x.obj"
   ]
  },
  {
   "cell_type": "code",
   "execution_count": 162,
   "metadata": {},
   "outputs": [
    {
     "data": {
      "text/plain": [
       "(['cos'], [])"
      ]
     },
     "execution_count": 162,
     "metadata": {},
     "output_type": "execute_result"
    }
   ],
   "source": [
    "y.obiektmutowalny, y.obj  # UWAGA! zmienil sie obiektmutowalny w KLASIE C!, a zatem tez w instancji y"
   ]
  },
  {
   "cell_type": "code",
   "execution_count": 163,
   "metadata": {},
   "outputs": [
    {
     "data": {
      "text/plain": [
       "['cos']"
      ]
     },
     "execution_count": 163,
     "metadata": {},
     "output_type": "execute_result"
    }
   ],
   "source": [
    "C.obiektmutowalny"
   ]
  },
  {
   "cell_type": "code",
   "execution_count": null,
   "metadata": {},
   "outputs": [],
   "source": []
  }
 ],
 "metadata": {
  "kernelspec": {
   "display_name": "Python 3",
   "language": "python",
   "name": "python3"
  },
  "language_info": {
   "codemirror_mode": {
    "name": "ipython",
    "version": 3
   },
   "file_extension": ".py",
   "mimetype": "text/x-python",
   "name": "python",
   "nbconvert_exporter": "python",
   "pygments_lexer": "ipython3",
   "version": "3.8.1"
  }
 },
 "nbformat": 4,
 "nbformat_minor": 2
}
