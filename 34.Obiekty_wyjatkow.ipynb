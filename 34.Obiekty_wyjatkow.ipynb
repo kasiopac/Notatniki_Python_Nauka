{
 "cells": [
  {
   "cell_type": "code",
   "execution_count": 1,
   "metadata": {},
   "outputs": [],
   "source": [
    "# wyjątki tworzy się przez utworzenie klasy dziedziczącej po Expection()\n",
    "\n",
    "class General(Exception): pass   # klasa wyjątku - kategoria wyjątkow\n",
    "class Specific1(General): pass   # klasa konkretnego wyjątku dziedzicząca po General\n",
    "class Specific2(General): pass   # j.w."
   ]
  },
  {
   "cell_type": "code",
   "execution_count": 4,
   "metadata": {},
   "outputs": [
    {
     "name": "stdout",
     "output_type": "stream",
     "text": [
      "przechwycono: <class '__main__.General'>\n",
      "przechwycono: <class '__main__.Specific1'>\n",
      "przechwycono: <class '__main__.Specific2'>\n"
     ]
    }
   ],
   "source": [
    "def raiser0():\n",
    "    X = General()                             # Zgłoszenie instancji klasy nadrzędnej\n",
    "    raise X\n",
    "def raiser1():\n",
    "    X = Specific1()                           # Zgłoszenie instancji klasy podrzędnej\n",
    "    raise X\n",
    "def raiser2():\n",
    "    X = Specific2()                           # Zgłoszenie instancji innej klasy podrzędnej\n",
    "    raise X\n",
    "for func in (raiser0, raiser1, raiser2):\n",
    "    try:\n",
    "        func()\n",
    "    except General:                           # Dopasowanie General lub którejś z jej podklas\n",
    "        import sys\n",
    "        print('przechwycono:', sys.exc_info()[0]) # uzyskanie dostępu do ostatnio zgłoszsonego wyjątku"
   ]
  },
  {
   "cell_type": "code",
   "execution_count": 5,
   "metadata": {},
   "outputs": [
    {
     "name": "stdout",
     "output_type": "stream",
     "text": [
      "przechwycono: <class '__main__.General'>\n",
      "przechwycono: <class '__main__.Specific1'>\n",
      "przechwycono: <class '__main__.Specific2'>\n"
     ]
    }
   ],
   "source": [
    "class General(Exception): pass\n",
    "class Specific1(General): pass\n",
    "class Specific2(General): pass\n",
    "def raiser0(): raise General()\n",
    "def raiser1(): raise Specific1()\n",
    "def raiser2(): raise Specific2()\n",
    "    \n",
    "for func in (raiser0, raiser1, raiser2):\n",
    "    try:\n",
    "        func()\n",
    "    except General as X:\n",
    "        print('przechwycono:', X.__class__)"
   ]
  },
  {
   "cell_type": "code",
   "execution_count": 10,
   "metadata": {},
   "outputs": [
    {
     "name": "stdout",
     "output_type": "stream",
     "text": [
      "przechwycono: <class '__main__.Specific2'>\n"
     ]
    }
   ],
   "source": [
    "try:\n",
    "    func()\n",
    "except (General, Specific1, Specific2):               # Przechwycenie dowolnego z tych wyjątków\n",
    "        print('przechwycono:',  sys.exc_info()[0])"
   ]
  },
  {
   "cell_type": "code",
   "execution_count": 19,
   "metadata": {},
   "outputs": [],
   "source": [
    "# biblioteka wyjątków - powinna być drzewem klas, z jedną nadrzędną\n",
    "\n",
    "class NumErr(Exception): pass\n",
    "class Divzero(NumErr): pass\n",
    "class Oflow(NumErr): pass\n",
    "class Uflow(NumErr): pass"
   ]
  },
  {
   "cell_type": "code",
   "execution_count": 20,
   "metadata": {},
   "outputs": [],
   "source": [
    "def func():\n",
    "    raise Divzero()"
   ]
  },
  {
   "cell_type": "code",
   "execution_count": 21,
   "metadata": {},
   "outputs": [
    {
     "name": "stdout",
     "output_type": "stream",
     "text": [
      "zgloszenie <class '__main__.Divzero'>\n"
     ]
    }
   ],
   "source": [
    "try: func()\n",
    "except (NumErr):   # dzieki takiemu zapisowi python wychwytuje wszystkie wyjatki z biblioteki\n",
    "    print('zgloszenie', sys.exc_info()[0])"
   ]
  },
  {
   "cell_type": "markdown",
   "metadata": {},
   "source": [
    "### przekazanie stringa w argumencie, powoduje wyswietlenie go jako komunikatu błędu (zapisywane jako args w konstruktorze):"
   ]
  },
  {
   "cell_type": "code",
   "execution_count": 26,
   "metadata": {},
   "outputs": [
    {
     "ename": "IndexError",
     "evalue": "",
     "output_type": "error",
     "traceback": [
      "\u001b[1;31m---------------------------------------------------------------------------\u001b[0m",
      "\u001b[1;31mIndexError\u001b[0m                                Traceback (most recent call last)",
      "\u001b[1;32m<ipython-input-26-49931e701cb7>\u001b[0m in \u001b[0;36m<module>\u001b[1;34m\u001b[0m\n\u001b[0;32m      1\u001b[0m \u001b[1;31m# przekazanie stringa w argumencie, powoduje wyswietlenie go jako komunikatu błędu:\u001b[0m\u001b[1;33m\u001b[0m\u001b[1;33m\u001b[0m\u001b[1;33m\u001b[0m\u001b[0m\n\u001b[0;32m      2\u001b[0m \u001b[1;33m\u001b[0m\u001b[0m\n\u001b[1;32m----> 3\u001b[1;33m \u001b[1;32mraise\u001b[0m \u001b[0mIndexError\u001b[0m\u001b[1;33m\u001b[0m\u001b[1;33m\u001b[0m\u001b[0m\n\u001b[0m",
      "\u001b[1;31mIndexError\u001b[0m: "
     ]
    }
   ],
   "source": [
    "raise IndexError"
   ]
  },
  {
   "cell_type": "code",
   "execution_count": 27,
   "metadata": {},
   "outputs": [
    {
     "ename": "IndexError",
     "evalue": "mój Error",
     "output_type": "error",
     "traceback": [
      "\u001b[1;31m---------------------------------------------------------------------------\u001b[0m",
      "\u001b[1;31mIndexError\u001b[0m                                Traceback (most recent call last)",
      "\u001b[1;32m<ipython-input-27-5d3790c393ab>\u001b[0m in \u001b[0;36m<module>\u001b[1;34m\u001b[0m\n\u001b[1;32m----> 1\u001b[1;33m \u001b[1;32mraise\u001b[0m \u001b[0mIndexError\u001b[0m\u001b[1;33m(\u001b[0m\u001b[1;34m\"mój Error\"\u001b[0m\u001b[1;33m)\u001b[0m\u001b[1;33m\u001b[0m\u001b[1;33m\u001b[0m\u001b[0m\n\u001b[0m",
      "\u001b[1;31mIndexError\u001b[0m: mój Error"
     ]
    }
   ],
   "source": [
    "raise IndexError(\"mój Error\")"
   ]
  },
  {
   "cell_type": "code",
   "execution_count": 28,
   "metadata": {},
   "outputs": [
    {
     "data": {
      "text/plain": [
       "('błąd',)"
      ]
     },
     "execution_count": 28,
     "metadata": {},
     "output_type": "execute_result"
    }
   ],
   "source": [
    "E = IndexError('błąd')\n",
    "E.args"
   ]
  },
  {
   "cell_type": "code",
   "execution_count": 29,
   "metadata": {},
   "outputs": [],
   "source": [
    "class Ex(Exception): pass"
   ]
  },
  {
   "cell_type": "code",
   "execution_count": 32,
   "metadata": {},
   "outputs": [
    {
     "name": "stdout",
     "output_type": "stream",
     "text": [
      "znowu błąd ('znowu błąd',)\n"
     ]
    }
   ],
   "source": [
    "try:\n",
    "    raise Ex(\"znowu błąd\")\n",
    "except Ex as X:\n",
    "    print(X, X.args)"
   ]
  },
  {
   "cell_type": "markdown",
   "metadata": {},
   "source": [
    "### WŁASNE SPOSOBY WYŚWIETLANIA:"
   ]
  },
  {
   "cell_type": "code",
   "execution_count": 33,
   "metadata": {},
   "outputs": [],
   "source": [
    "class MyBad(Exception): pass"
   ]
  },
  {
   "cell_type": "code",
   "execution_count": 36,
   "metadata": {},
   "outputs": [
    {
     "name": "stdout",
     "output_type": "stream",
     "text": [
      "mój błąd\n"
     ]
    }
   ],
   "source": [
    "try:\n",
    "    raise MyBad('mój błąd')\n",
    "except MyBad as X:\n",
    "    print(X)"
   ]
  },
  {
   "cell_type": "code",
   "execution_count": 37,
   "metadata": {},
   "outputs": [
    {
     "ename": "MyBad",
     "evalue": "mój błąd",
     "output_type": "error",
     "traceback": [
      "\u001b[1;31m---------------------------------------------------------------------------\u001b[0m",
      "\u001b[1;31mMyBad\u001b[0m                                     Traceback (most recent call last)",
      "\u001b[1;32m<ipython-input-37-124cce572b11>\u001b[0m in \u001b[0;36m<module>\u001b[1;34m\u001b[0m\n\u001b[1;32m----> 1\u001b[1;33m \u001b[1;32mraise\u001b[0m \u001b[0mMyBad\u001b[0m\u001b[1;33m(\u001b[0m\u001b[1;34m'mój błąd'\u001b[0m\u001b[1;33m)\u001b[0m\u001b[1;33m\u001b[0m\u001b[1;33m\u001b[0m\u001b[0m\n\u001b[0m",
      "\u001b[1;31mMyBad\u001b[0m: mój błąd"
     ]
    }
   ],
   "source": [
    "raise MyBad('mój błąd')"
   ]
  },
  {
   "cell_type": "code",
   "execution_count": 38,
   "metadata": {},
   "outputs": [],
   "source": [
    "class MyBad2(Exception):\n",
    "    def __str__(self):\n",
    "        return 'yep'"
   ]
  },
  {
   "cell_type": "code",
   "execution_count": 39,
   "metadata": {},
   "outputs": [
    {
     "name": "stdout",
     "output_type": "stream",
     "text": [
      "yep\n"
     ]
    }
   ],
   "source": [
    "try:\n",
    "    raise MyBad2()\n",
    "except MyBad2 as E:\n",
    "    print(E)"
   ]
  },
  {
   "cell_type": "code",
   "execution_count": 42,
   "metadata": {},
   "outputs": [
    {
     "ename": "MyBad2",
     "evalue": "yep",
     "output_type": "error",
     "traceback": [
      "\u001b[1;31m---------------------------------------------------------------------------\u001b[0m",
      "\u001b[1;31mMyBad2\u001b[0m                                    Traceback (most recent call last)",
      "\u001b[1;32m<ipython-input-42-959ff0c69082>\u001b[0m in \u001b[0;36m<module>\u001b[1;34m\u001b[0m\n\u001b[1;32m----> 1\u001b[1;33m \u001b[1;32mraise\u001b[0m \u001b[0mMyBad2\u001b[0m\u001b[1;33m\u001b[0m\u001b[1;33m\u001b[0m\u001b[0m\n\u001b[0m",
      "\u001b[1;31mMyBad2\u001b[0m: yep"
     ]
    }
   ],
   "source": [
    "raise MyBad2"
   ]
  },
  {
   "cell_type": "markdown",
   "metadata": {},
   "source": [
    "### Udostępnianie szczegółów wyjątku:"
   ]
  },
  {
   "cell_type": "code",
   "execution_count": 43,
   "metadata": {},
   "outputs": [],
   "source": [
    "class FormatError(Exception):\n",
    "    def __init__(self, line, file):\n",
    "        self.line = line\n",
    "        self.file = file"
   ]
  },
  {
   "cell_type": "code",
   "execution_count": 47,
   "metadata": {},
   "outputs": [],
   "source": [
    "def parser():\n",
    "    raise FormatError(42, file = 'spam.txt')"
   ]
  },
  {
   "cell_type": "code",
   "execution_count": 48,
   "metadata": {},
   "outputs": [
    {
     "name": "stdout",
     "output_type": "stream",
     "text": [
      "Błąd w spam.txt 42\n"
     ]
    }
   ],
   "source": [
    "try:\n",
    "    parser()\n",
    "except FormatError as X:\n",
    "    print('Błąd w', X.file, X.line)"
   ]
  },
  {
   "cell_type": "code",
   "execution_count": 49,
   "metadata": {},
   "outputs": [],
   "source": [
    "class FormatError2(Exception): pass"
   ]
  },
  {
   "cell_type": "code",
   "execution_count": 50,
   "metadata": {},
   "outputs": [],
   "source": [
    "def parser2():\n",
    "    raise FormatError2(42, 'spam.txt')"
   ]
  },
  {
   "cell_type": "code",
   "execution_count": 52,
   "metadata": {},
   "outputs": [
    {
     "name": "stdout",
     "output_type": "stream",
     "text": [
      "Błąd w 42 spam.txt\n"
     ]
    }
   ],
   "source": [
    "try:\n",
    "    parser2()\n",
    "except FormatError2 as X:\n",
    "    print('Błąd w', X.args[0], X.args[1])"
   ]
  },
  {
   "cell_type": "markdown",
   "metadata": {},
   "source": [
    "### Udostępnianie metod wyjątków:"
   ]
  },
  {
   "cell_type": "code",
   "execution_count": 76,
   "metadata": {},
   "outputs": [],
   "source": [
    "class FormatError(Exception):\n",
    "    logfile = 'formaterror.txt'\n",
    "    def __init__(self, line, file):\n",
    "        self.line = line\n",
    "        self.file = file\n",
    "    def logerror(self):\n",
    "        log = open(self.logfile, 'a')\n",
    "        print('Błąd w', self.file, self.line, file=log)"
   ]
  },
  {
   "cell_type": "code",
   "execution_count": 77,
   "metadata": {},
   "outputs": [],
   "source": [
    "def parser():\n",
    "    raise FormatError(40, 'plik.txt')"
   ]
  },
  {
   "cell_type": "code",
   "execution_count": 78,
   "metadata": {},
   "outputs": [],
   "source": [
    "try:\n",
    "    parser()\n",
    "except FormatError as exc:\n",
    "    exc.logerror()"
   ]
  },
  {
   "cell_type": "code",
   "execution_count": 75,
   "metadata": {},
   "outputs": [],
   "source": [
    "log = open('formaterror.txt', 'r')"
   ]
  },
  {
   "cell_type": "code",
   "execution_count": 82,
   "metadata": {},
   "outputs": [
    {
     "data": {
      "text/plain": [
       "''"
      ]
     },
     "execution_count": 82,
     "metadata": {},
     "output_type": "execute_result"
    }
   ],
   "source": [
    "log.readline()"
   ]
  },
  {
   "cell_type": "code",
   "execution_count": null,
   "metadata": {},
   "outputs": [],
   "source": []
  }
 ],
 "metadata": {
  "kernelspec": {
   "display_name": "Python 3",
   "language": "python",
   "name": "python3"
  },
  "language_info": {
   "codemirror_mode": {
    "name": "ipython",
    "version": 3
   },
   "file_extension": ".py",
   "mimetype": "text/x-python",
   "name": "python",
   "nbconvert_exporter": "python",
   "pygments_lexer": "ipython3",
   "version": "3.8.1"
  }
 },
 "nbformat": 4,
 "nbformat_minor": 4
}
