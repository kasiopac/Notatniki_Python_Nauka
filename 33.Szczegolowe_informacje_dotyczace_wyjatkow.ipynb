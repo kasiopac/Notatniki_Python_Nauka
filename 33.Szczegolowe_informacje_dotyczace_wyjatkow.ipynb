{
 "cells": [
  {
   "cell_type": "markdown",
   "metadata": {},
   "source": [
    "### INSTRUKCJA TRY:  musi wystepowac w pakiecie z `expect` lub `finally`\n",
    "\n",
    "### Instrukcja `try/expect/else/finally` - jesli wszystkie bloki wystepuja jednoczesnie, nalezy zapisac je w tej kolejnosci:\n",
    "    try:\n",
    "       <instrukcje>                   # Wykonanie najpierw tego głównego działania\n",
    "       \n",
    "    except <nazwa1>:\n",
    "       <instrukcje>                   # Wykonane, jeśli nazwa1 zostanie zgłoszona w bloku try\n",
    "       \n",
    "    except (nazwa2, nazwa3):\n",
    "       <instrukcje>                   # Wykonane, kiedy wystąpi dowolny z wymienionych wyjątków\n",
    "       \n",
    "    except <nazwa4> as <zmienna>:\n",
    "       <instrukcje>                   # Wykonane, jeśli zostaje zgłoszona nazwa4 i instancja\n",
    "       \n",
    "    except:\n",
    "       <instrukcje>                   # Wykonane dla wszystkich (pozostałych) zgłoszonych wyjątków\n",
    "    else:                             # Można użyć else tylko, jesli wczesniej uzyto except\n",
    "       <instrukcje>                   # Wykonane, jeśli żaden wyjątek nie został zgłoszony w bloku try \n",
    "    \n",
    "    finally:\n",
    "            <instrukcje>              # zawsze wykonuje ten blok (przydatne do zadan czyszczacych, np. zamykanie pliku czy połączenia z serwerem)"
   ]
  },
  {
   "cell_type": "markdown",
   "metadata": {},
   "source": [
    "###  Instrukcje zagnieżdżone pod nagłówkiem `try` wykonywane są jako pierwsze (polecenia `except` są sprawdzane od góry do dołu). To, co się dzieje później, zależy od tego, czy w czasie wykonywania instrukcji z bloku `try` zgłaszane są wyjątki:\n",
    "### • Jeśli wyjątek wystąpi, kiedy wykonywane są instrukcje z bloku `try`, Python wykonuje instrukcje znajdujące się pod pierwszą częścią `except`, odpowiadającą zgłoszonemu wyjątkowi. Następnie przechodzi do kodu pod całą instrukcją `try` po wykonaniu bloku `except` (o ile blok ten nie powoduje zgłoszenia kolejnego wyjątku).\n",
    "### • Jeśli wyjątek występuje w bloku `try`, a nie pasuje do żadnej części `except`, jest on przesyłany do góry aż do ostatniej pasującej instrukcji `try`, do której weszliśmy wcześniej w programie, lub też — jeśli jest to pierwsza taka instrukcja — na najwyższy poziom procesu (co sprawia, że Python kończy działanie programu i wyświetla domyślny komunikat o błędzie).\n",
    "### • Jeśli żaden wyjątek nie pojawi się w czasie wykonywania instrukcji znajdujących się pod nagłówkiem `try`, Python wykonuje instrukcje znajdujące się pod wierszem `else` (o ile jest on obecny), a następnie przechodzi do kodu pod instrukcją `try`. Może się to też przydać, jeśli chcemy mieć pewność, że program przeszedł przez instrukcję `try`, ale nie napotkał wyjątku.\n",
    "### • Jeśli w czasie wykonywania bloku `try` nie wystąpi wyjątek, Python wykonuje blok `finally`, a następnie kontynuuje wykonywanie pod instrukcją `try`.\n",
    "### • Jeśli w czasie wykonywania bloku `try` wystąpi wyjątek, Python wykonuje blok `finally`, ale następnie przekazuje wyjątek wyżej — albo do znajdującej się wyżej instrukcji `try`, albo do domyślnego programu obsługi na najwyższym poziomie programu. Program nie wznawia wykonywania poniżej instrukcji `try`. "
   ]
  },
  {
   "cell_type": "code",
   "execution_count": 1,
   "metadata": {},
   "outputs": [
    {
     "ename": "ZeroDivisionError",
     "evalue": "division by zero",
     "output_type": "error",
     "traceback": [
      "\u001b[1;31m---------------------------------------------------------------------------\u001b[0m",
      "\u001b[1;31mZeroDivisionError\u001b[0m                         Traceback (most recent call last)",
      "\u001b[1;32m<ipython-input-1-ff611e01a888>\u001b[0m in \u001b[0;36m<module>\u001b[1;34m\u001b[0m\n\u001b[0;32m      3\u001b[0m \u001b[1;32mdef\u001b[0m \u001b[0mgosouth\u001b[0m\u001b[1;33m(\u001b[0m\u001b[0mx\u001b[0m\u001b[1;33m)\u001b[0m\u001b[1;33m:\u001b[0m\u001b[1;33m\u001b[0m\u001b[1;33m\u001b[0m\u001b[0m\n\u001b[0;32m      4\u001b[0m     \u001b[0mprint\u001b[0m\u001b[1;33m(\u001b[0m\u001b[0mgobad\u001b[0m\u001b[1;33m(\u001b[0m\u001b[0mx\u001b[0m\u001b[1;33m,\u001b[0m \u001b[1;36m0\u001b[0m\u001b[1;33m)\u001b[0m\u001b[1;33m)\u001b[0m\u001b[1;33m\u001b[0m\u001b[1;33m\u001b[0m\u001b[0m\n\u001b[1;32m----> 5\u001b[1;33m \u001b[0mgosouth\u001b[0m\u001b[1;33m(\u001b[0m\u001b[1;36m1\u001b[0m\u001b[1;33m)\u001b[0m\u001b[1;33m\u001b[0m\u001b[1;33m\u001b[0m\u001b[0m\n\u001b[0m",
      "\u001b[1;32m<ipython-input-1-ff611e01a888>\u001b[0m in \u001b[0;36mgosouth\u001b[1;34m(x)\u001b[0m\n\u001b[0;32m      2\u001b[0m     \u001b[1;32mreturn\u001b[0m \u001b[0mx\u001b[0m \u001b[1;33m/\u001b[0m \u001b[0my\u001b[0m\u001b[1;33m\u001b[0m\u001b[1;33m\u001b[0m\u001b[0m\n\u001b[0;32m      3\u001b[0m \u001b[1;32mdef\u001b[0m \u001b[0mgosouth\u001b[0m\u001b[1;33m(\u001b[0m\u001b[0mx\u001b[0m\u001b[1;33m)\u001b[0m\u001b[1;33m:\u001b[0m\u001b[1;33m\u001b[0m\u001b[1;33m\u001b[0m\u001b[0m\n\u001b[1;32m----> 4\u001b[1;33m     \u001b[0mprint\u001b[0m\u001b[1;33m(\u001b[0m\u001b[0mgobad\u001b[0m\u001b[1;33m(\u001b[0m\u001b[0mx\u001b[0m\u001b[1;33m,\u001b[0m \u001b[1;36m0\u001b[0m\u001b[1;33m)\u001b[0m\u001b[1;33m)\u001b[0m\u001b[1;33m\u001b[0m\u001b[1;33m\u001b[0m\u001b[0m\n\u001b[0m\u001b[0;32m      5\u001b[0m \u001b[0mgosouth\u001b[0m\u001b[1;33m(\u001b[0m\u001b[1;36m1\u001b[0m\u001b[1;33m)\u001b[0m\u001b[1;33m\u001b[0m\u001b[1;33m\u001b[0m\u001b[0m\n",
      "\u001b[1;32m<ipython-input-1-ff611e01a888>\u001b[0m in \u001b[0;36mgobad\u001b[1;34m(x, y)\u001b[0m\n\u001b[0;32m      1\u001b[0m \u001b[1;32mdef\u001b[0m \u001b[0mgobad\u001b[0m\u001b[1;33m(\u001b[0m\u001b[0mx\u001b[0m\u001b[1;33m,\u001b[0m \u001b[0my\u001b[0m\u001b[1;33m)\u001b[0m\u001b[1;33m:\u001b[0m\u001b[1;33m\u001b[0m\u001b[1;33m\u001b[0m\u001b[0m\n\u001b[1;32m----> 2\u001b[1;33m     \u001b[1;32mreturn\u001b[0m \u001b[0mx\u001b[0m \u001b[1;33m/\u001b[0m \u001b[0my\u001b[0m\u001b[1;33m\u001b[0m\u001b[1;33m\u001b[0m\u001b[0m\n\u001b[0m\u001b[0;32m      3\u001b[0m \u001b[1;32mdef\u001b[0m \u001b[0mgosouth\u001b[0m\u001b[1;33m(\u001b[0m\u001b[0mx\u001b[0m\u001b[1;33m)\u001b[0m\u001b[1;33m:\u001b[0m\u001b[1;33m\u001b[0m\u001b[1;33m\u001b[0m\u001b[0m\n\u001b[0;32m      4\u001b[0m     \u001b[0mprint\u001b[0m\u001b[1;33m(\u001b[0m\u001b[0mgobad\u001b[0m\u001b[1;33m(\u001b[0m\u001b[0mx\u001b[0m\u001b[1;33m,\u001b[0m \u001b[1;36m0\u001b[0m\u001b[1;33m)\u001b[0m\u001b[1;33m)\u001b[0m\u001b[1;33m\u001b[0m\u001b[1;33m\u001b[0m\u001b[0m\n\u001b[0;32m      5\u001b[0m \u001b[0mgosouth\u001b[0m\u001b[1;33m(\u001b[0m\u001b[1;36m1\u001b[0m\u001b[1;33m)\u001b[0m\u001b[1;33m\u001b[0m\u001b[1;33m\u001b[0m\u001b[0m\n",
      "\u001b[1;31mZeroDivisionError\u001b[0m: division by zero"
     ]
    }
   ],
   "source": [
    "def gobad(x, y):\n",
    "    return x / y\n",
    "def gosouth(x):\n",
    "    print(gobad(x, 0))\n",
    "gosouth(1)"
   ]
  },
  {
   "cell_type": "code",
   "execution_count": 5,
   "metadata": {},
   "outputs": [
    {
     "name": "stdout",
     "output_type": "stream",
     "text": [
      "Witaj, świecie!\n",
      "wznowienie tutaj\n"
     ]
    }
   ],
   "source": [
    "try:\n",
    "    [0,1,2] + \"mielonka\"                     # wywolanie wyjatku TypeError\n",
    "except TypeError:                            # Przechwycenie błędu i poradzenie sobie z nim\n",
    "    print('Witaj, świecie!')\n",
    "print('wznowienie tutaj')                    # Kontynuacja bez względu na wystąpienie wyjątku"
   ]
  },
  {
   "cell_type": "code",
   "execution_count": 6,
   "metadata": {},
   "outputs": [],
   "source": [
    "class MyError(Exception): pass"
   ]
  },
  {
   "cell_type": "code",
   "execution_count": 7,
   "metadata": {},
   "outputs": [],
   "source": [
    "def stuff(file):\n",
    "    raise MyError()"
   ]
  },
  {
   "cell_type": "code",
   "execution_count": 8,
   "metadata": {},
   "outputs": [],
   "source": [
    "file = open('data', 'w')"
   ]
  },
  {
   "cell_type": "code",
   "execution_count": 9,
   "metadata": {},
   "outputs": [
    {
     "ename": "MyError",
     "evalue": "",
     "output_type": "error",
     "traceback": [
      "\u001b[1;31m---------------------------------------------------------------------------\u001b[0m",
      "\u001b[1;31mMyError\u001b[0m                                   Traceback (most recent call last)",
      "\u001b[1;32m<ipython-input-9-90cfec8303c4>\u001b[0m in \u001b[0;36m<module>\u001b[1;34m\u001b[0m\n\u001b[0;32m      1\u001b[0m \u001b[1;32mtry\u001b[0m\u001b[1;33m:\u001b[0m\u001b[1;33m\u001b[0m\u001b[1;33m\u001b[0m\u001b[0m\n\u001b[1;32m----> 2\u001b[1;33m     \u001b[0mstuff\u001b[0m\u001b[1;33m(\u001b[0m\u001b[0mfile\u001b[0m\u001b[1;33m)\u001b[0m    \u001b[1;31m# zgloszenie wyjatku\u001b[0m\u001b[1;33m\u001b[0m\u001b[1;33m\u001b[0m\u001b[0m\n\u001b[0m\u001b[0;32m      3\u001b[0m \u001b[1;32mfinally\u001b[0m\u001b[1;33m:\u001b[0m\u001b[1;33m\u001b[0m\u001b[1;33m\u001b[0m\u001b[0m\n\u001b[0;32m      4\u001b[0m     \u001b[0mfile\u001b[0m\u001b[1;33m.\u001b[0m\u001b[0mclose\u001b[0m\u001b[1;33m(\u001b[0m\u001b[1;33m)\u001b[0m    \u001b[1;31m# zamkniecie pliku w celu wyczyszczenia bufora wyjscia, bez wzgledu na to czy poprzednie zadania sie powiodly\u001b[0m\u001b[1;33m\u001b[0m\u001b[1;33m\u001b[0m\u001b[0m\n\u001b[0;32m      5\u001b[0m \u001b[0mprint\u001b[0m\u001b[1;33m(\u001b[0m\u001b[1;34m'nie doszlismy tutaj'\u001b[0m\u001b[1;33m)\u001b[0m   \u001b[1;31m# kontynuacja tutaj, tylko jesli nie doszlo do wyjątku\u001b[0m\u001b[1;33m\u001b[0m\u001b[1;33m\u001b[0m\u001b[0m\n",
      "\u001b[1;32m<ipython-input-7-06da44b0fbf3>\u001b[0m in \u001b[0;36mstuff\u001b[1;34m(file)\u001b[0m\n\u001b[0;32m      1\u001b[0m \u001b[1;32mdef\u001b[0m \u001b[0mstuff\u001b[0m\u001b[1;33m(\u001b[0m\u001b[0mfile\u001b[0m\u001b[1;33m)\u001b[0m\u001b[1;33m:\u001b[0m\u001b[1;33m\u001b[0m\u001b[1;33m\u001b[0m\u001b[0m\n\u001b[1;32m----> 2\u001b[1;33m     \u001b[1;32mraise\u001b[0m \u001b[0mMyError\u001b[0m\u001b[1;33m(\u001b[0m\u001b[1;33m)\u001b[0m\u001b[1;33m\u001b[0m\u001b[1;33m\u001b[0m\u001b[0m\n\u001b[0m",
      "\u001b[1;31mMyError\u001b[0m: "
     ]
    }
   ],
   "source": [
    "try:\n",
    "    stuff(file)    # zgloszenie wyjatku\n",
    "finally:\n",
    "    file.close()    # zamkniecie pliku w celu wyczyszczenia bufora wyjscia, bez wzgledu na to czy poprzednie zadania sie powiodly\n",
    "print('nie doszlismy tutaj')   # kontynuacja tutaj, tylko jesli nie doszlo do wyjątku"
   ]
  },
  {
   "cell_type": "code",
   "execution_count": 16,
   "metadata": {},
   "outputs": [
    {
     "name": "stdout",
     "output_type": "stream",
     "text": [
      "wykonano except\n",
      "wykonano finally\n",
      "kontynuacja po wyjsciu z bloku try\n"
     ]
    }
   ],
   "source": [
    "# wyjątek zgłoszony i przechwycony:\n",
    "try:\n",
    "    x = 'spam'[99]\n",
    "except IndexError:\n",
    "    print('wykonano except')\n",
    "finally:\n",
    "    print('wykonano finally')\n",
    "print('kontynuacja po wyjsciu z bloku try')"
   ]
  },
  {
   "cell_type": "code",
   "execution_count": 13,
   "metadata": {},
   "outputs": [
    {
     "name": "stdout",
     "output_type": "stream",
     "text": [
      "wykonano finally\n",
      "kontynuacja po wyjsciu z bloku try\n"
     ]
    }
   ],
   "source": [
    "# wyjątek nie został zgłoszony:\n",
    "try:\n",
    "    x = 'spam'[3]\n",
    "except IndexError:\n",
    "    print('wykonano except')\n",
    "finally:\n",
    "    print('wykonano finally')\n",
    "print('kontynuacja po wyjsciu z bloku try')"
   ]
  },
  {
   "cell_type": "code",
   "execution_count": 14,
   "metadata": {},
   "outputs": [
    {
     "name": "stdout",
     "output_type": "stream",
     "text": [
      "wykonano except\n",
      "wykonano finally\n",
      "kontynuacja po wyjsciu z bloku try\n"
     ]
    }
   ],
   "source": [
    "# wyjątek nie został zgłoszony, wykonano else:\n",
    "try:\n",
    "    x = 'spam'[99]\n",
    "except IndexError:\n",
    "    print('wykonano except')\n",
    "else:\n",
    "    print('wykonano else')\n",
    "finally:\n",
    "    print('wykonano finally')\n",
    "print('kontynuacja po wyjsciu z bloku try')"
   ]
  },
  {
   "cell_type": "code",
   "execution_count": 15,
   "metadata": {},
   "outputs": [
    {
     "name": "stdout",
     "output_type": "stream",
     "text": [
      "wykonano finally\n"
     ]
    },
    {
     "ename": "ZeroDivisionError",
     "evalue": "division by zero",
     "output_type": "error",
     "traceback": [
      "\u001b[1;31m---------------------------------------------------------------------------\u001b[0m",
      "\u001b[1;31mZeroDivisionError\u001b[0m                         Traceback (most recent call last)",
      "\u001b[1;32m<ipython-input-15-3183c81f930b>\u001b[0m in \u001b[0;36m<module>\u001b[1;34m\u001b[0m\n\u001b[0;32m      1\u001b[0m \u001b[1;32mtry\u001b[0m\u001b[1;33m:\u001b[0m\u001b[1;33m\u001b[0m\u001b[1;33m\u001b[0m\u001b[0m\n\u001b[1;32m----> 2\u001b[1;33m     \u001b[0mx\u001b[0m \u001b[1;33m=\u001b[0m \u001b[1;36m1\u001b[0m\u001b[1;33m/\u001b[0m\u001b[1;36m0\u001b[0m\u001b[1;33m\u001b[0m\u001b[1;33m\u001b[0m\u001b[0m\n\u001b[0m\u001b[0;32m      3\u001b[0m \u001b[1;32mexcept\u001b[0m \u001b[0mIndexError\u001b[0m\u001b[1;33m:\u001b[0m\u001b[1;33m\u001b[0m\u001b[1;33m\u001b[0m\u001b[0m\n\u001b[0;32m      4\u001b[0m     \u001b[0mprint\u001b[0m\u001b[1;33m(\u001b[0m\u001b[1;34m'wykonano except'\u001b[0m\u001b[1;33m)\u001b[0m\u001b[1;33m\u001b[0m\u001b[1;33m\u001b[0m\u001b[0m\n\u001b[0;32m      5\u001b[0m \u001b[1;32mfinally\u001b[0m\u001b[1;33m:\u001b[0m\u001b[1;33m\u001b[0m\u001b[1;33m\u001b[0m\u001b[0m\n",
      "\u001b[1;31mZeroDivisionError\u001b[0m: division by zero"
     ]
    }
   ],
   "source": [
    "# wyjątek zgłoszony, ale nie przechwycony:\n",
    "try:\n",
    "    x = 1/0\n",
    "except IndexError:\n",
    "    print('wykonano except')\n",
    "finally:\n",
    "    print('wykonano finally')\n",
    "print('kontynuacja po wyjsciu z bloku try')"
   ]
  },
  {
   "cell_type": "markdown",
   "metadata": {},
   "source": [
    "### INSTRUKCJA RAISE: służy do ręcznego wywołania wyjątku. Opcjonalnie można użyć klasy wyjątku lub jej instancji.\n",
    "    raise NazwaWyjątku                            # Zgłoszenie instancji klasy\n",
    "    raise NazwaWyjątku()                          # Utworzenie i zgłoszenie instancji klasy\n",
    "    raise                                         # Ponowne zgłoszenie ostatniego wyjątku\n",
    "    raise wyjątek from inny_wyjątek"
   ]
  },
  {
   "cell_type": "code",
   "execution_count": 1,
   "metadata": {},
   "outputs": [
    {
     "name": "stdout",
     "output_type": "stream",
     "text": [
      "przekazywanie wyjatku\n"
     ]
    },
    {
     "ename": "IndexError",
     "evalue": "błąd",
     "output_type": "error",
     "traceback": [
      "\u001b[1;31m---------------------------------------------------------------------------\u001b[0m",
      "\u001b[1;31mIndexError\u001b[0m                                Traceback (most recent call last)",
      "\u001b[1;32m<ipython-input-1-f4f1e916919b>\u001b[0m in \u001b[0;36m<module>\u001b[1;34m\u001b[0m\n\u001b[0;32m      1\u001b[0m \u001b[1;32mtry\u001b[0m\u001b[1;33m:\u001b[0m\u001b[1;33m\u001b[0m\u001b[1;33m\u001b[0m\u001b[0m\n\u001b[1;32m----> 2\u001b[1;33m     \u001b[1;32mraise\u001b[0m \u001b[0mIndexError\u001b[0m\u001b[1;33m(\u001b[0m\u001b[1;34m'błąd'\u001b[0m\u001b[1;33m)\u001b[0m\u001b[1;33m\u001b[0m\u001b[1;33m\u001b[0m\u001b[0m\n\u001b[0m\u001b[0;32m      3\u001b[0m \u001b[1;32mexcept\u001b[0m \u001b[0mIndexError\u001b[0m\u001b[1;33m:\u001b[0m\u001b[1;33m\u001b[0m\u001b[1;33m\u001b[0m\u001b[0m\n\u001b[0;32m      4\u001b[0m     \u001b[0mprint\u001b[0m\u001b[1;33m(\u001b[0m\u001b[1;34m'przekazywanie wyjatku'\u001b[0m\u001b[1;33m)\u001b[0m\u001b[1;33m\u001b[0m\u001b[1;33m\u001b[0m\u001b[0m\n\u001b[0;32m      5\u001b[0m     \u001b[1;32mraise\u001b[0m                                  \u001b[1;31m# ponowne zgloszenie ostatniego wyjątku\u001b[0m\u001b[1;33m\u001b[0m\u001b[1;33m\u001b[0m\u001b[0m\n",
      "\u001b[1;31mIndexError\u001b[0m: błąd"
     ]
    }
   ],
   "source": [
    "try:\n",
    "    raise IndexError('błąd')\n",
    "except IndexError:\n",
    "    print('przekazywanie wyjatku')\n",
    "    raise                                  # ponowne zgloszenie ostatniego wyjątku"
   ]
  },
  {
   "cell_type": "markdown",
   "metadata": {},
   "source": [
    "### INSTRUKCJA ASSERT: \n",
    "    assert <test>, <dane>      # sekcja <dane> jest opcjonalna  \n",
    "    \n",
    "czyli:  \n",
    "jeśli `<test>` okaże się fałszem, to Python ma zgłosić wyjątek. `<dane>` staje się argumentem konstruktora wyjątku.  \n",
    "Wtedy zgłoszony `AssertionError` zakończy działanie programu. Jeśli przechwycimy go za pomocą instrukcji `try`, element `<dane>` zostanie wyświetlony jako część komunikatu o błędzie."
   ]
  },
  {
   "cell_type": "code",
   "execution_count": 1,
   "metadata": {},
   "outputs": [],
   "source": [
    "def a(x):\n",
    "    assert x < 0, 'x musi być ujemne'\n",
    "    return x**2"
   ]
  },
  {
   "cell_type": "code",
   "execution_count": 2,
   "metadata": {},
   "outputs": [
    {
     "ename": "AssertionError",
     "evalue": "x musi być ujemne",
     "output_type": "error",
     "traceback": [
      "\u001b[1;31m---------------------------------------------------------------------------\u001b[0m",
      "\u001b[1;31mAssertionError\u001b[0m                            Traceback (most recent call last)",
      "\u001b[1;32m<ipython-input-2-5645faaf81f3>\u001b[0m in \u001b[0;36m<module>\u001b[1;34m\u001b[0m\n\u001b[1;32m----> 1\u001b[1;33m \u001b[0ma\u001b[0m\u001b[1;33m(\u001b[0m\u001b[1;36m1\u001b[0m\u001b[1;33m)\u001b[0m\u001b[1;33m\u001b[0m\u001b[1;33m\u001b[0m\u001b[0m\n\u001b[0m",
      "\u001b[1;32m<ipython-input-1-a0ae5e556f7b>\u001b[0m in \u001b[0;36ma\u001b[1;34m(x)\u001b[0m\n\u001b[0;32m      1\u001b[0m \u001b[1;32mdef\u001b[0m \u001b[0ma\u001b[0m\u001b[1;33m(\u001b[0m\u001b[0mx\u001b[0m\u001b[1;33m)\u001b[0m\u001b[1;33m:\u001b[0m\u001b[1;33m\u001b[0m\u001b[1;33m\u001b[0m\u001b[0m\n\u001b[1;32m----> 2\u001b[1;33m     \u001b[1;32massert\u001b[0m \u001b[0mx\u001b[0m \u001b[1;33m<\u001b[0m \u001b[1;36m0\u001b[0m\u001b[1;33m,\u001b[0m \u001b[1;34m'x musi być ujemne'\u001b[0m\u001b[1;33m\u001b[0m\u001b[1;33m\u001b[0m\u001b[0m\n\u001b[0m\u001b[0;32m      3\u001b[0m     \u001b[1;32mreturn\u001b[0m \u001b[0mx\u001b[0m\u001b[1;33m**\u001b[0m\u001b[1;36m2\u001b[0m\u001b[1;33m\u001b[0m\u001b[1;33m\u001b[0m\u001b[0m\n",
      "\u001b[1;31mAssertionError\u001b[0m: x musi być ujemne"
     ]
    }
   ],
   "source": [
    "a(1)"
   ]
  }
 ],
 "metadata": {
  "kernelspec": {
   "display_name": "Python 3",
   "language": "python",
   "name": "python3"
  },
  "language_info": {
   "codemirror_mode": {
    "name": "ipython",
    "version": 3
   },
   "file_extension": ".py",
   "mimetype": "text/x-python",
   "name": "python",
   "nbconvert_exporter": "python",
   "pygments_lexer": "ipython3",
   "version": "3.8.1"
  }
 },
 "nbformat": 4,
 "nbformat_minor": 4
}
